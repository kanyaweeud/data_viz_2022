{
  "nbformat": 4,
  "nbformat_minor": 0,
  "metadata": {
    "colab": {
      "name": "Data Structure.ipynb",
      "provenance": [],
      "authorship_tag": "ABX9TyMy1YIdUjPWi7L3s0ozAv8i",
      "include_colab_link": true
    },
    "kernelspec": {
      "name": "python3",
      "display_name": "Python 3"
    },
    "language_info": {
      "name": "python"
    }
  },
  "cells": [
    {
      "cell_type": "markdown",
      "metadata": {
        "id": "view-in-github",
        "colab_type": "text"
      },
      "source": [
        "<a href=\"https://colab.research.google.com/github/kanyaweeud/data_viz_2022/blob/main/Data_Structure.ipynb\" target=\"_parent\"><img src=\"https://colab.research.google.com/assets/colab-badge.svg\" alt=\"Open In Colab\"/></a>"
      ]
    },
    {
      "cell_type": "markdown",
      "source": [
        "# **Data Structure (โครงสร้างข้อมูล)**\n",
        "การเก็บข้อมูลหลาย ๆ ตัวไว้ด้วยกันอย่างเป็นระเบียบ"
      ],
      "metadata": {
        "id": "OfmK0jbN5516"
      }
    },
    {
      "cell_type": "markdown",
      "source": [
        "## **list( )**\n",
        "1. เก็บอะไรก็ได้\n",
        "2. ลำดับในการเก็บ มีความสำคัญ"
      ],
      "metadata": {
        "id": "Huzj7vdp6VY_"
      }
    },
    {
      "cell_type": "code",
      "source": [
        "list_a = [1,2,3,4,5,6]    #[ ] square brackets"
      ],
      "metadata": {
        "id": "dRH8Vkax6Rxj"
      },
      "execution_count": 5,
      "outputs": []
    },
    {
      "cell_type": "code",
      "execution_count": 6,
      "metadata": {
        "colab": {
          "base_uri": "https://localhost:8080/"
        },
        "id": "sG_DxoTC4zUs",
        "outputId": "7d14e6b0-1b5e-4929-9368-6bf7c6b0d3bd"
      },
      "outputs": [
        {
          "output_type": "execute_result",
          "data": {
            "text/plain": [
              "[1, 2, 3, 4, 5, 6]"
            ]
          },
          "metadata": {},
          "execution_count": 6
        }
      ],
      "source": [
        "list_a"
      ]
    },
    {
      "cell_type": "code",
      "source": [
        "list_b = ['ab' , 2 , 3.14 , list_a]"
      ],
      "metadata": {
        "id": "yIgVi1zv67PM"
      },
      "execution_count": 7,
      "outputs": []
    },
    {
      "cell_type": "code",
      "source": [
        "list_b"
      ],
      "metadata": {
        "colab": {
          "base_uri": "https://localhost:8080/"
        },
        "id": "OjvTj5EN7G5s",
        "outputId": "2e5fab91-498b-4451-d82f-575ac4a4f3ae"
      },
      "execution_count": 8,
      "outputs": [
        {
          "output_type": "execute_result",
          "data": {
            "text/plain": [
              "['ab', 2, 3.14, [1, 2, 3, 4, 5, 6]]"
            ]
          },
          "metadata": {},
          "execution_count": 8
        }
      ]
    },
    {
      "cell_type": "markdown",
      "source": [
        "**[3] = สมาชิกตัวที่ 3 โดยนับจาก 0**"
      ],
      "metadata": {
        "id": "d6SUPHS77mij"
      }
    },
    {
      "cell_type": "code",
      "source": [
        "list_a[3]"
      ],
      "metadata": {
        "colab": {
          "base_uri": "https://localhost:8080/"
        },
        "id": "K3vPKCqX7eNn",
        "outputId": "8e0a9308-3827-42b9-d2b9-1f9b48a89ebe"
      },
      "execution_count": 9,
      "outputs": [
        {
          "output_type": "execute_result",
          "data": {
            "text/plain": [
              "4"
            ]
          },
          "metadata": {},
          "execution_count": 9
        }
      ]
    },
    {
      "cell_type": "code",
      "source": [
        "list_b[3]"
      ],
      "metadata": {
        "colab": {
          "base_uri": "https://localhost:8080/"
        },
        "id": "dYWU6aVF74Sn",
        "outputId": "998af16c-d390-4e28-d273-46a678b79ebe"
      },
      "execution_count": 10,
      "outputs": [
        {
          "output_type": "execute_result",
          "data": {
            "text/plain": [
              "[1, 2, 3, 4, 5, 6]"
            ]
          },
          "metadata": {},
          "execution_count": 10
        }
      ]
    },
    {
      "cell_type": "markdown",
      "source": [
        "**ชี้สมาชิกใน list ด้วยเลขลำดับของ list = Indexing**"
      ],
      "metadata": {
        "id": "HIZPdcat8Iwg"
      }
    },
    {
      "cell_type": "code",
      "source": [
        "list_b[3][4]"
      ],
      "metadata": {
        "colab": {
          "base_uri": "https://localhost:8080/"
        },
        "id": "SmYGpzwc784h",
        "outputId": "a2196231-a103-49df-cf6a-3255f1acf7f0"
      },
      "execution_count": 11,
      "outputs": [
        {
          "output_type": "execute_result",
          "data": {
            "text/plain": [
              "5"
            ]
          },
          "metadata": {},
          "execution_count": 11
        }
      ]
    },
    {
      "cell_type": "markdown",
      "source": [
        "**index - 1 = ตัวสุดท้ายของ list**\n",
        "(บางทีทำงานไป ขนาดของ list อาจจะเลื่อน)"
      ],
      "metadata": {
        "id": "rHZwjbEh8sd1"
      }
    },
    {
      "cell_type": "code",
      "source": [
        "list_a[-1]"
      ],
      "metadata": {
        "colab": {
          "base_uri": "https://localhost:8080/"
        },
        "id": "Qo4jCAgD8Wfr",
        "outputId": "f9214a1e-192d-46e3-ed52-eb9e84c88fc9"
      },
      "execution_count": 12,
      "outputs": [
        {
          "output_type": "execute_result",
          "data": {
            "text/plain": [
              "6"
            ]
          },
          "metadata": {},
          "execution_count": 12
        }
      ]
    },
    {
      "cell_type": "code",
      "source": [
        "list_a[-4]"
      ],
      "metadata": {
        "colab": {
          "base_uri": "https://localhost:8080/"
        },
        "id": "UZQG8XET9Js8",
        "outputId": "cc0996e5-2258-474b-9774-72ebcf0d24ff"
      },
      "execution_count": 13,
      "outputs": [
        {
          "output_type": "execute_result",
          "data": {
            "text/plain": [
              "3"
            ]
          },
          "metadata": {},
          "execution_count": 13
        }
      ]
    },
    {
      "cell_type": "markdown",
      "source": [
        "# **การสร้าง List**"
      ],
      "metadata": {
        "id": "ETJ_qsVC9fzl"
      }
    },
    {
      "cell_type": "markdown",
      "source": [
        "**แบบที่ 1**"
      ],
      "metadata": {
        "id": "-Nk0Rptu9k27"
      }
    },
    {
      "cell_type": "code",
      "source": [
        "list_x1 = []"
      ],
      "metadata": {
        "id": "meqxvl9p9kCw"
      },
      "execution_count": 14,
      "outputs": []
    },
    {
      "cell_type": "markdown",
      "source": [
        "**แบบที่ 2**"
      ],
      "metadata": {
        "id": "QpymOn0r904_"
      }
    },
    {
      "cell_type": "code",
      "source": [
        "list_x2 = list()"
      ],
      "metadata": {
        "id": "Dd3QwcHA94AO"
      },
      "execution_count": 15,
      "outputs": []
    },
    {
      "cell_type": "markdown",
      "source": [
        "**เอามาเทียบกัน**"
      ],
      "metadata": {
        "id": "ucoqEwnj-B1A"
      }
    },
    {
      "cell_type": "code",
      "source": [
        "print(list_x1)\n",
        "print(list_x2)"
      ],
      "metadata": {
        "colab": {
          "base_uri": "https://localhost:8080/"
        },
        "id": "1Zls4nI69_io",
        "outputId": "cd0b500c-d67f-44a1-a4cc-27b7ecd32aad"
      },
      "execution_count": 16,
      "outputs": [
        {
          "output_type": "stream",
          "name": "stdout",
          "text": [
            "[]\n",
            "[]\n"
          ]
        }
      ]
    },
    {
      "cell_type": "markdown",
      "source": [
        "# **เพิ่มสมาชิกเข้าไปใน list ด้วย append( )**"
      ],
      "metadata": {
        "id": "jScU3YVn-NVK"
      }
    },
    {
      "cell_type": "code",
      "source": [
        "list_x1.append(2)"
      ],
      "metadata": {
        "id": "FkjmaKq3-jxM"
      },
      "execution_count": 17,
      "outputs": []
    },
    {
      "cell_type": "code",
      "source": [
        "list_x1"
      ],
      "metadata": {
        "colab": {
          "base_uri": "https://localhost:8080/"
        },
        "id": "baXcRYgR-REb",
        "outputId": "019971d7-9af4-4fac-8f48-07fd79ab4dd4"
      },
      "execution_count": 18,
      "outputs": [
        {
          "output_type": "execute_result",
          "data": {
            "text/plain": [
              "[2]"
            ]
          },
          "metadata": {},
          "execution_count": 18
        }
      ]
    },
    {
      "cell_type": "code",
      "source": [
        "list_x1.append(4)\n",
        "print(list_x1)"
      ],
      "metadata": {
        "colab": {
          "base_uri": "https://localhost:8080/"
        },
        "id": "OBYNvhMS-rcO",
        "outputId": "c1a8fd17-bd6e-4639-ac18-c8736281c11e"
      },
      "execution_count": 19,
      "outputs": [
        {
          "output_type": "stream",
          "name": "stdout",
          "text": [
            "[2, 4]\n"
          ]
        }
      ]
    },
    {
      "cell_type": "code",
      "source": [
        "list_x1[-1]"
      ],
      "metadata": {
        "colab": {
          "base_uri": "https://localhost:8080/"
        },
        "id": "qXpZdlRu_EE6",
        "outputId": "49521a43-c7aa-4a84-d59b-4a3188b74856"
      },
      "execution_count": 20,
      "outputs": [
        {
          "output_type": "execute_result",
          "data": {
            "text/plain": [
              "4"
            ]
          },
          "metadata": {},
          "execution_count": 20
        }
      ]
    },
    {
      "cell_type": "code",
      "source": [
        "list_x2"
      ],
      "metadata": {
        "colab": {
          "base_uri": "https://localhost:8080/"
        },
        "id": "xyr4tOgf_JgM",
        "outputId": "5e2215db-20de-4e73-9deb-27d30414fe33"
      },
      "execution_count": 21,
      "outputs": [
        {
          "output_type": "execute_result",
          "data": {
            "text/plain": [
              "[]"
            ]
          },
          "metadata": {},
          "execution_count": 21
        }
      ]
    },
    {
      "cell_type": "code",
      "source": [
        "list_x2.append('ha')"
      ],
      "metadata": {
        "id": "y-YhAEAp_n-l"
      },
      "execution_count": 22,
      "outputs": []
    },
    {
      "cell_type": "code",
      "source": [
        "list_x2"
      ],
      "metadata": {
        "colab": {
          "base_uri": "https://localhost:8080/"
        },
        "id": "KkQosJwn_sVf",
        "outputId": "27347960-f1b9-4ed2-de25-3daa0fdbd439"
      },
      "execution_count": 23,
      "outputs": [
        {
          "output_type": "execute_result",
          "data": {
            "text/plain": [
              "['ha']"
            ]
          },
          "metadata": {},
          "execution_count": 23
        }
      ]
    },
    {
      "cell_type": "markdown",
      "source": [
        "# **ลบสมาชิกจาก List**"
      ],
      "metadata": {
        "id": "wMMXONazAQPw"
      }
    },
    {
      "cell_type": "code",
      "source": [
        "list_x1.append('ha')"
      ],
      "metadata": {
        "id": "JLSmnOkuAVL9"
      },
      "execution_count": 24,
      "outputs": []
    },
    {
      "cell_type": "code",
      "source": [
        "list_x1"
      ],
      "metadata": {
        "colab": {
          "base_uri": "https://localhost:8080/"
        },
        "id": "Mn2Un-aGAngt",
        "outputId": "da9ebd40-b4cf-440d-f13e-b89cdb4adb7d"
      },
      "execution_count": 25,
      "outputs": [
        {
          "output_type": "execute_result",
          "data": {
            "text/plain": [
              "[2, 4, 'ha']"
            ]
          },
          "metadata": {},
          "execution_count": 25
        }
      ]
    },
    {
      "cell_type": "code",
      "source": [
        "list_x1.pop()"
      ],
      "metadata": {
        "colab": {
          "base_uri": "https://localhost:8080/",
          "height": 0
        },
        "id": "5Xec-NgKAo7-",
        "outputId": "e70fb4e1-1f9d-4910-c7ca-5d40ad810707"
      },
      "execution_count": 26,
      "outputs": [
        {
          "output_type": "execute_result",
          "data": {
            "application/vnd.google.colaboratory.intrinsic+json": {
              "type": "string"
            },
            "text/plain": [
              "'ha'"
            ]
          },
          "metadata": {},
          "execution_count": 26
        }
      ]
    },
    {
      "cell_type": "code",
      "source": [
        "list_x1"
      ],
      "metadata": {
        "colab": {
          "base_uri": "https://localhost:8080/"
        },
        "id": "kHOC76LHAtJq",
        "outputId": "dee0963f-758e-4798-d827-1db631370f58"
      },
      "execution_count": 27,
      "outputs": [
        {
          "output_type": "execute_result",
          "data": {
            "text/plain": [
              "[2, 4]"
            ]
          },
          "metadata": {},
          "execution_count": 27
        }
      ]
    },
    {
      "cell_type": "code",
      "source": [
        "list_x1.pop()\n",
        "print(list_x1)"
      ],
      "metadata": {
        "colab": {
          "base_uri": "https://localhost:8080/"
        },
        "id": "0lqhak5-Awbb",
        "outputId": "cd422ff3-809b-4df6-fb96-62a67ef3ce22"
      },
      "execution_count": 28,
      "outputs": [
        {
          "output_type": "stream",
          "name": "stdout",
          "text": [
            "[2]\n"
          ]
        }
      ]
    },
    {
      "cell_type": "markdown",
      "source": [
        "# **len( ) ตรวจสอบจำนวนสมาชิกของ list**"
      ],
      "metadata": {
        "id": "9eq-K3yNB-sV"
      }
    },
    {
      "cell_type": "code",
      "source": [
        "print(list_b)\n",
        "print(len(list_b))"
      ],
      "metadata": {
        "colab": {
          "base_uri": "https://localhost:8080/"
        },
        "id": "xh2pOr8HBGYL",
        "outputId": "9c7da96e-c850-44dd-80e6-853141280081"
      },
      "execution_count": 29,
      "outputs": [
        {
          "output_type": "stream",
          "name": "stdout",
          "text": [
            "['ab', 2, 3.14, [1, 2, 3, 4, 5, 6]]\n",
            "4\n"
          ]
        }
      ]
    },
    {
      "cell_type": "code",
      "source": [
        "len(list_a)"
      ],
      "metadata": {
        "colab": {
          "base_uri": "https://localhost:8080/"
        },
        "id": "WQQ5atoGCZTG",
        "outputId": "70878311-61e8-43ec-ce15-01bf61b36a2b"
      },
      "execution_count": 30,
      "outputs": [
        {
          "output_type": "execute_result",
          "data": {
            "text/plain": [
              "6"
            ]
          },
          "metadata": {},
          "execution_count": 30
        }
      ]
    },
    {
      "cell_type": "markdown",
      "source": [
        "# **String is a life of characters**"
      ],
      "metadata": {
        "id": "y-N7ENvXC3A8"
      }
    },
    {
      "cell_type": "code",
      "source": [
        "st_stat = 'Department os Statictics, Faculty of Science'"
      ],
      "metadata": {
        "id": "zp2Jf7JLC8zW"
      },
      "execution_count": 31,
      "outputs": []
    },
    {
      "cell_type": "markdown",
      "source": [
        "**ตัวที่ 10 คือตัวอักษรอะไร**"
      ],
      "metadata": {
        "id": "bMUHVdhmDM88"
      }
    },
    {
      "cell_type": "code",
      "source": [
        "st_stat[10]"
      ],
      "metadata": {
        "colab": {
          "base_uri": "https://localhost:8080/",
          "height": 0
        },
        "id": "bfdcasEQDHe8",
        "outputId": "086b0d7b-2c7e-4444-bae3-50e0c31a045c"
      },
      "execution_count": 32,
      "outputs": [
        {
          "output_type": "execute_result",
          "data": {
            "application/vnd.google.colaboratory.intrinsic+json": {
              "type": "string"
            },
            "text/plain": [
              "' '"
            ]
          },
          "metadata": {},
          "execution_count": 32
        }
      ]
    },
    {
      "cell_type": "markdown",
      "source": [
        "**ตัวที่ 15 คือตัวอักษรอะไร**"
      ],
      "metadata": {
        "id": "ONQ5LNn3DRqo"
      }
    },
    {
      "cell_type": "code",
      "source": [
        "st_stat[15]"
      ],
      "metadata": {
        "colab": {
          "base_uri": "https://localhost:8080/",
          "height": 0
        },
        "id": "bTbEfvlhDV6j",
        "outputId": "0e190ae1-2505-4f4e-af85-59abeb7cb438"
      },
      "execution_count": 33,
      "outputs": [
        {
          "output_type": "execute_result",
          "data": {
            "application/vnd.google.colaboratory.intrinsic+json": {
              "type": "string"
            },
            "text/plain": [
              "'t'"
            ]
          },
          "metadata": {},
          "execution_count": 33
        }
      ]
    },
    {
      "cell_type": "markdown",
      "source": [
        "**นับจำนวนตัวอักษร**"
      ],
      "metadata": {
        "id": "HFyuU7eJDiav"
      }
    },
    {
      "cell_type": "code",
      "source": [
        "len(st_stat)"
      ],
      "metadata": {
        "colab": {
          "base_uri": "https://localhost:8080/"
        },
        "id": "Be-Pc3aFDfIr",
        "outputId": "2ed83895-d598-4cd5-e0dc-01c446f71a9c"
      },
      "execution_count": 34,
      "outputs": [
        {
          "output_type": "execute_result",
          "data": {
            "text/plain": [
              "44"
            ]
          },
          "metadata": {},
          "execution_count": 34
        }
      ]
    },
    {
      "cell_type": "markdown",
      "source": [
        "# **List Slicing**\n",
        "\n"
      ],
      "metadata": {
        "id": "Y3E1GYBNDnRr"
      }
    },
    {
      "cell_type": "markdown",
      "source": [
        "List[จุดเริ่มต้น(จะเป็นวงกลมทึบ) : จุดสุดท้าย(จะเป็นวงกลมโปร่ง)]"
      ],
      "metadata": {
        "id": "ufvWTyOOE_p8"
      }
    },
    {
      "cell_type": "markdown",
      "source": [
        "List[จุดเริ่มต้น(จะเป็นวงกลมโปร่ง) : จุดสุดท้าย (จะเป็นวงกลมทึบ) :step]"
      ],
      "metadata": {
        "id": "--Y3u-naFBFe"
      }
    },
    {
      "cell_type": "code",
      "source": [
        "list_a"
      ],
      "metadata": {
        "colab": {
          "base_uri": "https://localhost:8080/"
        },
        "id": "f0QE-esDDrN9",
        "outputId": "4e4d7cc3-a116-49ee-ea86-6b1ba28e2d20"
      },
      "execution_count": 35,
      "outputs": [
        {
          "output_type": "execute_result",
          "data": {
            "text/plain": [
              "[1, 2, 3, 4, 5, 6]"
            ]
          },
          "metadata": {},
          "execution_count": 35
        }
      ]
    },
    {
      "cell_type": "code",
      "source": [
        "list_a[2]"
      ],
      "metadata": {
        "colab": {
          "base_uri": "https://localhost:8080/"
        },
        "id": "rEMEz5-yD-17",
        "outputId": "a08a301a-6f38-4e27-8db9-79ca6d679926"
      },
      "execution_count": 36,
      "outputs": [
        {
          "output_type": "execute_result",
          "data": {
            "text/plain": [
              "3"
            ]
          },
          "metadata": {},
          "execution_count": 36
        }
      ]
    },
    {
      "cell_type": "markdown",
      "source": [
        "**Colon**"
      ],
      "metadata": {
        "id": "_G7Vhc1bG4a3"
      }
    },
    {
      "cell_type": "markdown",
      "source": [
        "จุดเริ่มต้น: = -3: = ดึงสมาชิก 3  ตัวสุดท้ายของ list"
      ],
      "metadata": {
        "id": "rSKAnVMuEQ-D"
      }
    },
    {
      "cell_type": "code",
      "source": [
        "list_a[-3:]"
      ],
      "metadata": {
        "colab": {
          "base_uri": "https://localhost:8080/"
        },
        "id": "_Cw0upj2EJVU",
        "outputId": "6e6b46e8-18d5-490c-aeb7-29954509782b"
      },
      "execution_count": 37,
      "outputs": [
        {
          "output_type": "execute_result",
          "data": {
            "text/plain": [
              "[4, 5, 6]"
            ]
          },
          "metadata": {},
          "execution_count": 37
        }
      ]
    },
    {
      "cell_type": "code",
      "source": [
        "list_a[1:4]"
      ],
      "metadata": {
        "colab": {
          "base_uri": "https://localhost:8080/"
        },
        "id": "4NFvO_bZEloU",
        "outputId": "ded9da9a-4c1f-49d0-8499-a3441bf1def1"
      },
      "execution_count": 38,
      "outputs": [
        {
          "output_type": "execute_result",
          "data": {
            "text/plain": [
              "[2, 3, 4]"
            ]
          },
          "metadata": {},
          "execution_count": 38
        }
      ]
    },
    {
      "cell_type": "code",
      "source": [
        "list_a[:4]"
      ],
      "metadata": {
        "colab": {
          "base_uri": "https://localhost:8080/"
        },
        "id": "I840SQjGGUyy",
        "outputId": "9960f049-2ace-4362-90f3-395534733eb0"
      },
      "execution_count": 39,
      "outputs": [
        {
          "output_type": "execute_result",
          "data": {
            "text/plain": [
              "[1, 2, 3, 4]"
            ]
          },
          "metadata": {},
          "execution_count": 39
        }
      ]
    },
    {
      "cell_type": "code",
      "source": [
        "list_a[:]"
      ],
      "metadata": {
        "colab": {
          "base_uri": "https://localhost:8080/"
        },
        "id": "ebKeb-ZaGg6C",
        "outputId": "184d36bf-0ed3-409c-d76c-311e5ca8dd3c"
      },
      "execution_count": 40,
      "outputs": [
        {
          "output_type": "execute_result",
          "data": {
            "text/plain": [
              "[1, 2, 3, 4, 5, 6]"
            ]
          },
          "metadata": {},
          "execution_count": 40
        }
      ]
    },
    {
      "cell_type": "markdown",
      "source": [
        "**step**"
      ],
      "metadata": {
        "id": "2robSAayGwZX"
      }
    },
    {
      "cell_type": "code",
      "source": [
        "list_c = [1,2,3,4,5,6,7,8,9,10,11,12,13]"
      ],
      "metadata": {
        "id": "2o68acOHGzaj"
      },
      "execution_count": 41,
      "outputs": []
    },
    {
      "cell_type": "code",
      "source": [
        "list_c[:10:]"
      ],
      "metadata": {
        "colab": {
          "base_uri": "https://localhost:8080/"
        },
        "id": "jbEw2qj9HHQS",
        "outputId": "9b5e917e-103d-45be-e393-93fe4228368b"
      },
      "execution_count": 42,
      "outputs": [
        {
          "output_type": "execute_result",
          "data": {
            "text/plain": [
              "[1, 2, 3, 4, 5, 6, 7, 8, 9, 10]"
            ]
          },
          "metadata": {},
          "execution_count": 42
        }
      ]
    },
    {
      "cell_type": "code",
      "source": [
        "list_c[:10:2]"
      ],
      "metadata": {
        "colab": {
          "base_uri": "https://localhost:8080/"
        },
        "id": "ARqnZYr8HWXr",
        "outputId": "a8fff70c-c1cc-4570-cd6a-35e4c485caf8"
      },
      "execution_count": 43,
      "outputs": [
        {
          "output_type": "execute_result",
          "data": {
            "text/plain": [
              "[1, 3, 5, 7, 9]"
            ]
          },
          "metadata": {},
          "execution_count": 43
        }
      ]
    },
    {
      "cell_type": "code",
      "source": [
        "list_c[::-1]"
      ],
      "metadata": {
        "colab": {
          "base_uri": "https://localhost:8080/"
        },
        "id": "HHy_6n0pHdac",
        "outputId": "4d043bbe-229e-43ad-ac7b-d79d8f9600df"
      },
      "execution_count": 44,
      "outputs": [
        {
          "output_type": "execute_result",
          "data": {
            "text/plain": [
              "[13, 12, 11, 10, 9, 8, 7, 6, 5, 4, 3, 2, 1]"
            ]
          },
          "metadata": {},
          "execution_count": 44
        }
      ]
    },
    {
      "cell_type": "markdown",
      "source": [
        "# **Range( )** วนลูป"
      ],
      "metadata": {
        "id": "EuWLgfHQHy3B"
      }
    },
    {
      "cell_type": "code",
      "source": [
        "range(21)"
      ],
      "metadata": {
        "colab": {
          "base_uri": "https://localhost:8080/"
        },
        "id": "3JXTawSpIMFE",
        "outputId": "3dbfbf19-8e73-4dfc-99be-f8995828861a"
      },
      "execution_count": 45,
      "outputs": [
        {
          "output_type": "execute_result",
          "data": {
            "text/plain": [
              "range(0, 21)"
            ]
          },
          "metadata": {},
          "execution_count": 45
        }
      ]
    },
    {
      "cell_type": "markdown",
      "source": [
        "เอามาทั้งหมด"
      ],
      "metadata": {
        "id": "QirYtLIwIxl2"
      }
    },
    {
      "cell_type": "code",
      "source": [
        "a = list(range(21))"
      ],
      "metadata": {
        "id": "VOluHXl9HyPT"
      },
      "execution_count": 46,
      "outputs": []
    },
    {
      "cell_type": "code",
      "source": [
        "a"
      ],
      "metadata": {
        "colab": {
          "base_uri": "https://localhost:8080/"
        },
        "id": "ATH0jehHIIGD",
        "outputId": "339330c1-7426-4892-aeb0-93146311fbcb"
      },
      "execution_count": 47,
      "outputs": [
        {
          "output_type": "execute_result",
          "data": {
            "text/plain": [
              "[0, 1, 2, 3, 4, 5, 6, 7, 8, 9, 10, 11, 12, 13, 14, 15, 16, 17, 18, 19, 20]"
            ]
          },
          "metadata": {},
          "execution_count": 47
        }
      ]
    },
    {
      "cell_type": "code",
      "source": [
        "list(range(1,21))"
      ],
      "metadata": {
        "colab": {
          "base_uri": "https://localhost:8080/"
        },
        "id": "r-W0NMjsIJNK",
        "outputId": "e057b7cd-9dbb-4c2c-c4bc-c4bfbdc93fab"
      },
      "execution_count": 48,
      "outputs": [
        {
          "output_type": "execute_result",
          "data": {
            "text/plain": [
              "[1, 2, 3, 4, 5, 6, 7, 8, 9, 10, 11, 12, 13, 14, 15, 16, 17, 18, 19, 20]"
            ]
          },
          "metadata": {},
          "execution_count": 48
        }
      ]
    },
    {
      "cell_type": "markdown",
      "source": [
        "# **HW 2**"
      ],
      "metadata": {
        "id": "CA8dOrOdI3WB"
      }
    },
    {
      "cell_type": "markdown",
      "source": [
        "คำนวณเวลาเป็นวินาทีของเวลาต่อไปนี้โดยใช้คำสั่ง split() ช่วย (print ออกมาให้สวยงาม)\n",
        "\n",
        "1. 12:30:35\n",
        "2. 13:41:07\n",
        "3. 09:11:50\n",
        "4. 21:30:15\n",
        "5. 03:10:15\n",
        "\n",
        "\n",
        "\n"
      ],
      "metadata": {
        "id": "pCVbsts6JLEJ"
      }
    },
    {
      "cell_type": "code",
      "source": [
        "#01:02:03 \n",
        "\n",
        "a = 1*60*60 + (2*60) + 3\n",
        "print(f'01:02:03 แปลงเป็นวินาที ได้เท่ากับ {a} วินาที')"
      ],
      "metadata": {
        "colab": {
          "base_uri": "https://localhost:8080/"
        },
        "id": "_ZbaKMp3JoN5",
        "outputId": "ea040b6e-b351-43cc-de2a-478a765ebe11"
      },
      "execution_count": 49,
      "outputs": [
        {
          "output_type": "stream",
          "name": "stdout",
          "text": [
            "01:02:03 แปลงเป็นวินาที ได้เท่ากับ 3723 วินาที\n"
          ]
        }
      ]
    },
    {
      "cell_type": "markdown",
      "source": [
        "**1. 12:30:35**"
      ],
      "metadata": {
        "id": "QDm_6scYDC1I"
      }
    },
    {
      "cell_type": "code",
      "source": [
        "b = (12*60*60) + (30*60) + 35\n",
        "print(f'12:30:35 แปลงเป็นวินาทีได้เท่ากับ {b} วินาที')"
      ],
      "metadata": {
        "id": "Yls4FFvuDgHx",
        "outputId": "0cf456fa-20d3-459a-d914-6b20dd9ed769",
        "colab": {
          "base_uri": "https://localhost:8080/"
        }
      },
      "execution_count": 50,
      "outputs": [
        {
          "output_type": "stream",
          "name": "stdout",
          "text": [
            "12:30:35 แปลงเป็นวินาทีได้เท่ากับ 45035 วินาที\n"
          ]
        }
      ]
    },
    {
      "cell_type": "markdown",
      "source": [
        "**2. 13:41:07**"
      ],
      "metadata": {
        "id": "3xLD9Jv2DkNR"
      }
    },
    {
      "cell_type": "code",
      "source": [
        "c = (13*60*60) + (41*60) + 7\n",
        "print(f'13:41:07 แปลงเป็นวินาทีได้เท่ากับ {c} วินาที')"
      ],
      "metadata": {
        "id": "yY_aykTzDlNh",
        "outputId": "6cfdebd6-e015-4a98-fa66-94ee4262ff4e",
        "colab": {
          "base_uri": "https://localhost:8080/"
        }
      },
      "execution_count": 51,
      "outputs": [
        {
          "output_type": "stream",
          "name": "stdout",
          "text": [
            "13:41:07 แปลงเป็นวินาทีได้เท่ากับ 49267 วินาที\n"
          ]
        }
      ]
    },
    {
      "cell_type": "markdown",
      "source": [
        "**3. 09:11:50**"
      ],
      "metadata": {
        "id": "MnZDw9sIDv_4"
      }
    },
    {
      "cell_type": "code",
      "source": [
        "d = (9*60*60) + (11*60) + 50\n",
        "print(f'09:11:50 แปลงเป็นวินาทีได้เท่ากับ {d} วินาที')"
      ],
      "metadata": {
        "id": "7mavIbUADzHJ",
        "outputId": "76d5493b-d415-4ed7-ad32-47e8c652136c",
        "colab": {
          "base_uri": "https://localhost:8080/"
        }
      },
      "execution_count": 52,
      "outputs": [
        {
          "output_type": "stream",
          "name": "stdout",
          "text": [
            "09:11:50 แปลงเป็นวินาทีได้เท่ากับ 33110 วินาที\n"
          ]
        }
      ]
    },
    {
      "cell_type": "markdown",
      "source": [
        "**4. 21:30:15**"
      ],
      "metadata": {
        "id": "-2GCjp5RD5CA"
      }
    },
    {
      "cell_type": "code",
      "source": [
        "d = (21*60*60) + (30*60) + 15\n",
        "print(f'21:30:15 แปลงเป็นวินาทีได้เท่ากับ {d} วินาที')"
      ],
      "metadata": {
        "id": "IYtCy7bHD7Rh",
        "outputId": "bd5d6265-dd66-4a52-b000-b123abf86ac1",
        "colab": {
          "base_uri": "https://localhost:8080/"
        }
      },
      "execution_count": 53,
      "outputs": [
        {
          "output_type": "stream",
          "name": "stdout",
          "text": [
            "21:30:15 แปลงเป็นวินาทีได้เท่ากับ 77415 วินาที\n"
          ]
        }
      ]
    },
    {
      "cell_type": "markdown",
      "source": [
        "**5. 03:10:15**"
      ],
      "metadata": {
        "id": "KXY96w9DD-HY"
      }
    },
    {
      "cell_type": "code",
      "source": [
        "d = (3*60*60) + (10*60) + 15\n",
        "print(f'03:10:15 แปลงเป็นวินาทีได้เท่ากับ {d} วินาที')"
      ],
      "metadata": {
        "id": "U9BWpoRxEBxJ",
        "outputId": "29370cfc-d91c-4688-b57e-aafc144cb63a",
        "colab": {
          "base_uri": "https://localhost:8080/"
        }
      },
      "execution_count": 54,
      "outputs": [
        {
          "output_type": "stream",
          "name": "stdout",
          "text": [
            "03:10:15 แปลงเป็นวินาทีได้เท่ากับ 11415 วินาที\n"
          ]
        }
      ]
    },
    {
      "cell_type": "markdown",
      "source": [
        "# **Dictionary**"
      ],
      "metadata": {
        "id": "mXURxrXMOmWY"
      }
    },
    {
      "cell_type": "markdown",
      "source": [
        "**1. การชี้สมาชิกใน Dictionary**"
      ],
      "metadata": {
        "id": "jFVbE9ZFQ7CM"
      }
    },
    {
      "cell_type": "markdown",
      "source": [
        "\n",
        "\n",
        "*   คล้าย List ()\n",
        "*   index เป็นอะไรก็ได้\n",
        "*   ลำดับไม่มีความสำคัญ\n",
        "\n",
        "\n",
        "\n"
      ],
      "metadata": {
        "id": "sq6HUQ0GPPxE"
      }
    },
    {
      "cell_type": "markdown",
      "source": [
        "{ } Curly brackets"
      ],
      "metadata": {
        "id": "VGTeZsEKQaq0"
      }
    },
    {
      "cell_type": "code",
      "source": [
        "dict_a = {1: 'Happy' , 'N' : 'New' , '2022' : 'Year'} "
      ],
      "metadata": {
        "id": "opOl2enfQPze"
      },
      "execution_count": 55,
      "outputs": []
    },
    {
      "cell_type": "code",
      "source": [
        "dict_a[1]"
      ],
      "metadata": {
        "id": "j8rNcaTqQmOG",
        "outputId": "2225f5f5-2af8-4a2b-b3b7-a7198e791510",
        "colab": {
          "base_uri": "https://localhost:8080/",
          "height": 0
        }
      },
      "execution_count": 56,
      "outputs": [
        {
          "output_type": "execute_result",
          "data": {
            "application/vnd.google.colaboratory.intrinsic+json": {
              "type": "string"
            },
            "text/plain": [
              "'Happy'"
            ]
          },
          "metadata": {},
          "execution_count": 56
        }
      ]
    },
    {
      "cell_type": "code",
      "source": [
        "dict_a['N']"
      ],
      "metadata": {
        "id": "emuh-bK3QhSV",
        "outputId": "b01ab8c0-7d1c-4e1d-b4a0-4f2eca6edb5c",
        "colab": {
          "base_uri": "https://localhost:8080/",
          "height": 0
        }
      },
      "execution_count": 57,
      "outputs": [
        {
          "output_type": "execute_result",
          "data": {
            "application/vnd.google.colaboratory.intrinsic+json": {
              "type": "string"
            },
            "text/plain": [
              "'New'"
            ]
          },
          "metadata": {},
          "execution_count": 57
        }
      ]
    },
    {
      "cell_type": "code",
      "source": [
        "dict_a.keys()"
      ],
      "metadata": {
        "id": "_RAaIhLhQ2qE",
        "outputId": "44de0311-0a81-45b5-f293-1de7a6918dbf",
        "colab": {
          "base_uri": "https://localhost:8080/"
        }
      },
      "execution_count": 58,
      "outputs": [
        {
          "output_type": "execute_result",
          "data": {
            "text/plain": [
              "dict_keys([1, 'N', '2022'])"
            ]
          },
          "metadata": {},
          "execution_count": 58
        }
      ]
    },
    {
      "cell_type": "markdown",
      "source": [
        "**2. การเพิ่มสมาชิกใน Dict**"
      ],
      "metadata": {
        "id": "aBtAV204RDF8"
      }
    },
    {
      "cell_type": "code",
      "source": [
        "dict_a[7] = 3.14"
      ],
      "metadata": {
        "id": "YihQZ4VoRTXM"
      },
      "execution_count": 59,
      "outputs": []
    },
    {
      "cell_type": "code",
      "source": [
        "dict_a"
      ],
      "metadata": {
        "id": "oZtSeowmRYi4",
        "outputId": "52600136-633a-46bd-d406-6ca5157aff9c",
        "colab": {
          "base_uri": "https://localhost:8080/"
        }
      },
      "execution_count": 60,
      "outputs": [
        {
          "output_type": "execute_result",
          "data": {
            "text/plain": [
              "{1: 'Happy', '2022': 'Year', 7: 3.14, 'N': 'New'}"
            ]
          },
          "metadata": {},
          "execution_count": 60
        }
      ]
    },
    {
      "cell_type": "markdown",
      "source": [
        "หากเขียนทับซ้ำ จะแสดงตัวเล่าสุด"
      ],
      "metadata": {
        "id": "VKhda_I8Rszt"
      }
    },
    {
      "cell_type": "code",
      "source": [
        "dict_a['N'] = 'NNNEEEEWWW'"
      ],
      "metadata": {
        "id": "qaHDcK_bRhkE"
      },
      "execution_count": 61,
      "outputs": []
    },
    {
      "cell_type": "code",
      "source": [
        "dict_a"
      ],
      "metadata": {
        "id": "h8gckoVERpPF",
        "outputId": "aabb414f-6840-4dce-ecb2-a7a494b8e925",
        "colab": {
          "base_uri": "https://localhost:8080/"
        }
      },
      "execution_count": 62,
      "outputs": [
        {
          "output_type": "execute_result",
          "data": {
            "text/plain": [
              "{1: 'Happy', '2022': 'Year', 7: 3.14, 'N': 'NNNEEEEWWW'}"
            ]
          },
          "metadata": {},
          "execution_count": 62
        }
      ]
    },
    {
      "cell_type": "markdown",
      "source": [
        "# **Numpy Arry**"
      ],
      "metadata": {
        "id": "iX1swErzOpss"
      }
    },
    {
      "cell_type": "markdown",
      "source": [
        "\n",
        "\n",
        "*   เก็บได้แค่ตัวเลข\n",
        "*   อ้างอิงโดยใช้ พิกัด (2 มิติ ก็มองเป็น Matrix)\n",
        "\n",
        "\n"
      ],
      "metadata": {
        "id": "b6zLm0cNURfl"
      }
    },
    {
      "cell_type": "markdown",
      "source": [
        "# 1D arry"
      ],
      "metadata": {
        "id": "EWUzgZ2yYHOL"
      }
    },
    {
      "cell_type": "code",
      "source": [
        "import numpy"
      ],
      "metadata": {
        "id": "iaQb0iz7Uqbd"
      },
      "execution_count": 63,
      "outputs": []
    },
    {
      "cell_type": "markdown",
      "source": [
        "สามารถแปลงจาก list เป็น array ได้เลย"
      ],
      "metadata": {
        "id": "R3ZmWdz9VfVa"
      }
    },
    {
      "cell_type": "code",
      "source": [
        "list_A = [1,2,3,4,5]"
      ],
      "metadata": {
        "id": "Cdfj3oY2Vwzb"
      },
      "execution_count": 64,
      "outputs": []
    },
    {
      "cell_type": "code",
      "source": [
        "arr_a = numpy.array([1,2,3,4,5])"
      ],
      "metadata": {
        "id": "ACdYYd-bRyRG"
      },
      "execution_count": 65,
      "outputs": []
    },
    {
      "cell_type": "code",
      "source": [
        "arr_a"
      ],
      "metadata": {
        "id": "IqL_36qjVq26",
        "outputId": "322b24c0-6609-46f8-d96e-d5197c1276dc",
        "colab": {
          "base_uri": "https://localhost:8080/"
        }
      },
      "execution_count": 66,
      "outputs": [
        {
          "output_type": "execute_result",
          "data": {
            "text/plain": [
              "array([1, 2, 3, 4, 5])"
            ]
          },
          "metadata": {},
          "execution_count": 66
        }
      ]
    },
    {
      "cell_type": "code",
      "source": [
        "list_A"
      ],
      "metadata": {
        "id": "rHxhEQ7xV94f",
        "outputId": "b8886cc6-2f40-407e-fd4d-69737732c439",
        "colab": {
          "base_uri": "https://localhost:8080/"
        }
      },
      "execution_count": 67,
      "outputs": [
        {
          "output_type": "execute_result",
          "data": {
            "text/plain": [
              "[1, 2, 3, 4, 5]"
            ]
          },
          "metadata": {},
          "execution_count": 67
        }
      ]
    },
    {
      "cell_type": "code",
      "source": [
        "arr_a[0]"
      ],
      "metadata": {
        "id": "52KUzdfbVssV",
        "outputId": "06cc7c64-e95c-40be-9753-157d2ed8d305",
        "colab": {
          "base_uri": "https://localhost:8080/"
        }
      },
      "execution_count": 68,
      "outputs": [
        {
          "output_type": "execute_result",
          "data": {
            "text/plain": [
              "1"
            ]
          },
          "metadata": {},
          "execution_count": 68
        }
      ]
    },
    {
      "cell_type": "code",
      "source": [
        "list_A[0]"
      ],
      "metadata": {
        "id": "8Vn8KA_tWFwm",
        "outputId": "67fad26a-2225-4a44-835c-41b5d688defb",
        "colab": {
          "base_uri": "https://localhost:8080/"
        }
      },
      "execution_count": 69,
      "outputs": [
        {
          "output_type": "execute_result",
          "data": {
            "text/plain": [
              "1"
            ]
          },
          "metadata": {},
          "execution_count": 69
        }
      ]
    },
    {
      "cell_type": "markdown",
      "source": [
        "คุณสมบัติของ Matrix (Scalar Muliplication)"
      ],
      "metadata": {
        "id": "n_pJ3thVWK7m"
      }
    },
    {
      "cell_type": "code",
      "source": [
        "5 * arr_a"
      ],
      "metadata": {
        "id": "ZQaOv2kVWIKr",
        "outputId": "709d7254-b7e4-40e9-82c7-6dc385ae8b4d",
        "colab": {
          "base_uri": "https://localhost:8080/"
        }
      },
      "execution_count": 70,
      "outputs": [
        {
          "output_type": "execute_result",
          "data": {
            "text/plain": [
              "array([ 5, 10, 15, 20, 25])"
            ]
          },
          "metadata": {},
          "execution_count": 70
        }
      ]
    },
    {
      "cell_type": "code",
      "source": [
        "5*list_A"
      ],
      "metadata": {
        "id": "sQGxNb6IWmXM",
        "outputId": "484906f8-a2d7-4d67-be23-3178f5ec852f",
        "colab": {
          "base_uri": "https://localhost:8080/"
        }
      },
      "execution_count": 71,
      "outputs": [
        {
          "output_type": "execute_result",
          "data": {
            "text/plain": [
              "[1, 2, 3, 4, 5, 1, 2, 3, 4, 5, 1, 2, 3, 4, 5, 1, 2, 3, 4, 5, 1, 2, 3, 4, 5]"
            ]
          },
          "metadata": {},
          "execution_count": 71
        }
      ]
    },
    {
      "cell_type": "code",
      "source": [
        "arr_b = numpy.array([10,20,30,40,50])"
      ],
      "metadata": {
        "id": "tLs7zuGjXU10"
      },
      "execution_count": 72,
      "outputs": []
    },
    {
      "cell_type": "code",
      "source": [
        "print(arr_a)"
      ],
      "metadata": {
        "id": "yYxXsW6EXdwq",
        "outputId": "dc560547-8a2f-4261-f8e0-197bb65d1d4f",
        "colab": {
          "base_uri": "https://localhost:8080/"
        }
      },
      "execution_count": 73,
      "outputs": [
        {
          "output_type": "stream",
          "name": "stdout",
          "text": [
            "[1 2 3 4 5]\n"
          ]
        }
      ]
    },
    {
      "cell_type": "markdown",
      "source": [
        "**matrix + matrix**"
      ],
      "metadata": {
        "id": "6IZ4hdKkXygW"
      }
    },
    {
      "cell_type": "code",
      "source": [
        "arr_a + arr_b"
      ],
      "metadata": {
        "id": "mWoY2KwcXqrY",
        "outputId": "0339bbc0-e7d7-413b-9dca-3624b7da5b16",
        "colab": {
          "base_uri": "https://localhost:8080/"
        }
      },
      "execution_count": 74,
      "outputs": [
        {
          "output_type": "execute_result",
          "data": {
            "text/plain": [
              "array([11, 22, 33, 44, 55])"
            ]
          },
          "metadata": {},
          "execution_count": 74
        }
      ]
    },
    {
      "cell_type": "code",
      "source": [
        "arr_a.shape"
      ],
      "metadata": {
        "id": "vf8-j004ZtsS",
        "outputId": "e42b0c71-b08a-4efd-d557-5c39c22e8f25",
        "colab": {
          "base_uri": "https://localhost:8080/"
        }
      },
      "execution_count": 75,
      "outputs": [
        {
          "output_type": "execute_result",
          "data": {
            "text/plain": [
              "(5,)"
            ]
          },
          "metadata": {},
          "execution_count": 75
        }
      ]
    },
    {
      "cell_type": "markdown",
      "source": [
        "# 2D arry"
      ],
      "metadata": {
        "id": "PXyVPuiBYQd0"
      }
    },
    {
      "cell_type": "code",
      "source": [
        "import numpy as np"
      ],
      "metadata": {
        "id": "p3CIcYQcYT81"
      },
      "execution_count": 76,
      "outputs": []
    },
    {
      "cell_type": "code",
      "source": [
        "arr2_z = np.array([[1,2,3],[4,5,6]])"
      ],
      "metadata": {
        "id": "00Szh_qAYY_S"
      },
      "execution_count": 77,
      "outputs": []
    },
    {
      "cell_type": "code",
      "source": [
        "arr2_z"
      ],
      "metadata": {
        "id": "fJXaG04DZINR",
        "outputId": "9862ea76-0e60-43a6-cc6b-109ab297e974",
        "colab": {
          "base_uri": "https://localhost:8080/"
        }
      },
      "execution_count": 78,
      "outputs": [
        {
          "output_type": "execute_result",
          "data": {
            "text/plain": [
              "array([[1, 2, 3],\n",
              "       [4, 5, 6]])"
            ]
          },
          "metadata": {},
          "execution_count": 78
        }
      ]
    },
    {
      "cell_type": "markdown",
      "source": [
        "**shape = แถว,หลัก**"
      ],
      "metadata": {
        "id": "a2R1e_oxZ4zr"
      }
    },
    {
      "cell_type": "code",
      "source": [
        "arr2_z.shape"
      ],
      "metadata": {
        "id": "FWeHYFLiZlku",
        "outputId": "491400e0-5f6c-46b2-ce35-2d4236734f02",
        "colab": {
          "base_uri": "https://localhost:8080/"
        }
      },
      "execution_count": 79,
      "outputs": [
        {
          "output_type": "execute_result",
          "data": {
            "text/plain": [
              "(2, 3)"
            ]
          },
          "metadata": {},
          "execution_count": 79
        }
      ]
    },
    {
      "cell_type": "markdown",
      "source": [
        "**np.zeros()**"
      ],
      "metadata": {
        "id": "CjQVIuIqZhHK"
      }
    },
    {
      "cell_type": "code",
      "source": [
        "arr2_3_5_0 = np.zeros((3,5))"
      ],
      "metadata": {
        "id": "A3S-7Zu1Z-YJ"
      },
      "execution_count": 80,
      "outputs": []
    },
    {
      "cell_type": "code",
      "source": [
        "arr2_3_5_0"
      ],
      "metadata": {
        "id": "iRnggOWUauhN",
        "outputId": "703898ac-49ec-4fca-c247-0e37cbaa459f",
        "colab": {
          "base_uri": "https://localhost:8080/"
        }
      },
      "execution_count": 81,
      "outputs": [
        {
          "output_type": "execute_result",
          "data": {
            "text/plain": [
              "array([[0., 0., 0., 0., 0.],\n",
              "       [0., 0., 0., 0., 0.],\n",
              "       [0., 0., 0., 0., 0.]])"
            ]
          },
          "metadata": {},
          "execution_count": 81
        }
      ]
    },
    {
      "cell_type": "markdown",
      "source": [
        "**กำหนดค่า**"
      ],
      "metadata": {
        "id": "pRIWwiTmb2rZ"
      }
    },
    {
      "cell_type": "code",
      "source": [
        "arr2_3_5_0[1,2] = 9"
      ],
      "metadata": {
        "id": "193s0jcVbHiG"
      },
      "execution_count": 82,
      "outputs": []
    },
    {
      "cell_type": "code",
      "source": [
        "arr2_3_5_0"
      ],
      "metadata": {
        "id": "djx_0vQabM6a",
        "outputId": "f3e4b1e1-f764-4233-c815-67d4f345aeee",
        "colab": {
          "base_uri": "https://localhost:8080/"
        }
      },
      "execution_count": 83,
      "outputs": [
        {
          "output_type": "execute_result",
          "data": {
            "text/plain": [
              "array([[0., 0., 0., 0., 0.],\n",
              "       [0., 0., 9., 0., 0.],\n",
              "       [0., 0., 0., 0., 0.]])"
            ]
          },
          "metadata": {},
          "execution_count": 83
        }
      ]
    },
    {
      "cell_type": "code",
      "source": [
        "arr2_3_5_0[1,2]"
      ],
      "metadata": {
        "id": "TCJJDhZxayMJ",
        "outputId": "c86df04a-bc63-4157-8d59-b6480b7230a8",
        "colab": {
          "base_uri": "https://localhost:8080/"
        }
      },
      "execution_count": 84,
      "outputs": [
        {
          "output_type": "execute_result",
          "data": {
            "text/plain": [
              "9.0"
            ]
          },
          "metadata": {},
          "execution_count": 84
        }
      ]
    },
    {
      "cell_type": "markdown",
      "source": [
        "**เปลี่ยนค่าใน list()**"
      ],
      "metadata": {
        "id": "T6yZiqA4bSjB"
      }
    },
    {
      "cell_type": "code",
      "source": [
        "print(list_A)\n",
        "list_A[-1] = 'christmas'\n",
        "print(list_A)"
      ],
      "metadata": {
        "id": "Z_uJGT6gbQK-",
        "outputId": "3630ffe7-27ac-44ed-a8b5-018e681276dd",
        "colab": {
          "base_uri": "https://localhost:8080/"
        }
      },
      "execution_count": 85,
      "outputs": [
        {
          "output_type": "stream",
          "name": "stdout",
          "text": [
            "[1, 2, 3, 4, 5]\n",
            "[1, 2, 3, 4, 'christmas']\n"
          ]
        }
      ]
    },
    {
      "cell_type": "markdown",
      "source": [
        "**np.ones()**"
      ],
      "metadata": {
        "id": "CGfqVz2_b6eC"
      }
    },
    {
      "cell_type": "code",
      "source": [
        "arr2_4_5_1 = np.ones((4,5))"
      ],
      "metadata": {
        "id": "IlKLKI6gcAv8"
      },
      "execution_count": 86,
      "outputs": []
    },
    {
      "cell_type": "code",
      "source": [
        "arr2_4_5_1 "
      ],
      "metadata": {
        "id": "43axdTu-b6Ae",
        "outputId": "774fe39c-827c-49f2-ef12-b3e6779309d2",
        "colab": {
          "base_uri": "https://localhost:8080/"
        }
      },
      "execution_count": 87,
      "outputs": [
        {
          "output_type": "execute_result",
          "data": {
            "text/plain": [
              "array([[1., 1., 1., 1., 1.],\n",
              "       [1., 1., 1., 1., 1.],\n",
              "       [1., 1., 1., 1., 1.],\n",
              "       [1., 1., 1., 1., 1.]])"
            ]
          },
          "metadata": {},
          "execution_count": 87
        }
      ]
    },
    {
      "cell_type": "code",
      "source": [
        "arr2_4_5_200 = 200*np.ones((4,5))"
      ],
      "metadata": {
        "id": "g-6IygNwcoZe"
      },
      "execution_count": 88,
      "outputs": []
    },
    {
      "cell_type": "code",
      "source": [
        "arr2_4_5_200"
      ],
      "metadata": {
        "id": "5ZhbT7PBcu_X",
        "outputId": "ab8df3e8-8618-4b66-ddea-e3881ec33767",
        "colab": {
          "base_uri": "https://localhost:8080/"
        }
      },
      "execution_count": 89,
      "outputs": [
        {
          "output_type": "execute_result",
          "data": {
            "text/plain": [
              "array([[200., 200., 200., 200., 200.],\n",
              "       [200., 200., 200., 200., 200.],\n",
              "       [200., 200., 200., 200., 200.],\n",
              "       [200., 200., 200., 200., 200.]])"
            ]
          },
          "metadata": {},
          "execution_count": 89
        }
      ]
    },
    {
      "cell_type": "markdown",
      "source": [
        "# Matrix operations"
      ],
      "metadata": {
        "id": "fBA8QDkZcyDl"
      }
    },
    {
      "cell_type": "markdown",
      "source": [
        "**การบวก ลบ matrix $M** ลอกอาจารย์ต่อ"
      ],
      "metadata": {
        "id": "hBBA9fRmd9ii"
      }
    },
    {
      "cell_type": "markdown",
      "source": [
        "*   $aM$ scalar คูณ Matrix (scalar คูณกระจายเข้าไปทุกตัวของ Matrix)\n",
        "*   $M\\times N$ Matrix คูณ Matrix (แถวคูณหลัก)\n",
        "\n",
        "\n"
      ],
      "metadata": {
        "id": "VTdsQUSJeJ9J"
      }
    },
    {
      "cell_type": "markdown",
      "source": [
        "  $aM$"
      ],
      "metadata": {
        "id": "LnEaPE46eyBS"
      }
    },
    {
      "cell_type": "code",
      "source": [
        "5 * arr_a #Matrix (scalar multiplication)"
      ],
      "metadata": {
        "id": "lgkogut0eyra",
        "outputId": "1411eb57-ca02-4524-b4ed-9b6f4e2bc99f",
        "colab": {
          "base_uri": "https://localhost:8080/"
        }
      },
      "execution_count": 90,
      "outputs": [
        {
          "output_type": "execute_result",
          "data": {
            "text/plain": [
              "array([ 5, 10, 15, 20, 25])"
            ]
          },
          "metadata": {},
          "execution_count": 90
        }
      ]
    },
    {
      "cell_type": "markdown",
      "source": [
        " $M\\times N$  (dot product)\n",
        " - (m,n) $\\times$ (n,o) = (m,o) (Shape)\n"
      ],
      "metadata": {
        "id": "7O8HfrlsfDlc"
      }
    },
    {
      "cell_type": "code",
      "source": [
        "mat_a = np.array([[2,3,5],[4,6,7]])\n",
        "mat_b = np.array([[1,2,5],[2,4,-7]])\n",
        "mat_c = np.array([[2,3],[4,6],[7,9]])"
      ],
      "metadata": {
        "id": "-RQM385afBJu"
      },
      "execution_count": 91,
      "outputs": []
    },
    {
      "cell_type": "code",
      "source": [
        "mat_a"
      ],
      "metadata": {
        "id": "Q3D4AhO2gNgG",
        "outputId": "79e6c759-f0b4-410b-e7b2-1272e49dd8a2",
        "colab": {
          "base_uri": "https://localhost:8080/"
        }
      },
      "execution_count": 92,
      "outputs": [
        {
          "output_type": "execute_result",
          "data": {
            "text/plain": [
              "array([[2, 3, 5],\n",
              "       [4, 6, 7]])"
            ]
          },
          "metadata": {},
          "execution_count": 92
        }
      ]
    },
    {
      "cell_type": "code",
      "source": [
        "mat_b"
      ],
      "metadata": {
        "id": "ik--2zS3gO9m",
        "outputId": "d7d56435-ae3a-4390-da83-4bef153c49af",
        "colab": {
          "base_uri": "https://localhost:8080/"
        }
      },
      "execution_count": 93,
      "outputs": [
        {
          "output_type": "execute_result",
          "data": {
            "text/plain": [
              "array([[ 1,  2,  5],\n",
              "       [ 2,  4, -7]])"
            ]
          },
          "metadata": {},
          "execution_count": 93
        }
      ]
    },
    {
      "cell_type": "code",
      "source": [
        "mat_c"
      ],
      "metadata": {
        "id": "ZASNUi5SgRJ2",
        "outputId": "e02d1765-2c75-4871-b2a3-9124639c9f10",
        "colab": {
          "base_uri": "https://localhost:8080/"
        }
      },
      "execution_count": 94,
      "outputs": [
        {
          "output_type": "execute_result",
          "data": {
            "text/plain": [
              "array([[2, 3],\n",
              "       [4, 6],\n",
              "       [7, 9]])"
            ]
          },
          "metadata": {},
          "execution_count": 94
        }
      ]
    },
    {
      "cell_type": "markdown",
      "source": [
        "**axc , bxc**"
      ],
      "metadata": {
        "id": "QdP_OuhsgWxd"
      }
    },
    {
      "cell_type": "code",
      "source": [
        "np.dot(mat_a,mat_c)"
      ],
      "metadata": {
        "id": "N-7V_irvgnhU",
        "outputId": "e1190e30-6031-45db-b0cc-386da72300ab",
        "colab": {
          "base_uri": "https://localhost:8080/"
        }
      },
      "execution_count": 95,
      "outputs": [
        {
          "output_type": "execute_result",
          "data": {
            "text/plain": [
              "array([[ 51,  69],\n",
              "       [ 81, 111]])"
            ]
          },
          "metadata": {},
          "execution_count": 95
        }
      ]
    },
    {
      "cell_type": "code",
      "source": [
        "np.dot(mat_b,mat_c)"
      ],
      "metadata": {
        "id": "CXMO4BrkgsOG",
        "outputId": "17e9cdcf-386a-435a-995d-3e459efa1aa5",
        "colab": {
          "base_uri": "https://localhost:8080/"
        }
      },
      "execution_count": 96,
      "outputs": [
        {
          "output_type": "execute_result",
          "data": {
            "text/plain": [
              "array([[ 45,  60],\n",
              "       [-29, -33]])"
            ]
          },
          "metadata": {},
          "execution_count": 96
        }
      ]
    },
    {
      "cell_type": "markdown",
      "source": [
        "**cxa , cxb**"
      ],
      "metadata": {
        "id": "NGeXM7nLg_hu"
      }
    },
    {
      "cell_type": "code",
      "source": [
        "np.dot(mat_c,mat_a)"
      ],
      "metadata": {
        "id": "mx7iQIlKhCcI",
        "outputId": "1ac288f6-7e5f-4fa0-cb7a-ca852fd56c43",
        "colab": {
          "base_uri": "https://localhost:8080/"
        }
      },
      "execution_count": 97,
      "outputs": [
        {
          "output_type": "execute_result",
          "data": {
            "text/plain": [
              "array([[16, 24, 31],\n",
              "       [32, 48, 62],\n",
              "       [50, 75, 98]])"
            ]
          },
          "metadata": {},
          "execution_count": 97
        }
      ]
    },
    {
      "cell_type": "code",
      "source": [
        "np.dot(mat_c,mat_b)"
      ],
      "metadata": {
        "id": "wPjCLmeDhOpH",
        "outputId": "0d20256c-cb3d-471d-edd2-2090e9b805bc",
        "colab": {
          "base_uri": "https://localhost:8080/"
        }
      },
      "execution_count": 98,
      "outputs": [
        {
          "output_type": "execute_result",
          "data": {
            "text/plain": [
              "array([[  8,  16, -11],\n",
              "       [ 16,  32, -22],\n",
              "       [ 25,  50, -28]])"
            ]
          },
          "metadata": {},
          "execution_count": 98
        }
      ]
    },
    {
      "cell_type": "code",
      "source": [
        "mat_X = np.dot(mat_c,mat_b)\n",
        "print(mat_X)"
      ],
      "metadata": {
        "id": "UkyA7pzViFwV",
        "outputId": "71093177-1617-4ae1-da84-cf5266ecaf57",
        "colab": {
          "base_uri": "https://localhost:8080/"
        }
      },
      "execution_count": 99,
      "outputs": [
        {
          "output_type": "stream",
          "name": "stdout",
          "text": [
            "[[  8  16 -11]\n",
            " [ 16  32 -22]\n",
            " [ 25  50 -28]]\n"
          ]
        }
      ]
    },
    {
      "cell_type": "code",
      "source": [
        "mat_a * mat_b #เป็นการคูณตำแหน่งเดียวกัน ไม่ตรงตามหลักเมทริกซ์"
      ],
      "metadata": {
        "id": "-XgDkaI5hTay",
        "outputId": "a6869913-f8ef-410b-db67-153f66bc201d",
        "colab": {
          "base_uri": "https://localhost:8080/"
        }
      },
      "execution_count": 100,
      "outputs": [
        {
          "output_type": "execute_result",
          "data": {
            "text/plain": [
              "array([[  2,   6,  25],\n",
              "       [  8,  24, -49]])"
            ]
          },
          "metadata": {},
          "execution_count": 100
        }
      ]
    },
    {
      "cell_type": "markdown",
      "source": [
        "# Matrix Slicing"
      ],
      "metadata": {
        "id": "-rvc-KyRhv6N"
      }
    },
    {
      "cell_type": "code",
      "source": [
        "mat_X[:2,:2] #ตัดเฉพาะส่วนที่ต้องการ"
      ],
      "metadata": {
        "id": "uluqGnF_h3my",
        "outputId": "3ae9eb9d-25e2-45ab-9085-3b1dc5f5b38c",
        "colab": {
          "base_uri": "https://localhost:8080/"
        }
      },
      "execution_count": 101,
      "outputs": [
        {
          "output_type": "execute_result",
          "data": {
            "text/plain": [
              "array([[ 8, 16],\n",
              "       [16, 32]])"
            ]
          },
          "metadata": {},
          "execution_count": 101
        }
      ]
    },
    {
      "cell_type": "markdown",
      "source": [
        "# **HW 3**\n",
        "\n",
        "1.   สร้าง array ที่เป็นรูปต้น christmas\n",
        "2.   Slice เลข 1 ออกมาจาก array HW3 ด้วยการ Slice แค่ครั้งเดียว\n"
      ],
      "metadata": {
        "id": "qLT9WMqbiYG9"
      }
    },
    {
      "cell_type": "code",
      "source": [
        "HW3 = np.zeros((10,10))\n",
        "HW3"
      ],
      "metadata": {
        "id": "DcY5PrPcihJF",
        "outputId": "aac26f9e-7347-47ab-c198-07394ec5baf1",
        "colab": {
          "base_uri": "https://localhost:8080/"
        }
      },
      "execution_count": 102,
      "outputs": [
        {
          "output_type": "execute_result",
          "data": {
            "text/plain": [
              "array([[0., 0., 0., 0., 0., 0., 0., 0., 0., 0.],\n",
              "       [0., 0., 0., 0., 0., 0., 0., 0., 0., 0.],\n",
              "       [0., 0., 0., 0., 0., 0., 0., 0., 0., 0.],\n",
              "       [0., 0., 0., 0., 0., 0., 0., 0., 0., 0.],\n",
              "       [0., 0., 0., 0., 0., 0., 0., 0., 0., 0.],\n",
              "       [0., 0., 0., 0., 0., 0., 0., 0., 0., 0.],\n",
              "       [0., 0., 0., 0., 0., 0., 0., 0., 0., 0.],\n",
              "       [0., 0., 0., 0., 0., 0., 0., 0., 0., 0.],\n",
              "       [0., 0., 0., 0., 0., 0., 0., 0., 0., 0.],\n",
              "       [0., 0., 0., 0., 0., 0., 0., 0., 0., 0.]])"
            ]
          },
          "metadata": {},
          "execution_count": 102
        }
      ]
    },
    {
      "cell_type": "code",
      "source": [
        "HW3[::4,2] = 1\n",
        "HW3[::4,4] = 1\n",
        "HW3[::4,6] = 1\n",
        "HW3[::4,8] = 1\n",
        "HW3"
      ],
      "metadata": {
        "id": "zw7HZI33kcC9",
        "outputId": "e6f3c2aa-fc56-4697-a806-c5b515e178da",
        "colab": {
          "base_uri": "https://localhost:8080/"
        }
      },
      "execution_count": 103,
      "outputs": [
        {
          "output_type": "execute_result",
          "data": {
            "text/plain": [
              "array([[0., 0., 1., 0., 1., 0., 1., 0., 1., 0.],\n",
              "       [0., 0., 0., 0., 0., 0., 0., 0., 0., 0.],\n",
              "       [0., 0., 0., 0., 0., 0., 0., 0., 0., 0.],\n",
              "       [0., 0., 0., 0., 0., 0., 0., 0., 0., 0.],\n",
              "       [0., 0., 1., 0., 1., 0., 1., 0., 1., 0.],\n",
              "       [0., 0., 0., 0., 0., 0., 0., 0., 0., 0.],\n",
              "       [0., 0., 0., 0., 0., 0., 0., 0., 0., 0.],\n",
              "       [0., 0., 0., 0., 0., 0., 0., 0., 0., 0.],\n",
              "       [0., 0., 1., 0., 1., 0., 1., 0., 1., 0.],\n",
              "       [0., 0., 0., 0., 0., 0., 0., 0., 0., 0.]])"
            ]
          },
          "metadata": {},
          "execution_count": 103
        }
      ]
    },
    {
      "cell_type": "markdown",
      "source": [
        "**ข้อที่ 1**"
      ],
      "metadata": {
        "id": "s2jQgor47oO5"
      }
    },
    {
      "cell_type": "code",
      "source": [
        "T = np.ones((15,9))\n",
        "T[1::,4] = 77\n",
        "T[3:6,3:6] = 77\n",
        "T[4:5,4:6:2] = 0\n",
        "T[5:7,5:7] = 77\n",
        "T[5:7,2:7] = 77\n",
        "T[7:9,1:8] = 77\n",
        "T[6:7,3:7:2] = 0\n",
        "T[9:12,0:9] = 77\n",
        "T[8:9,2:8:2] = 0\n",
        "T[10:11,1:9:2] = 0 \n",
        "T[12:15,4] = 689\n",
        "print(T)"
      ],
      "metadata": {
        "id": "-04y15MF7rZx",
        "outputId": "c66b051e-5257-4f38-e03f-4b15422c9c8e",
        "colab": {
          "base_uri": "https://localhost:8080/"
        }
      },
      "execution_count": 104,
      "outputs": [
        {
          "output_type": "stream",
          "name": "stdout",
          "text": [
            "[[  1.   1.   1.   1.   1.   1.   1.   1.   1.]\n",
            " [  1.   1.   1.   1.  77.   1.   1.   1.   1.]\n",
            " [  1.   1.   1.   1.  77.   1.   1.   1.   1.]\n",
            " [  1.   1.   1.  77.  77.  77.   1.   1.   1.]\n",
            " [  1.   1.   1.  77.   0.  77.   1.   1.   1.]\n",
            " [  1.   1.  77.  77.  77.  77.  77.   1.   1.]\n",
            " [  1.   1.  77.   0.  77.   0.  77.   1.   1.]\n",
            " [  1.  77.  77.  77.  77.  77.  77.  77.   1.]\n",
            " [  1.  77.   0.  77.   0.  77.   0.  77.   1.]\n",
            " [ 77.  77.  77.  77.  77.  77.  77.  77.  77.]\n",
            " [ 77.   0.  77.   0.  77.   0.  77.   0.  77.]\n",
            " [ 77.  77.  77.  77.  77.  77.  77.  77.  77.]\n",
            " [  1.   1.   1.   1. 689.   1.   1.   1.   1.]\n",
            " [  1.   1.   1.   1. 689.   1.   1.   1.   1.]\n",
            " [  1.   1.   1.   1. 689.   1.   1.   1.   1.]]\n"
          ]
        }
      ]
    },
    {
      "cell_type": "markdown",
      "source": [
        "**ข้อที่ 2**"
      ],
      "metadata": {
        "id": "djVP_oBY7wwv"
      }
    },
    {
      "cell_type": "code",
      "source": [
        "HW3 = np.zeros((10,10))\n",
        "HW3"
      ],
      "metadata": {
        "id": "ZwEJtBvL71j4",
        "outputId": "72da3122-d335-45a9-895d-128881d06c0b",
        "colab": {
          "base_uri": "https://localhost:8080/"
        }
      },
      "execution_count": 109,
      "outputs": [
        {
          "output_type": "execute_result",
          "data": {
            "text/plain": [
              "array([[0., 0., 0., 0., 0., 0., 0., 0., 0., 0.],\n",
              "       [0., 0., 0., 0., 0., 0., 0., 0., 0., 0.],\n",
              "       [0., 0., 0., 0., 0., 0., 0., 0., 0., 0.],\n",
              "       [0., 0., 0., 0., 0., 0., 0., 0., 0., 0.],\n",
              "       [0., 0., 0., 0., 0., 0., 0., 0., 0., 0.],\n",
              "       [0., 0., 0., 0., 0., 0., 0., 0., 0., 0.],\n",
              "       [0., 0., 0., 0., 0., 0., 0., 0., 0., 0.],\n",
              "       [0., 0., 0., 0., 0., 0., 0., 0., 0., 0.],\n",
              "       [0., 0., 0., 0., 0., 0., 0., 0., 0., 0.],\n",
              "       [0., 0., 0., 0., 0., 0., 0., 0., 0., 0.]])"
            ]
          },
          "metadata": {},
          "execution_count": 109
        }
      ]
    },
    {
      "cell_type": "code",
      "source": [
        "HW3[::4,2] = 1\n",
        "HW3[::4,4] = 1\n",
        "HW3[::4,6] = 1\n",
        "HW3[::4,8] = 1\n",
        "HW3"
      ],
      "metadata": {
        "id": "7E_jtjZU822_",
        "outputId": "3bfbb78b-984a-4383-fa5a-d1fa3aa75a97",
        "colab": {
          "base_uri": "https://localhost:8080/"
        }
      },
      "execution_count": 113,
      "outputs": [
        {
          "output_type": "execute_result",
          "data": {
            "text/plain": [
              "array([[0., 0., 1., 0., 1., 0., 1., 0., 1., 0.],\n",
              "       [0., 0., 0., 0., 0., 0., 0., 0., 0., 0.],\n",
              "       [0., 0., 0., 0., 0., 0., 0., 0., 0., 0.],\n",
              "       [0., 0., 0., 0., 0., 0., 0., 0., 0., 0.],\n",
              "       [0., 0., 1., 0., 1., 0., 1., 0., 1., 0.],\n",
              "       [0., 0., 0., 0., 0., 0., 0., 0., 0., 0.],\n",
              "       [0., 0., 0., 0., 0., 0., 0., 0., 0., 0.],\n",
              "       [0., 0., 0., 0., 0., 0., 0., 0., 0., 0.],\n",
              "       [0., 0., 1., 0., 1., 0., 1., 0., 1., 0.],\n",
              "       [0., 0., 0., 0., 0., 0., 0., 0., 0., 0.]])"
            ]
          },
          "metadata": {},
          "execution_count": 113
        }
      ]
    },
    {
      "cell_type": "code",
      "source": [
        "HW3[::4,2::2]"
      ],
      "metadata": {
        "id": "n-ijuETb9YR3",
        "outputId": "f05d059f-00b3-41fb-840a-d23f4c1deb79",
        "colab": {
          "base_uri": "https://localhost:8080/"
        }
      },
      "execution_count": 114,
      "outputs": [
        {
          "output_type": "execute_result",
          "data": {
            "text/plain": [
              "array([[1., 1., 1., 1.],\n",
              "       [1., 1., 1., 1.],\n",
              "       [1., 1., 1., 1.]])"
            ]
          },
          "metadata": {},
          "execution_count": 114
        }
      ]
    },
    {
      "cell_type": "markdown",
      "source": [
        "# **Pandas Dataframe (แยกออกไปเป็นโน๊ตบุ๊คเฉพาะ)**"
      ],
      "metadata": {
        "id": "gMOq2_qeOtkG"
      }
    }
  ]
}