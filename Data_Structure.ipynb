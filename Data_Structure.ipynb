{
  "nbformat": 4,
  "nbformat_minor": 0,
  "metadata": {
    "colab": {
      "name": "Data Structure.ipynb",
      "provenance": [],
      "authorship_tag": "ABX9TyOW+yDfqo9SFoVAkjcJmHNZ",
      "include_colab_link": true
    },
    "kernelspec": {
      "name": "python3",
      "display_name": "Python 3"
    },
    "language_info": {
      "name": "python"
    }
  },
  "cells": [
    {
      "cell_type": "markdown",
      "metadata": {
        "id": "view-in-github",
        "colab_type": "text"
      },
      "source": [
        "<a href=\"https://colab.research.google.com/github/kanyaweeud/data_viz_2022/blob/main/Data_Structure.ipynb\" target=\"_parent\"><img src=\"https://colab.research.google.com/assets/colab-badge.svg\" alt=\"Open In Colab\"/></a>"
      ]
    },
    {
      "cell_type": "markdown",
      "source": [
        "# **Data Structure (โครงสร้างข้อมูล)**\n",
        "การเก็บข้อมูลหลาย ๆ ตัวไว้ด้วยกันอย่างเป็นระเบียบ"
      ],
      "metadata": {
        "id": "OfmK0jbN5516"
      }
    },
    {
      "cell_type": "markdown",
      "source": [
        "## **list( )**\n",
        "1. เก็บอะไรก็ได้\n",
        "2. ลำดับในการเก็บ มีความสำคัญ"
      ],
      "metadata": {
        "id": "Huzj7vdp6VY_"
      }
    },
    {
      "cell_type": "code",
      "source": [
        "list_a = [1,2,3,4,5,6]    #[ ] square brackets"
      ],
      "metadata": {
        "id": "dRH8Vkax6Rxj"
      },
      "execution_count": 1,
      "outputs": []
    },
    {
      "cell_type": "code",
      "execution_count": 2,
      "metadata": {
        "colab": {
          "base_uri": "https://localhost:8080/"
        },
        "id": "sG_DxoTC4zUs",
        "outputId": "93b4ff82-b18a-4630-ffa9-1b7350b1d866"
      },
      "outputs": [
        {
          "output_type": "execute_result",
          "data": {
            "text/plain": [
              "[1, 2, 3, 4, 5, 6]"
            ]
          },
          "metadata": {},
          "execution_count": 2
        }
      ],
      "source": [
        "list_a"
      ]
    },
    {
      "cell_type": "code",
      "source": [
        "list_b = ['ab' , 2 , 3.14 , list_a]"
      ],
      "metadata": {
        "id": "yIgVi1zv67PM"
      },
      "execution_count": 3,
      "outputs": []
    },
    {
      "cell_type": "code",
      "source": [
        "list_b"
      ],
      "metadata": {
        "colab": {
          "base_uri": "https://localhost:8080/"
        },
        "id": "OjvTj5EN7G5s",
        "outputId": "48f1e595-a004-412b-d5ac-52d5158f2f5b"
      },
      "execution_count": 4,
      "outputs": [
        {
          "output_type": "execute_result",
          "data": {
            "text/plain": [
              "['ab', 2, 3.14, [1, 2, 3, 4, 5, 6]]"
            ]
          },
          "metadata": {},
          "execution_count": 4
        }
      ]
    },
    {
      "cell_type": "markdown",
      "source": [
        "**[3] = สมาชิกตัวที่ 3 โดยนับจาก 0**"
      ],
      "metadata": {
        "id": "d6SUPHS77mij"
      }
    },
    {
      "cell_type": "code",
      "source": [
        "list_a[3]"
      ],
      "metadata": {
        "colab": {
          "base_uri": "https://localhost:8080/"
        },
        "id": "K3vPKCqX7eNn",
        "outputId": "ceff0fcd-53ef-46f5-a13b-015329f41994"
      },
      "execution_count": 5,
      "outputs": [
        {
          "output_type": "execute_result",
          "data": {
            "text/plain": [
              "4"
            ]
          },
          "metadata": {},
          "execution_count": 5
        }
      ]
    },
    {
      "cell_type": "code",
      "source": [
        "list_b[3]"
      ],
      "metadata": {
        "colab": {
          "base_uri": "https://localhost:8080/"
        },
        "id": "dYWU6aVF74Sn",
        "outputId": "ba74e0e3-58f8-4253-b254-6393facbc444"
      },
      "execution_count": 6,
      "outputs": [
        {
          "output_type": "execute_result",
          "data": {
            "text/plain": [
              "[1, 2, 3, 4, 5, 6]"
            ]
          },
          "metadata": {},
          "execution_count": 6
        }
      ]
    },
    {
      "cell_type": "markdown",
      "source": [
        "**ชี้สมาชิกใน list ด้วยเลขลำดับของ list = Indexing**"
      ],
      "metadata": {
        "id": "HIZPdcat8Iwg"
      }
    },
    {
      "cell_type": "code",
      "source": [
        "list_b[3][4]"
      ],
      "metadata": {
        "colab": {
          "base_uri": "https://localhost:8080/"
        },
        "id": "SmYGpzwc784h",
        "outputId": "65c64919-4c43-4ad4-9af5-945a9a22d464"
      },
      "execution_count": 8,
      "outputs": [
        {
          "output_type": "execute_result",
          "data": {
            "text/plain": [
              "5"
            ]
          },
          "metadata": {},
          "execution_count": 8
        }
      ]
    },
    {
      "cell_type": "markdown",
      "source": [
        "**index - 1 = ตัวสุดท้ายของ list**\n",
        "(บางทีทำงานไป ขนาดของ list อาจจะเลื่อน)"
      ],
      "metadata": {
        "id": "rHZwjbEh8sd1"
      }
    },
    {
      "cell_type": "code",
      "source": [
        "list_a[-1]"
      ],
      "metadata": {
        "colab": {
          "base_uri": "https://localhost:8080/"
        },
        "id": "Qo4jCAgD8Wfr",
        "outputId": "d0224a28-0f3d-478e-850b-bdc1081180ce"
      },
      "execution_count": 9,
      "outputs": [
        {
          "output_type": "execute_result",
          "data": {
            "text/plain": [
              "6"
            ]
          },
          "metadata": {},
          "execution_count": 9
        }
      ]
    },
    {
      "cell_type": "code",
      "source": [
        "list_a[-4]"
      ],
      "metadata": {
        "colab": {
          "base_uri": "https://localhost:8080/"
        },
        "id": "UZQG8XET9Js8",
        "outputId": "d7b62ebc-32da-4c1f-be83-4cfcc6408e43"
      },
      "execution_count": 10,
      "outputs": [
        {
          "output_type": "execute_result",
          "data": {
            "text/plain": [
              "3"
            ]
          },
          "metadata": {},
          "execution_count": 10
        }
      ]
    },
    {
      "cell_type": "markdown",
      "source": [
        "# **การสร้าง List**"
      ],
      "metadata": {
        "id": "ETJ_qsVC9fzl"
      }
    },
    {
      "cell_type": "markdown",
      "source": [
        "**แบบที่ 1**"
      ],
      "metadata": {
        "id": "-Nk0Rptu9k27"
      }
    },
    {
      "cell_type": "code",
      "source": [
        "list_x1 = []"
      ],
      "metadata": {
        "id": "meqxvl9p9kCw"
      },
      "execution_count": 11,
      "outputs": []
    },
    {
      "cell_type": "markdown",
      "source": [
        "**แบบที่ 2**"
      ],
      "metadata": {
        "id": "QpymOn0r904_"
      }
    },
    {
      "cell_type": "code",
      "source": [
        "list_x2 = list()"
      ],
      "metadata": {
        "id": "Dd3QwcHA94AO"
      },
      "execution_count": 12,
      "outputs": []
    },
    {
      "cell_type": "markdown",
      "source": [
        "**เอามาเทียบกัน**"
      ],
      "metadata": {
        "id": "ucoqEwnj-B1A"
      }
    },
    {
      "cell_type": "code",
      "source": [
        "print(list_x1)\n",
        "print(list_x2)"
      ],
      "metadata": {
        "colab": {
          "base_uri": "https://localhost:8080/"
        },
        "id": "1Zls4nI69_io",
        "outputId": "9b114dea-aca3-44d1-a704-06ab4dcb53a2"
      },
      "execution_count": 13,
      "outputs": [
        {
          "output_type": "stream",
          "name": "stdout",
          "text": [
            "[]\n",
            "[]\n"
          ]
        }
      ]
    },
    {
      "cell_type": "markdown",
      "source": [
        "# **เพิ่มสมาชิกเข้าไปใน list ด้วย append( )**"
      ],
      "metadata": {
        "id": "jScU3YVn-NVK"
      }
    },
    {
      "cell_type": "code",
      "source": [
        "list_x1.append(2)"
      ],
      "metadata": {
        "id": "FkjmaKq3-jxM"
      },
      "execution_count": 14,
      "outputs": []
    },
    {
      "cell_type": "code",
      "source": [
        "list_x1"
      ],
      "metadata": {
        "colab": {
          "base_uri": "https://localhost:8080/"
        },
        "id": "baXcRYgR-REb",
        "outputId": "4ed192c1-8b46-4b80-8947-c10170c5d47d"
      },
      "execution_count": 15,
      "outputs": [
        {
          "output_type": "execute_result",
          "data": {
            "text/plain": [
              "[2]"
            ]
          },
          "metadata": {},
          "execution_count": 15
        }
      ]
    },
    {
      "cell_type": "code",
      "source": [
        "list_x1.append(4)\n",
        "print(list_x1)"
      ],
      "metadata": {
        "colab": {
          "base_uri": "https://localhost:8080/"
        },
        "id": "OBYNvhMS-rcO",
        "outputId": "87a1ba13-265f-4946-adb0-710ff0e7f4b9"
      },
      "execution_count": 16,
      "outputs": [
        {
          "output_type": "stream",
          "name": "stdout",
          "text": [
            "[2, 4]\n"
          ]
        }
      ]
    },
    {
      "cell_type": "code",
      "source": [
        "list_x1[-1]"
      ],
      "metadata": {
        "colab": {
          "base_uri": "https://localhost:8080/"
        },
        "id": "qXpZdlRu_EE6",
        "outputId": "d4d4ee5a-3742-459a-ff08-d3e9c70e7ea6"
      },
      "execution_count": 17,
      "outputs": [
        {
          "output_type": "execute_result",
          "data": {
            "text/plain": [
              "4"
            ]
          },
          "metadata": {},
          "execution_count": 17
        }
      ]
    },
    {
      "cell_type": "code",
      "source": [
        "list_x2"
      ],
      "metadata": {
        "colab": {
          "base_uri": "https://localhost:8080/"
        },
        "id": "xyr4tOgf_JgM",
        "outputId": "0867971a-5e39-43b4-d1ab-b24a271a1f2a"
      },
      "execution_count": 18,
      "outputs": [
        {
          "output_type": "execute_result",
          "data": {
            "text/plain": [
              "[]"
            ]
          },
          "metadata": {},
          "execution_count": 18
        }
      ]
    },
    {
      "cell_type": "code",
      "source": [
        "list_x2.append('ha')"
      ],
      "metadata": {
        "id": "y-YhAEAp_n-l"
      },
      "execution_count": 21,
      "outputs": []
    },
    {
      "cell_type": "code",
      "source": [
        "list_x2"
      ],
      "metadata": {
        "colab": {
          "base_uri": "https://localhost:8080/"
        },
        "id": "KkQosJwn_sVf",
        "outputId": "ea30b108-f6b4-4f86-ec5e-3eb167eedce4"
      },
      "execution_count": 22,
      "outputs": [
        {
          "output_type": "execute_result",
          "data": {
            "text/plain": [
              "['ha']"
            ]
          },
          "metadata": {},
          "execution_count": 22
        }
      ]
    },
    {
      "cell_type": "markdown",
      "source": [
        "# **ลบสมาชิกจาก List**"
      ],
      "metadata": {
        "id": "wMMXONazAQPw"
      }
    },
    {
      "cell_type": "code",
      "source": [
        "list_x1.append('ha')"
      ],
      "metadata": {
        "id": "JLSmnOkuAVL9"
      },
      "execution_count": 23,
      "outputs": []
    },
    {
      "cell_type": "code",
      "source": [
        "list_x1"
      ],
      "metadata": {
        "colab": {
          "base_uri": "https://localhost:8080/"
        },
        "id": "Mn2Un-aGAngt",
        "outputId": "c938f578-e052-42fc-f808-e21ccacce535"
      },
      "execution_count": 24,
      "outputs": [
        {
          "output_type": "execute_result",
          "data": {
            "text/plain": [
              "[2, 4, 'ha', 'ha']"
            ]
          },
          "metadata": {},
          "execution_count": 24
        }
      ]
    },
    {
      "cell_type": "code",
      "source": [
        "list_x1.pop()"
      ],
      "metadata": {
        "colab": {
          "base_uri": "https://localhost:8080/",
          "height": 35
        },
        "id": "5Xec-NgKAo7-",
        "outputId": "36aa0c4d-92e8-410b-bc50-01b36a01d7b8"
      },
      "execution_count": 25,
      "outputs": [
        {
          "output_type": "execute_result",
          "data": {
            "application/vnd.google.colaboratory.intrinsic+json": {
              "type": "string"
            },
            "text/plain": [
              "'ha'"
            ]
          },
          "metadata": {},
          "execution_count": 25
        }
      ]
    },
    {
      "cell_type": "code",
      "source": [
        "list_x1"
      ],
      "metadata": {
        "colab": {
          "base_uri": "https://localhost:8080/"
        },
        "id": "kHOC76LHAtJq",
        "outputId": "21db1cc3-834d-4c3c-b74b-3767112746fc"
      },
      "execution_count": 26,
      "outputs": [
        {
          "output_type": "execute_result",
          "data": {
            "text/plain": [
              "[2, 4, 'ha']"
            ]
          },
          "metadata": {},
          "execution_count": 26
        }
      ]
    },
    {
      "cell_type": "code",
      "source": [
        "list_x1.pop()\n",
        "print(list_x1)"
      ],
      "metadata": {
        "colab": {
          "base_uri": "https://localhost:8080/"
        },
        "id": "0lqhak5-Awbb",
        "outputId": "ca85dc44-55ce-42c3-e19b-0e4e580b95c8"
      },
      "execution_count": 27,
      "outputs": [
        {
          "output_type": "stream",
          "name": "stdout",
          "text": [
            "[2, 4]\n"
          ]
        }
      ]
    },
    {
      "cell_type": "markdown",
      "source": [
        "# **len( ) ตรวจสอบจำนวนสมาชิกของ list**"
      ],
      "metadata": {
        "id": "9eq-K3yNB-sV"
      }
    },
    {
      "cell_type": "code",
      "source": [
        "print(list_b)\n",
        "print(len(list_b))"
      ],
      "metadata": {
        "colab": {
          "base_uri": "https://localhost:8080/"
        },
        "id": "xh2pOr8HBGYL",
        "outputId": "6b5d5758-a835-4ec7-8fe6-6c8d9a57ec2d"
      },
      "execution_count": 28,
      "outputs": [
        {
          "output_type": "stream",
          "name": "stdout",
          "text": [
            "['ab', 2, 3.14, [1, 2, 3, 4, 5, 6]]\n",
            "4\n"
          ]
        }
      ]
    },
    {
      "cell_type": "code",
      "source": [
        "len(list_a)"
      ],
      "metadata": {
        "colab": {
          "base_uri": "https://localhost:8080/"
        },
        "id": "WQQ5atoGCZTG",
        "outputId": "41f025e6-c68a-4c11-988b-a2dbcf8b0ddc"
      },
      "execution_count": 29,
      "outputs": [
        {
          "output_type": "execute_result",
          "data": {
            "text/plain": [
              "6"
            ]
          },
          "metadata": {},
          "execution_count": 29
        }
      ]
    },
    {
      "cell_type": "markdown",
      "source": [
        "# **String is a life of characters**"
      ],
      "metadata": {
        "id": "y-N7ENvXC3A8"
      }
    },
    {
      "cell_type": "code",
      "source": [
        "st_stat = 'Department os Statictics, Faculty of Science'"
      ],
      "metadata": {
        "id": "zp2Jf7JLC8zW"
      },
      "execution_count": 30,
      "outputs": []
    },
    {
      "cell_type": "markdown",
      "source": [
        "**ตัวที่ 10 คือตัวอักษรอะไร**"
      ],
      "metadata": {
        "id": "bMUHVdhmDM88"
      }
    },
    {
      "cell_type": "code",
      "source": [
        "st_stat[10]"
      ],
      "metadata": {
        "colab": {
          "base_uri": "https://localhost:8080/",
          "height": 35
        },
        "id": "bfdcasEQDHe8",
        "outputId": "abf33e48-a03f-4af6-81b6-d64f8f7ddcf1"
      },
      "execution_count": 31,
      "outputs": [
        {
          "output_type": "execute_result",
          "data": {
            "application/vnd.google.colaboratory.intrinsic+json": {
              "type": "string"
            },
            "text/plain": [
              "' '"
            ]
          },
          "metadata": {},
          "execution_count": 31
        }
      ]
    },
    {
      "cell_type": "markdown",
      "source": [
        "**ตัวที่ 15 คือตัวอักษรอะไร**"
      ],
      "metadata": {
        "id": "ONQ5LNn3DRqo"
      }
    },
    {
      "cell_type": "code",
      "source": [
        "st_stat[15]"
      ],
      "metadata": {
        "colab": {
          "base_uri": "https://localhost:8080/",
          "height": 35
        },
        "id": "bTbEfvlhDV6j",
        "outputId": "cd60858e-c1c5-4ba1-d92f-eafe0a3afae0"
      },
      "execution_count": 32,
      "outputs": [
        {
          "output_type": "execute_result",
          "data": {
            "application/vnd.google.colaboratory.intrinsic+json": {
              "type": "string"
            },
            "text/plain": [
              "'t'"
            ]
          },
          "metadata": {},
          "execution_count": 32
        }
      ]
    },
    {
      "cell_type": "markdown",
      "source": [
        "**นับจำนวนตัวอักษร**"
      ],
      "metadata": {
        "id": "HFyuU7eJDiav"
      }
    },
    {
      "cell_type": "code",
      "source": [
        "len(st_stat)"
      ],
      "metadata": {
        "colab": {
          "base_uri": "https://localhost:8080/"
        },
        "id": "Be-Pc3aFDfIr",
        "outputId": "66c86cc4-1687-4a4d-9d92-f5ecfab2c3ba"
      },
      "execution_count": 33,
      "outputs": [
        {
          "output_type": "execute_result",
          "data": {
            "text/plain": [
              "44"
            ]
          },
          "metadata": {},
          "execution_count": 33
        }
      ]
    },
    {
      "cell_type": "markdown",
      "source": [
        "# **List Slicing**\n",
        "\n"
      ],
      "metadata": {
        "id": "Y3E1GYBNDnRr"
      }
    },
    {
      "cell_type": "markdown",
      "source": [
        "List[จุดเริ่มต้น(จะเป็นวงกลมทึบ) : จุดสุดท้าย(จะเป็นวงกลมโปร่ง)]"
      ],
      "metadata": {
        "id": "ufvWTyOOE_p8"
      }
    },
    {
      "cell_type": "markdown",
      "source": [
        "List[จุดเริ่มต้น(จะเป็นวงกลมโปร่ง) : จุดสุดท้าย (จะเป็นวงกลมทึบ) :step]"
      ],
      "metadata": {
        "id": "--Y3u-naFBFe"
      }
    },
    {
      "cell_type": "code",
      "source": [
        "list_a"
      ],
      "metadata": {
        "colab": {
          "base_uri": "https://localhost:8080/"
        },
        "id": "f0QE-esDDrN9",
        "outputId": "fea3da36-42e2-410a-b13e-c7a4606a42c0"
      },
      "execution_count": 34,
      "outputs": [
        {
          "output_type": "execute_result",
          "data": {
            "text/plain": [
              "[1, 2, 3, 4, 5, 6]"
            ]
          },
          "metadata": {},
          "execution_count": 34
        }
      ]
    },
    {
      "cell_type": "code",
      "source": [
        "list_a[2]"
      ],
      "metadata": {
        "colab": {
          "base_uri": "https://localhost:8080/"
        },
        "id": "rEMEz5-yD-17",
        "outputId": "7049da4c-b0f1-4508-8af6-a2757c15ee9d"
      },
      "execution_count": 35,
      "outputs": [
        {
          "output_type": "execute_result",
          "data": {
            "text/plain": [
              "3"
            ]
          },
          "metadata": {},
          "execution_count": 35
        }
      ]
    },
    {
      "cell_type": "markdown",
      "source": [
        "**Colon**"
      ],
      "metadata": {
        "id": "_G7Vhc1bG4a3"
      }
    },
    {
      "cell_type": "markdown",
      "source": [
        "จุดเริ่มต้น: = -3: = ดึงสมาชิก 3  ตัวสุดท้ายของ list"
      ],
      "metadata": {
        "id": "rSKAnVMuEQ-D"
      }
    },
    {
      "cell_type": "code",
      "source": [
        "list_a[-3:]"
      ],
      "metadata": {
        "colab": {
          "base_uri": "https://localhost:8080/"
        },
        "id": "_Cw0upj2EJVU",
        "outputId": "7c359579-03df-421f-c41a-0a3af7199a24"
      },
      "execution_count": 37,
      "outputs": [
        {
          "output_type": "execute_result",
          "data": {
            "text/plain": [
              "[4, 5, 6]"
            ]
          },
          "metadata": {},
          "execution_count": 37
        }
      ]
    },
    {
      "cell_type": "code",
      "source": [
        "list_a[1:4]"
      ],
      "metadata": {
        "colab": {
          "base_uri": "https://localhost:8080/"
        },
        "id": "4NFvO_bZEloU",
        "outputId": "ba34e01e-e0de-4b9c-93b7-239ff8bbefe2"
      },
      "execution_count": 38,
      "outputs": [
        {
          "output_type": "execute_result",
          "data": {
            "text/plain": [
              "[2, 3, 4]"
            ]
          },
          "metadata": {},
          "execution_count": 38
        }
      ]
    },
    {
      "cell_type": "code",
      "source": [
        "list_a[:4]"
      ],
      "metadata": {
        "colab": {
          "base_uri": "https://localhost:8080/"
        },
        "id": "I840SQjGGUyy",
        "outputId": "8827b3d3-2a30-4c1d-c1d9-cf0e3dcc1764"
      },
      "execution_count": 39,
      "outputs": [
        {
          "output_type": "execute_result",
          "data": {
            "text/plain": [
              "[1, 2, 3, 4]"
            ]
          },
          "metadata": {},
          "execution_count": 39
        }
      ]
    },
    {
      "cell_type": "code",
      "source": [
        "list_a[:]"
      ],
      "metadata": {
        "colab": {
          "base_uri": "https://localhost:8080/"
        },
        "id": "ebKeb-ZaGg6C",
        "outputId": "c96905cf-0ada-4009-9ff3-17665e81c972"
      },
      "execution_count": 40,
      "outputs": [
        {
          "output_type": "execute_result",
          "data": {
            "text/plain": [
              "[1, 2, 3, 4, 5, 6]"
            ]
          },
          "metadata": {},
          "execution_count": 40
        }
      ]
    },
    {
      "cell_type": "markdown",
      "source": [
        "**step**"
      ],
      "metadata": {
        "id": "2robSAayGwZX"
      }
    },
    {
      "cell_type": "code",
      "source": [
        "list_c = [1,2,3,4,5,6,7,8,9,10,11,12,13]"
      ],
      "metadata": {
        "id": "2o68acOHGzaj"
      },
      "execution_count": 41,
      "outputs": []
    },
    {
      "cell_type": "code",
      "source": [
        "list_c[:10:]"
      ],
      "metadata": {
        "colab": {
          "base_uri": "https://localhost:8080/"
        },
        "id": "jbEw2qj9HHQS",
        "outputId": "578f448b-db44-43b6-9fac-02d90dedac80"
      },
      "execution_count": 43,
      "outputs": [
        {
          "output_type": "execute_result",
          "data": {
            "text/plain": [
              "[1, 2, 3, 4, 5, 6, 7, 8, 9, 10]"
            ]
          },
          "metadata": {},
          "execution_count": 43
        }
      ]
    },
    {
      "cell_type": "code",
      "source": [
        "list_c[:10:2]"
      ],
      "metadata": {
        "colab": {
          "base_uri": "https://localhost:8080/"
        },
        "id": "ARqnZYr8HWXr",
        "outputId": "6c2f1d03-d333-47cd-fc8b-ef15ec895d0d"
      },
      "execution_count": 44,
      "outputs": [
        {
          "output_type": "execute_result",
          "data": {
            "text/plain": [
              "[1, 3, 5, 7, 9]"
            ]
          },
          "metadata": {},
          "execution_count": 44
        }
      ]
    },
    {
      "cell_type": "code",
      "source": [
        "list_c[::-1]"
      ],
      "metadata": {
        "colab": {
          "base_uri": "https://localhost:8080/"
        },
        "id": "HHy_6n0pHdac",
        "outputId": "0f42391b-38a4-4ea2-87f4-efb20bdeda32"
      },
      "execution_count": 45,
      "outputs": [
        {
          "output_type": "execute_result",
          "data": {
            "text/plain": [
              "[13, 12, 11, 10, 9, 8, 7, 6, 5, 4, 3, 2, 1]"
            ]
          },
          "metadata": {},
          "execution_count": 45
        }
      ]
    },
    {
      "cell_type": "markdown",
      "source": [
        "# **Range( )** วนลูป"
      ],
      "metadata": {
        "id": "EuWLgfHQHy3B"
      }
    },
    {
      "cell_type": "code",
      "source": [
        "range(21)"
      ],
      "metadata": {
        "colab": {
          "base_uri": "https://localhost:8080/"
        },
        "id": "3JXTawSpIMFE",
        "outputId": "176ab1e6-e737-4a8b-d504-b7e0ad1e6366"
      },
      "execution_count": 49,
      "outputs": [
        {
          "output_type": "execute_result",
          "data": {
            "text/plain": [
              "range(0, 21)"
            ]
          },
          "metadata": {},
          "execution_count": 49
        }
      ]
    },
    {
      "cell_type": "markdown",
      "source": [
        "เอามาทั้งหมด"
      ],
      "metadata": {
        "id": "QirYtLIwIxl2"
      }
    },
    {
      "cell_type": "code",
      "source": [
        "a = list(range(21))"
      ],
      "metadata": {
        "id": "VOluHXl9HyPT"
      },
      "execution_count": 47,
      "outputs": []
    },
    {
      "cell_type": "code",
      "source": [
        "a"
      ],
      "metadata": {
        "colab": {
          "base_uri": "https://localhost:8080/"
        },
        "id": "ATH0jehHIIGD",
        "outputId": "ee46200f-35fa-4277-ca65-9b3c90aefb16"
      },
      "execution_count": 48,
      "outputs": [
        {
          "output_type": "execute_result",
          "data": {
            "text/plain": [
              "[0, 1, 2, 3, 4, 5, 6, 7, 8, 9, 10, 11, 12, 13, 14, 15, 16, 17, 18, 19, 20]"
            ]
          },
          "metadata": {},
          "execution_count": 48
        }
      ]
    },
    {
      "cell_type": "code",
      "source": [
        "list(range(1,21))"
      ],
      "metadata": {
        "colab": {
          "base_uri": "https://localhost:8080/"
        },
        "id": "r-W0NMjsIJNK",
        "outputId": "b8e9e01c-3291-47ca-8129-62b652b4ed93"
      },
      "execution_count": 50,
      "outputs": [
        {
          "output_type": "execute_result",
          "data": {
            "text/plain": [
              "[1, 2, 3, 4, 5, 6, 7, 8, 9, 10, 11, 12, 13, 14, 15, 16, 17, 18, 19, 20]"
            ]
          },
          "metadata": {},
          "execution_count": 50
        }
      ]
    },
    {
      "cell_type": "markdown",
      "source": [
        "# **HW 2**"
      ],
      "metadata": {
        "id": "CA8dOrOdI3WB"
      }
    },
    {
      "cell_type": "markdown",
      "source": [
        "คำนวณเวลาเป็นวินาทีของเวลาต่อไปนี้โดยใช้คำสั่ง split() ช่วย (print ออกมาให้สวยงาม)\n",
        "\n",
        "1. 12:30:35\n",
        "2. 13:41:07\n",
        "3. 09:11:50\n",
        "4. 21:30:15\n",
        "5. 03:10:15\n",
        "\n",
        "\n",
        "\n"
      ],
      "metadata": {
        "id": "pCVbsts6JLEJ"
      }
    },
    {
      "cell_type": "code",
      "source": [
        "#01:02:03 \n",
        "\n",
        "a = 1*60*60 + (2*60) + 3\n",
        "print(f'01:02:03 แปลงเป็นวินาที ได้เท่ากับ {a} วินาที')"
      ],
      "metadata": {
        "colab": {
          "base_uri": "https://localhost:8080/"
        },
        "id": "_ZbaKMp3JoN5",
        "outputId": "8b3b47a3-37f4-4a72-dc31-24d59cedf5c9"
      },
      "execution_count": 55,
      "outputs": [
        {
          "output_type": "stream",
          "name": "stdout",
          "text": [
            "01:02:03 แปลงเป็นวินาที ได้เท่ากับ 3723 วินาที\n"
          ]
        }
      ]
    }
  ]
}