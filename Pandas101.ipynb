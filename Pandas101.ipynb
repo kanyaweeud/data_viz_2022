{
  "nbformat": 4,
  "nbformat_minor": 0,
  "metadata": {
    "colab": {
      "name": "Pandas101.ipynb",
      "provenance": [],
      "authorship_tag": "ABX9TyPpnCmnIR3BDWtO4cHwOMeh",
      "include_colab_link": true
    },
    "kernelspec": {
      "name": "python3",
      "display_name": "Python 3"
    },
    "language_info": {
      "name": "python"
    }
  },
  "cells": [
    {
      "cell_type": "markdown",
      "metadata": {
        "id": "view-in-github",
        "colab_type": "text"
      },
      "source": [
        "<a href=\"https://colab.research.google.com/github/kanyaweeud/data_viz_2022/blob/main/Pandas101.ipynb\" target=\"_parent\"><img src=\"https://colab.research.google.com/assets/colab-badge.svg\" alt=\"Open In Colab\"/></a>"
      ]
    },
    {
      "cell_type": "code",
      "execution_count": 1,
      "metadata": {
        "id": "EsUNqLu2IoKE"
      },
      "outputs": [],
      "source": [
        "import pandas as pd"
      ]
    },
    {
      "cell_type": "markdown",
      "source": [
        ".csv = Comma Separated Values"
      ],
      "metadata": {
        "id": "X81OuCHhIvDt"
      }
    },
    {
      "cell_type": "markdown",
      "source": [
        "data.go.th"
      ],
      "metadata": {
        "id": "ZeCHpG6-IzH2"
      }
    },
    {
      "cell_type": "code",
      "source": [
        "from google.colab import drive\n",
        "drive.mount('/content/drive')"
      ],
      "metadata": {
        "id": "GN6I1dwVI08g"
      },
      "execution_count": null,
      "outputs": []
    },
    {
      "cell_type": "code",
      "source": [
        "import os"
      ],
      "metadata": {
        "id": "83LNoQDjI2BO"
      },
      "execution_count": null,
      "outputs": []
    },
    {
      "cell_type": "code",
      "source": [
        "path = '/content/drive/My Drive/dataviz_2021_data'"
      ],
      "metadata": {
        "id": "2GBndqhOI3tD"
      },
      "execution_count": null,
      "outputs": []
    },
    {
      "cell_type": "code",
      "source": [
        "covid_file_path = os.path.join(path,'pm-20-jan-2021.csv') \n",
        "print(covid_file_path)"
      ],
      "metadata": {
        "id": "AJOP9JlrI3oj"
      },
      "execution_count": null,
      "outputs": []
    },
    {
      "cell_type": "code",
      "source": [
        "a = path + '/pm-18-jan-2021.csv' \n",
        "print(a)"
      ],
      "metadata": {
        "id": "UaaUfMPMI3dY"
      },
      "execution_count": null,
      "outputs": []
    },
    {
      "cell_type": "markdown",
      "source": [
        "# **load data to memory**"
      ],
      "metadata": {
        "id": "0Kw1fgBFJArg"
      }
    },
    {
      "cell_type": "code",
      "source": [
        "data_covid = pd.read_csv(covid_file_path)\n",
        "data_covid"
      ],
      "metadata": {
        "id": "tBlSvXlAJCrd"
      },
      "execution_count": null,
      "outputs": []
    },
    {
      "cell_type": "code",
      "source": [
        "data_covid.head()"
      ],
      "metadata": {
        "id": "ONWVtj-FJFN9"
      },
      "execution_count": null,
      "outputs": []
    },
    {
      "cell_type": "markdown",
      "source": [
        "# **NaN = Not a Number**"
      ],
      "metadata": {
        "id": "b-vaDCQHJHat"
      }
    },
    {
      "cell_type": "code",
      "source": [
        "data_covid.head(20)"
      ],
      "metadata": {
        "id": "DjMbI22nJJ_y"
      },
      "execution_count": null,
      "outputs": []
    },
    {
      "cell_type": "code",
      "source": [
        "data_covid.tail()"
      ],
      "metadata": {
        "id": "QLWuKeIDJMw1"
      },
      "execution_count": null,
      "outputs": []
    },
    {
      "cell_type": "code",
      "source": [
        "data_covid.shape"
      ],
      "metadata": {
        "id": "OY6d9q4yJOl2"
      },
      "execution_count": null,
      "outputs": []
    },
    {
      "cell_type": "markdown",
      "source": [
        "# **ชี้ค่าในตาราง**"
      ],
      "metadata": {
        "id": "HB30LpOFJdLT"
      }
    },
    {
      "cell_type": "markdown",
      "source": [
        "**basic**"
      ],
      "metadata": {
        "id": "dUP4djIUJthB"
      }
    },
    {
      "cell_type": "code",
      "source": [
        "data_covid['province_of_onset']"
      ],
      "metadata": {
        "id": "C5BbiL3PJvQV"
      },
      "execution_count": null,
      "outputs": []
    },
    {
      "cell_type": "code",
      "source": [
        "data_covid['risk'][12649]"
      ],
      "metadata": {
        "id": "4snjj94bJxxv"
      },
      "execution_count": null,
      "outputs": []
    },
    {
      "cell_type": "markdown",
      "source": [
        "**.iloc**"
      ],
      "metadata": {
        "id": "y0Wz8KNPJzjC"
      }
    },
    {
      "cell_type": "code",
      "source": [
        "data_covid.iloc[4,7]"
      ],
      "metadata": {
        "id": "pZWUZU27JyPl"
      },
      "execution_count": null,
      "outputs": []
    },
    {
      "cell_type": "markdown",
      "source": [
        "# **Table slicing**"
      ],
      "metadata": {
        "id": "e5oPsOSLJ4cr"
      }
    },
    {
      "cell_type": "markdown",
      "source": [
        "**ตัดมาเฉพาะ column ที่ต้องการ**"
      ],
      "metadata": {
        "id": "OtYQkCsKJ_bZ"
      }
    },
    {
      "cell_type": "code",
      "source": [
        "smaller_table = data_covid[['province_of_onset','announce_date','risk']]\n",
        "smaller_table"
      ],
      "metadata": {
        "id": "dSL1JZ9uKBI-"
      },
      "execution_count": null,
      "outputs": []
    },
    {
      "cell_type": "markdown",
      "source": [
        "**ตัดเฉพาะ rows ที่ต้องการตัดเฉพาะ rows ที่ต้องการ**"
      ],
      "metadata": {
        "id": "-gLZicfPKFHg"
      }
    },
    {
      "cell_type": "markdown",
      "source": [
        "แบบง่าย แต่ใช้การอะไรไม่ค่อยจะได้ (มองเป็น array แล้วตัดแบบ array)"
      ],
      "metadata": {
        "id": "G_iI1X3hKJ2i"
      }
    },
    {
      "cell_type": "code",
      "source": [
        "data_covid.iloc[1:5,:]"
      ],
      "metadata": {
        "id": "ciinSe_sKC-A"
      },
      "execution_count": null,
      "outputs": []
    },
    {
      "cell_type": "markdown",
      "source": [
        "แบบ advanced แต่ใช้ประโยชน์ได้เยอะกว่า (ตัดแบบใช้ logic query)"
      ],
      "metadata": {
        "id": "uG4ZtjNZKP9m"
      }
    },
    {
      "cell_type": "markdown",
      "source": [
        "pddf [list_of_logical_values] คือการเลือก row ที่ logical values เป็น True"
      ],
      "metadata": {
        "id": "3Uq_rNZ-KSVq"
      }
    },
    {
      "cell_type": "code",
      "source": [
        "data_covid['province_of_onset']"
      ],
      "metadata": {
        "id": "32CT59tWKQuO"
      },
      "execution_count": null,
      "outputs": []
    },
    {
      "cell_type": "code",
      "source": [
        "data_covid['province_of_onset']=='ขอนแก่น'"
      ],
      "metadata": {
        "id": "JyR51OfmKU3V"
      },
      "execution_count": null,
      "outputs": []
    },
    {
      "cell_type": "code",
      "source": [
        "data_covid[data_covid['province_of_onset']=='ขอนแก่น']"
      ],
      "metadata": {
        "id": "dRbA2lMCKX0s"
      },
      "execution_count": null,
      "outputs": []
    },
    {
      "cell_type": "code",
      "source": [
        "data_covid[data_covid['age']>=70]"
      ],
      "metadata": {
        "id": "PTmOjmlYKaRm"
      },
      "execution_count": null,
      "outputs": []
    },
    {
      "cell_type": "markdown",
      "source": [
        "การชี้ค่าในตารางด้วย data_covid[x] ค่า x สามารถมีค่าที่ใส่เข้าไปได้ 2 แบบ\n",
        "\n",
        "1.   ชื่อ column\n",
        "2.   ใส่ rows ที่ต้องการ (ใส่ list ที่มีขนาดเท่ากับจำนวนแถว แล้วบอกว่าเอา แถวไหนบ้างโดยใช้ logical expression (True/False))"
      ],
      "metadata": {
        "id": "l1lE7dZKKcNz"
      }
    },
    {
      "cell_type": "code",
      "source": [
        "eight_rows_covid = data_covid.iloc[:8,3:] # ตารางตัวอย่าง\n",
        "eight_rows_covid"
      ],
      "metadata": {
        "id": "yYOR3-4QKklD"
      },
      "execution_count": null,
      "outputs": []
    },
    {
      "cell_type": "code",
      "source": [
        "eight_rows_covid[[True,False,True,True,False,True,False,False]]   #2.   ใส่ list ที่ มีค่า logic ของ แต่ละ row โดยที่ ค่า True คือ เลือก ค่า False คือไม่เลืิอก"
      ],
      "metadata": {
        "id": "nLwLvRqxKnWe"
      },
      "execution_count": null,
      "outputs": []
    },
    {
      "cell_type": "code",
      "source": [
        "eight_rows_covid['province_of_onset'] == 'กรุงเทพมหานคร'  #สร้าง list ของ logical expression"
      ],
      "metadata": {
        "id": "5hXB4shVKqQX"
      },
      "execution_count": null,
      "outputs": []
    },
    {
      "cell_type": "code",
      "source": [
        "eight_rows_covid[eight_rows_covid['province_of_onset'] == 'กรุงเทพมหานคร']  #เราเอา 2 บรรทัดบนมาบวกกัน"
      ],
      "metadata": {
        "id": "LRxobCVlKtlm"
      },
      "execution_count": null,
      "outputs": []
    },
    {
      "cell_type": "code",
      "source": [
        "eight_rows_covid['district_of_onset'] == 'เมือง'"
      ],
      "metadata": {
        "id": "dVnkgZYLKwWX"
      },
      "execution_count": null,
      "outputs": []
    },
    {
      "cell_type": "code",
      "source": [
        "import numpy as np"
      ],
      "metadata": {
        "id": "bz8K10lFKyI_"
      },
      "execution_count": null,
      "outputs": []
    },
    {
      "cell_type": "markdown",
      "source": [
        ".isnull()  ใช้ตรวจสอบว่าเป็น NaN หรือไม่"
      ],
      "metadata": {
        "id": "mlnIJz3AKyoJ"
      }
    },
    {
      "cell_type": "code",
      "source": [
        "eight_rows_covid['district_of_onset'].isnull()"
      ],
      "metadata": {
        "id": "XKSJ5LtCK0pP"
      },
      "execution_count": null,
      "outputs": []
    },
    {
      "cell_type": "markdown",
      "source": [
        "Quiz (ให้ใช้เฉพาะที่อาจารย์สอนไปแล้วในวิชานี้)\n",
        "\n",
        "\n",
        "1.   คำนวณ อายุเฉลี่ย ของผู้ชาย ในข้อมูลทั้งหมด\n",
        "2.   คำนวณ อายุเฉลี่ย ของผู้ชาย ในจังหวัดขอนแก่น\n",
        "3.   หาจำนวนผู้ป่วยที่เป็นคน ที่ไม่ใช่คนไทย"
      ],
      "metadata": {
        "id": "9XTB7P1VK3Gy"
      }
    },
    {
      "cell_type": "code",
      "source": [
        "this_data = data_covid[['sex','age','province_of_onset']]"
      ],
      "metadata": {
        "id": "OYJ8F2nyLHHf"
      },
      "execution_count": null,
      "outputs": []
    },
    {
      "cell_type": "code",
      "source": [
        "this_data"
      ],
      "metadata": {
        "id": "VtVoSqV5LI3Q"
      },
      "execution_count": null,
      "outputs": []
    },
    {
      "cell_type": "code",
      "source": [
        "female = this_data[this_data['sex']=='หญิง']\n",
        "female['age']"
      ],
      "metadata": {
        "id": "ZbV5-WZjLKYn"
      },
      "execution_count": null,
      "outputs": []
    },
    {
      "cell_type": "code",
      "source": [
        "sum = 0\n",
        "N = 0\n",
        "for a in female['age']:\n",
        "    \n",
        "    if a > 0:\n",
        "        sum += a # sum = sum + a\n",
        "        N += 1\n",
        "\n",
        "print(f'อายุเฉลี่ย ของ ผู้ป่วยหญิง {sum/N}')"
      ],
      "metadata": {
        "id": "7rzIm8bTLMra"
      },
      "execution_count": null,
      "outputs": []
    },
    {
      "cell_type": "code",
      "source": [
        "female_KK = female[female['province_of_onset']=='ขอนแก่น']\n",
        "\n",
        "sum = 0\n",
        "N = 0\n",
        "for a in female_KK['age']:\n",
        "    \n",
        "    if a > 0:\n",
        "        sum += a # sum = sum + a\n",
        "        N += 1\n",
        "\n",
        "print(f'อายุเฉลี่ย ของ ผู้ป่วยหญิง ในจังหวัดขอนแก่น {sum/N}')"
      ],
      "metadata": {
        "id": "Ol318cQ5LPaT"
      },
      "execution_count": null,
      "outputs": []
    },
    {
      "cell_type": "markdown",
      "source": [
        "# **Quiz ข้อ1.2.3.**"
      ],
      "metadata": {
        "id": "yurywVXJLQPd"
      }
    },
    {
      "cell_type": "code",
      "source": [
        "man = this_data[this_data['sex']=='ชาย']\n",
        "man['age']"
      ],
      "metadata": {
        "id": "uO3on_XVLTU9"
      },
      "execution_count": null,
      "outputs": []
    },
    {
      "cell_type": "code",
      "source": [
        "sum = 0\n",
        "N = 0\n",
        "for a in female['age']:\n",
        "    \n",
        "    if a > 0:\n",
        "        sum += a # sum = sum + a\n",
        "        N += 1\n",
        "\n",
        "print(f'อายุเฉลี่ย ของ ผู้ป่วยชาย {sum/N}')"
      ],
      "metadata": {
        "id": "miHygmHQLWOP"
      },
      "execution_count": null,
      "outputs": []
    },
    {
      "cell_type": "code",
      "source": [
        "man_KK = man[man['province_of_onset']=='ขอนแก่น']\n",
        "\n",
        "sum = 0\n",
        "N = 0\n",
        "for a in man_KK['age']:\n",
        "    \n",
        "    if a > 0:\n",
        "        sum += a # sum = sum + a\n",
        "        N += 1\n",
        "\n",
        "print(f'อายุเฉลี่ย ของ ผู้ป่วยชาย ในจังหวัดขอนแก่น {sum/N}')"
      ],
      "metadata": {
        "id": "mxd3eCmjLX_g"
      },
      "execution_count": null,
      "outputs": []
    },
    {
      "cell_type": "code",
      "source": [
        "this1 = data_covid[data_covid['nationality']!='Thailand']"
      ],
      "metadata": {
        "id": "Y98FyNMZLaC5"
      },
      "execution_count": null,
      "outputs": []
    },
    {
      "cell_type": "code",
      "source": [
        "this1"
      ],
      "metadata": {
        "id": "eHKklo6yLcDl"
      },
      "execution_count": null,
      "outputs": []
    },
    {
      "cell_type": "code",
      "source": [
        "sum = 0\n",
        "N = 0\n",
        "for a in this1['No.']:\n",
        "    if a > 0:\n",
        "        sum = a # sum = a\n",
        "\n",
        "print(f'จำนวนผู้ป่วยที่ไม่ใช่คนไทย {sum}')"
      ],
      "metadata": {
        "id": "BjTmFXKOLdE1"
      },
      "execution_count": null,
      "outputs": []
    },
    {
      "cell_type": "markdown",
      "source": [
        "# **การจัดการ Missing Value**\n",
        "\n",
        "*   ลบ record ที่เป็น missing\n",
        "*   แทนที่ ค่า missing ด้วยค่าที่เหมาะสม mean, default, category-unknown\n",
        "*   ใช้ ค่าจาก columns อื่นๆ ช่วยประมาณค่า ค่าใน column ที่หายไป (regression, deep learning, etc.)\n",
        "\n",
        "\n",
        "\n"
      ],
      "metadata": {
        "id": "7FhHvFeILgXw"
      }
    },
    {
      "cell_type": "markdown",
      "source": [
        "# ลบ record (dropna)"
      ],
      "metadata": {
        "id": "KbFaLHaMLsLS"
      }
    },
    {
      "cell_type": "markdown",
      "source": [
        "missing = None NA(not autorized) NaN (not a number)"
      ],
      "metadata": {
        "id": "s40u97fRLwqI"
      }
    },
    {
      "cell_type": "code",
      "source": [
        "this_data.shape #(12423, 3)"
      ],
      "metadata": {
        "id": "u0Lg8EJHLfAd"
      },
      "execution_count": null,
      "outputs": []
    },
    {
      "cell_type": "code",
      "source": [
        "print(data_covid.shape)\n",
        "print(data_covid.dropna().shape)"
      ],
      "metadata": {
        "id": "CJUtSs0kLubw"
      },
      "execution_count": null,
      "outputs": []
    },
    {
      "cell_type": "code",
      "source": [
        "this_data.dropna().shape"
      ],
      "metadata": {
        "id": "hs57Wa1SLt_Y"
      },
      "execution_count": null,
      "outputs": []
    },
    {
      "cell_type": "code",
      "source": [
        "this_data.dropna()"
      ],
      "metadata": {
        "id": "BVuoc7JVL2Fu"
      },
      "execution_count": null,
      "outputs": []
    },
    {
      "cell_type": "code",
      "source": [
        "this_data.dropna()\n",
        "print(this_data.shape)"
      ],
      "metadata": {
        "id": "Kk9oqRA0L2BW"
      },
      "execution_count": null,
      "outputs": []
    },
    {
      "cell_type": "code",
      "source": [
        "this_data.dropna(inplace=True)"
      ],
      "metadata": {
        "id": "UYzOYYndL13o"
      },
      "execution_count": null,
      "outputs": []
    },
    {
      "cell_type": "code",
      "source": [
        "this_data.dropna(inplace=True)\n",
        "print(this_data.shape)"
      ],
      "metadata": {
        "id": "M7GW7e4sL1ra"
      },
      "execution_count": null,
      "outputs": []
    },
    {
      "cell_type": "code",
      "source": [
        "this_data = data_covid[['sex','age','province_of_onset']]\n",
        "this_data.shape"
      ],
      "metadata": {
        "id": "jbWnX8Y8MA1F"
      },
      "execution_count": null,
      "outputs": []
    },
    {
      "cell_type": "code",
      "source": [
        "this_data.dropna().shape"
      ],
      "metadata": {
        "id": "Q2m6zUQvMAxE"
      },
      "execution_count": null,
      "outputs": []
    },
    {
      "cell_type": "code",
      "source": [
        "this_data.dropna(subset=['age']).shape"
      ],
      "metadata": {
        "id": "xqH833tSMAsP"
      },
      "execution_count": null,
      "outputs": []
    },
    {
      "cell_type": "markdown",
      "source": [
        "# **แทน missing ด้วยค่าที่เหมาะสม (fillna)**"
      ],
      "metadata": {
        "id": "cEGj3pBrMFS-"
      }
    },
    {
      "cell_type": "code",
      "source": [
        "this_data = data_covid[['sex','age','province_of_onset']]"
      ],
      "metadata": {
        "id": "m4AYtt1jMPwa"
      },
      "execution_count": null,
      "outputs": []
    },
    {
      "cell_type": "code",
      "source": [
        "this_data.head()"
      ],
      "metadata": {
        "id": "rabErC55MPsv"
      },
      "execution_count": null,
      "outputs": []
    },
    {
      "cell_type": "code",
      "source": [
        "print(f'จำนวน record ก่อน drop missing ใน province {this_data.shape[0]}')\n",
        "print(f'จำนวน record หลัง drop missing ใน province {this_data.dropna(subset=[\"province_of_onset\"]).shape[0]}')"
      ],
      "metadata": {
        "id": "chJsVEGoMPpQ"
      },
      "execution_count": null,
      "outputs": []
    },
    {
      "cell_type": "code",
      "source": [
        "this_data_updated = this_data.fillna(value={'sex':'ไม่รู้', 'age':-1, 'province_of_onset':'ไม่รู้'})\n",
        "this_data_updated.head()"
      ],
      "metadata": {
        "id": "FQbeso52MPf4"
      },
      "execution_count": null,
      "outputs": []
    },
    {
      "cell_type": "code",
      "source": [
        "this_data_updated[this_data_updated['sex']=='ไม่รู้']"
      ],
      "metadata": {
        "id": "Oz5nNeS_MAlu"
      },
      "execution_count": null,
      "outputs": []
    },
    {
      "cell_type": "code",
      "source": [
        "this_data_updated['province_of_onset']=='ไม่รู้'"
      ],
      "metadata": {
        "id": "_F3GwsnXMAZx"
      },
      "execution_count": null,
      "outputs": []
    },
    {
      "cell_type": "code",
      "source": [
        "data_covid[this_data_updated['province_of_onset']=='ไม่รู้']"
      ],
      "metadata": {
        "id": "QASKQn_LMbpG"
      },
      "execution_count": null,
      "outputs": []
    },
    {
      "cell_type": "code",
      "source": [
        "this_data_updated_2 = this_data.fillna(value={'province_of_onset':'ไม่รู้'})"
      ],
      "metadata": {
        "id": "gpfbQn1rMe9T"
      },
      "execution_count": null,
      "outputs": []
    },
    {
      "cell_type": "code",
      "source": [
        "this_data_updated_2[this_data_updated['sex']=='ไม่รู้']"
      ],
      "metadata": {
        "id": "ZHsWcCdFMe4R"
      },
      "execution_count": null,
      "outputs": []
    },
    {
      "cell_type": "markdown",
      "source": [
        "# **การวนลูป record ในตาราง (.iterrows)**"
      ],
      "metadata": {
        "id": "5kw0X09qMh8-"
      }
    },
    {
      "cell_type": "code",
      "source": [
        "this_data = data_covid[['sex','age','province_of_onset']]"
      ],
      "metadata": {
        "id": "fhoePR5jMlnG"
      },
      "execution_count": null,
      "outputs": []
    },
    {
      "cell_type": "code",
      "source": [
        "for each_row in this_data.iterrows():\n",
        "    # print(each_row)\n",
        "    # print(each_row[1])\n",
        "    if (each_row[1]['age'] == 20) and (each_row[1]['province_of_onset'] == 'ขอนแก่น'):\n",
        "        print(each_row)"
      ],
      "metadata": {
        "id": "CXyb2V18MnwF"
      },
      "execution_count": null,
      "outputs": []
    },
    {
      "cell_type": "markdown",
      "source": [
        "# **การวนลูป แบบมองตารางแพนด้าส์(pandas dataframe) เป็น numpy array (.iloc)**"
      ],
      "metadata": {
        "id": "5vqZYLLpMp6w"
      }
    },
    {
      "cell_type": "code",
      "source": [
        "for each_row in range(this_data.shape[0]):\n",
        "    if (this_data.iloc[each_row,1] == 20) and (this_data.iloc[each_row,2] == 'ขอนแก่น'):  #each_row คือ ตัวเลข\n",
        "        print(each_row)\n",
        "        print(this_data.iloc[each_row,:])   "
      ],
      "metadata": {
        "id": "GcAaWHMoMs7Q"
      },
      "execution_count": null,
      "outputs": []
    },
    {
      "cell_type": "markdown",
      "source": [
        "# **Quiz ตัดตารางออกมาเฉพาะปี 2021 announce_date ในปี 2021**\n",
        "Hint\n",
        "\n",
        "*   วนลูปหา index ของปี 2021\n",
        "*   ตัดตารางมาเฉพาะ ปี 2021\n",
        "\n"
      ],
      "metadata": {
        "id": "Hx7pF2j-MvCo"
      }
    },
    {
      "cell_type": "code",
      "source": [
        "TF=list()\n",
        "for each_row in data_covid.iterrows():\n",
        "    if each_row[1]['announce_date'].split('/')[2] == '2021':\n",
        "        TF.append(True)\n",
        "    else:\n",
        "        TF.append(False)\n",
        "\n",
        "data_covid[TF].head()"
      ],
      "metadata": {
        "id": "gRhInqxyM3tR"
      },
      "execution_count": null,
      "outputs": []
    },
    {
      "cell_type": "markdown",
      "source": [
        "# **Function ตัวช่วยใน pandas**"
      ],
      "metadata": {
        "id": "bPoVBcOgM6wg"
      }
    },
    {
      "cell_type": "markdown",
      "source": [
        "# .describe() คำนวณค่าทางสถิติของข้อมูลที่เป็นตัวเลข"
      ],
      "metadata": {
        "id": "TobA0aNYM8kd"
      }
    },
    {
      "cell_type": "code",
      "source": [
        "data_covid.describe()"
      ],
      "metadata": {
        "id": "dEn87FNZM-wk"
      },
      "execution_count": null,
      "outputs": []
    },
    {
      "cell_type": "markdown",
      "source": [
        "# .mean() คำนวณค่าเฉลี่ยของข้อมูลโดยไม่สนใจ missing"
      ],
      "metadata": {
        "id": "LogOIQyTNAki"
      }
    },
    {
      "cell_type": "code",
      "source": [
        "data_covid[data_covid['sex']=='ชาย']['age'].mean()"
      ],
      "metadata": {
        "id": "Im_LKYjjNDl6"
      },
      "execution_count": null,
      "outputs": []
    },
    {
      "cell_type": "markdown",
      "source": [
        "# .isnull()"
      ],
      "metadata": {
        "id": "5UjEyx1oNFlx"
      }
    },
    {
      "cell_type": "code",
      "source": [
        "data_covid.isnull()"
      ],
      "metadata": {
        "id": "GPbr22iKNJMV"
      },
      "execution_count": null,
      "outputs": []
    },
    {
      "cell_type": "markdown",
      "source": [
        "# **next**\n",
        "\n",
        "*   .describe\n",
        "*   .mean\n",
        "*   HW วนลูป missing .isnull\n",
        "*   ต่อตารางแกน X แกน y\n",
        "*   .groupby\n",
        "*   save table"
      ],
      "metadata": {
        "id": "7Cj8YZIyNLRK"
      }
    }
  ]
}