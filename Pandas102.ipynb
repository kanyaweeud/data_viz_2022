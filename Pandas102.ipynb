{
  "nbformat": 4,
  "nbformat_minor": 0,
  "metadata": {
    "colab": {
      "name": "Pandas102.ipynb",
      "provenance": [],
      "include_colab_link": true
    },
    "kernelspec": {
      "name": "python3",
      "display_name": "Python 3"
    },
    "language_info": {
      "name": "python"
    }
  },
  "cells": [
    {
      "cell_type": "markdown",
      "metadata": {
        "id": "view-in-github",
        "colab_type": "text"
      },
      "source": [
        "<a href=\"https://colab.research.google.com/github/kanyaweeud/data_viz_2022/blob/main/Pandas102.ipynb\" target=\"_parent\"><img src=\"https://colab.research.google.com/assets/colab-badge.svg\" alt=\"Open In Colab\"/></a>"
      ]
    },
    {
      "cell_type": "code",
      "execution_count": null,
      "metadata": {
        "id": "hI2QJRpr7MYL"
      },
      "outputs": [],
      "source": [
        "import pandas as pd\n",
        "import os"
      ]
    },
    {
      "cell_type": "code",
      "source": [
        "from google.colab import drive\n",
        "drive.mount('/content/drive')\n",
        "path = '/content/drive/My Drive/dataviz_2021_data'"
      ],
      "metadata": {
        "id": "TUsGfllN7TWT"
      },
      "execution_count": null,
      "outputs": []
    },
    {
      "cell_type": "code",
      "source": [
        "data_file_path = os.path.join(path,'pm-20-jan-2021.csv') \n",
        "data_df = pd.read_csv(data_file_path)"
      ],
      "metadata": {
        "id": "iZYscpGi7Us1"
      },
      "execution_count": null,
      "outputs": []
    },
    {
      "cell_type": "code",
      "source": [
        "data_df.head()"
      ],
      "metadata": {
        "id": "cn85thL37Wbg"
      },
      "execution_count": null,
      "outputs": []
    },
    {
      "cell_type": "code",
      "source": [
        "data_df"
      ],
      "metadata": {
        "id": "-zD4w_kT7YIu"
      },
      "execution_count": null,
      "outputs": []
    },
    {
      "cell_type": "markdown",
      "source": [
        "# **ตรวจสอบค่าใน column**"
      ],
      "metadata": {
        "id": "trThFZ2H7bqr"
      }
    },
    {
      "cell_type": "code",
      "source": [
        "set(data_df['province_of_onset'])"
      ],
      "metadata": {
        "id": "rj767zpU7Zur"
      },
      "execution_count": null,
      "outputs": []
    },
    {
      "cell_type": "code",
      "source": [
        "len('สมุุทรสงคราม')"
      ],
      "metadata": {
        "id": "7Vk6i2-S7eyU"
      },
      "execution_count": null,
      "outputs": []
    },
    {
      "cell_type": "code",
      "source": [
        "'สมุุทรสงคราม'[2]"
      ],
      "metadata": {
        "id": "xvZYIUWR7gp9"
      },
      "execution_count": null,
      "outputs": []
    },
    {
      "cell_type": "code",
      "source": [
        "'สมุุทรสงคราม'[3]"
      ],
      "metadata": {
        "id": "SZ4nf9RM7hsM"
      },
      "execution_count": null,
      "outputs": []
    },
    {
      "cell_type": "markdown",
      "source": [
        "# **ต่อตาราง**\n",
        "\n",
        "*   ต่อในแนวแกน Y (เพิ่มจำนวนข้อมูล)\n",
        "*   ต่อในแนวแกน X (เพิ่มรายละเอียดของข้อมูล)\n",
        "\n"
      ],
      "metadata": {
        "id": "t0ClHp-q7kEt"
      }
    },
    {
      "cell_type": "markdown",
      "source": [
        "# ต่อแกน Y"
      ],
      "metadata": {
        "id": "a9Im76IV7qX2"
      }
    },
    {
      "cell_type": "code",
      "source": [
        "BKK = data_df[data_df['province_of_onset']=='กรุงเทพมหานคร']\n",
        "BKK.head()"
      ],
      "metadata": {
        "id": "KUEoPRns7j2c"
      },
      "execution_count": null,
      "outputs": []
    },
    {
      "cell_type": "code",
      "source": [
        "KKC = data_df[data_df['province_of_onset']=='ขอนแก่น']\n",
        "KKC.head()"
      ],
      "metadata": {
        "id": "XU2kEWOM7jOs"
      },
      "execution_count": null,
      "outputs": []
    },
    {
      "cell_type": "markdown",
      "source": [
        "# ต่อตารางให้เป็นข้อมูล 2 จังหวัด"
      ],
      "metadata": {
        "id": "_T8cOC4f7wjP"
      }
    },
    {
      "cell_type": "code",
      "source": [
        "dataBKKKKC = pd.concat([BKK,KKC])\n",
        "dataBKKKKC"
      ],
      "metadata": {
        "id": "u0hBNT977x2c"
      },
      "execution_count": null,
      "outputs": []
    },
    {
      "cell_type": "code",
      "source": [
        "dataBKKKKC = pd.concat([BKK,KKC,BKK])"
      ],
      "metadata": {
        "id": "42robSgd70ui"
      },
      "execution_count": null,
      "outputs": []
    },
    {
      "cell_type": "code",
      "source": [
        "dataBKKKKC"
      ],
      "metadata": {
        "id": "qzvefyOY70rY"
      },
      "execution_count": null,
      "outputs": []
    },
    {
      "cell_type": "markdown",
      "source": [
        "# ถ้าเอาตารางไม่เหมือนกันมา concat กัน"
      ],
      "metadata": {
        "id": "mmF69zau74bj"
      }
    },
    {
      "cell_type": "code",
      "source": [
        "BKK2 = data_df[data_df['province_of_onset']=='กรุงเทพมหานคร'][['sex','age','nationality']]\n",
        "BKK2.head()"
      ],
      "metadata": {
        "id": "XhpEUMdo70lX"
      },
      "execution_count": null,
      "outputs": []
    },
    {
      "cell_type": "code",
      "source": [
        "KKC2 = data_df[data_df['province_of_onset']=='ขอนแก่น'][['age','nationality','sex']]\n",
        "KKC2.head()"
      ],
      "metadata": {
        "id": "B1k8aCuL70d6"
      },
      "execution_count": null,
      "outputs": []
    },
    {
      "cell_type": "code",
      "source": [
        "pd.concat([BKK2,KKC2])"
      ],
      "metadata": {
        "id": "6joFqaH979OG"
      },
      "execution_count": null,
      "outputs": []
    },
    {
      "cell_type": "code",
      "source": [
        "KKC3 = data_df[data_df['province_of_onset']=='ขอนแก่น'][['age','nationality','risk']]\n",
        "KKC3.head()"
      ],
      "metadata": {
        "id": "dnTMjgij79LW"
      },
      "execution_count": null,
      "outputs": []
    },
    {
      "cell_type": "code",
      "source": [
        "pd.concat([BKK2,KKC3])"
      ],
      "metadata": {
        "id": "m_a_w9Op79CF"
      },
      "execution_count": null,
      "outputs": []
    },
    {
      "cell_type": "code",
      "source": [
        "KKC4 = data_df[data_df['province_of_onset']=='ขอนแก่น'][['age','nationality']]\n",
        "KKC4.head()"
      ],
      "metadata": {
        "id": "uY-5_gFV7_Zx"
      },
      "execution_count": null,
      "outputs": []
    },
    {
      "cell_type": "code",
      "source": [
        "pd.concat([BKK2,KKC4])"
      ],
      "metadata": {
        "id": "RPVnIS7J786k"
      },
      "execution_count": null,
      "outputs": []
    },
    {
      "cell_type": "markdown",
      "source": [
        "# ต่อแกน X"
      ],
      "metadata": {
        "id": "7UvvlpNh8C58"
      }
    },
    {
      "cell_type": "code",
      "source": [
        "personal_data = data_df[['No.','sex','age','nationality']]\n",
        "personal_data.head()"
      ],
      "metadata": {
        "id": "jnxeyKlv8EpH"
      },
      "execution_count": null,
      "outputs": []
    },
    {
      "cell_type": "code",
      "source": [
        "covid_data = data_df[['No.','announce_date','province_of_isolation','province_of_onset','risk']].sample(frac=1)\n",
        "covid_data.head()"
      ],
      "metadata": {
        "id": "WBVeKfdW8Gdb"
      },
      "execution_count": null,
      "outputs": []
    },
    {
      "cell_type": "markdown",
      "source": [
        "# เอาตารางสองอันมาต่อกัน"
      ],
      "metadata": {
        "id": "Mm-45lVM8Inz"
      }
    },
    {
      "cell_type": "code",
      "source": [
        "personalcovid_data = personal_data.merge(covid_data) personalcovid_data.head()"
      ],
      "metadata": {
        "id": "NOWtuU7S8P9r"
      },
      "execution_count": null,
      "outputs": []
    },
    {
      "cell_type": "code",
      "source": [
        "personalcovid_data = covid_data.merge(personal_data)\n",
        "personalcovid_data.head()"
      ],
      "metadata": {
        "id": "HuK09xBO8N4U"
      },
      "execution_count": null,
      "outputs": []
    },
    {
      "cell_type": "markdown",
      "source": [
        "# **Save Table**"
      ],
      "metadata": {
        "id": "6habe-_r8M1M"
      }
    },
    {
      "cell_type": "code",
      "source": [
        "personalcovid_data.to_csv(os.path.join(path,'my_processed_data.csv') )"
      ],
      "metadata": {
        "id": "rx3vfaIr8U92"
      },
      "execution_count": null,
      "outputs": []
    },
    {
      "cell_type": "code",
      "source": [
        "personalcovid_data.to_csv('my_processed_data.csv')"
      ],
      "metadata": {
        "id": "aTAeC3u38WPT"
      },
      "execution_count": null,
      "outputs": []
    },
    {
      "cell_type": "markdown",
      "source": [
        "# **Groupby**\n",
        "https://www.kaggle.com/crawford/python-groupby-tutorial#"
      ],
      "metadata": {
        "id": "lIzEB0Q08Xtz"
      }
    },
    {
      "cell_type": "code",
      "source": [
        "data_df.groupby('nationality').count()"
      ],
      "metadata": {
        "id": "cnr-YH_68eVA"
      },
      "execution_count": null,
      "outputs": []
    },
    {
      "cell_type": "code",
      "source": [
        "data_df.groupby('nationality').mean()"
      ],
      "metadata": {
        "id": "7NCwnL4O8geg"
      },
      "execution_count": null,
      "outputs": []
    },
    {
      "cell_type": "code",
      "source": [
        "data_df.groupby('nationality')['age'].min()"
      ],
      "metadata": {
        "id": "vLtl29qd8kJe"
      },
      "execution_count": null,
      "outputs": []
    },
    {
      "cell_type": "code",
      "source": [
        "data_df.groupby('nationality').min(' ')"
      ],
      "metadata": {
        "id": "O_lsqSR48leU"
      },
      "execution_count": null,
      "outputs": []
    },
    {
      "cell_type": "markdown",
      "source": [
        "# **Create Pandas table**"
      ],
      "metadata": {
        "id": "bkDnpU1O8qJ-"
      }
    },
    {
      "cell_type": "code",
      "source": [
        "import pandas as pd"
      ],
      "metadata": {
        "id": "dgPv3xr__TlM"
      },
      "execution_count": null,
      "outputs": []
    },
    {
      "cell_type": "markdown",
      "source": [
        "**Dictionary(row oriented)**"
      ],
      "metadata": {
        "id": "4kyVklNH_U4T"
      }
    },
    {
      "cell_type": "code",
      "source": [
        "data_list = [ {'account':'Jones LLC','Jan':150,'Feb':200,'Mar':140},\n",
        "              {'account':'Alpha Co','Jan':200,'Feb':210,'Mar':215},\n",
        "              {'account':'Blue Inc','Jan':50,'Feb':90,'Mar':95},         \n",
        "            ]"
      ],
      "metadata": {
        "id": "selj4khi_UcD"
      },
      "execution_count": null,
      "outputs": []
    },
    {
      "cell_type": "code",
      "source": [
        "data_list"
      ],
      "metadata": {
        "id": "kZSKu69J_X8r"
      },
      "execution_count": null,
      "outputs": []
    },
    {
      "cell_type": "code",
      "source": [
        "df1 = pd.DataFrame(data_list)\n",
        "df1"
      ],
      "metadata": {
        "id": "rgVLyUwq_eAM"
      },
      "execution_count": null,
      "outputs": []
    },
    {
      "cell_type": "markdown",
      "source": [
        "**List(row oriented)**"
      ],
      "metadata": {
        "id": "ADo27exB_e2j"
      }
    },
    {
      "cell_type": "code",
      "source": [
        "data = [['Jones LLC',150,200,140],\n",
        "        ['Alpha Co',200,210,215],\n",
        "        ['Blue Inc',50,90,95]]\n",
        "header = ['account','Jan','Feb','Mar']"
      ],
      "metadata": {
        "id": "yjKaA-Xv_g4D"
      },
      "execution_count": null,
      "outputs": []
    },
    {
      "cell_type": "code",
      "source": [
        "df2 = pd.DataFrame.from_records(data,columns=header)\n",
        "df2"
      ],
      "metadata": {
        "id": "Vf50ApH2_iwT"
      },
      "execution_count": null,
      "outputs": []
    },
    {
      "cell_type": "markdown",
      "source": [
        "**Dictionary(column oriented)**"
      ],
      "metadata": {
        "id": "6zNXf9J0_kgD"
      }
    },
    {
      "cell_type": "code",
      "source": [
        "data_dict = { 'account':['Jones LLC','Alpha Co','Blue Inc'],\n",
        "              'Jan':[150,200,50],\n",
        "              'Feb':[200,210,90],\n",
        "              'Mar':[140,215,95]\n",
        "}"
      ],
      "metadata": {
        "id": "9D6AfyC__mmc"
      },
      "execution_count": null,
      "outputs": []
    },
    {
      "cell_type": "code",
      "source": [
        "df3 = pd.DataFrame.from_dict(data_dict)\n",
        "df3"
      ],
      "metadata": {
        "id": "171KvLP__p49"
      },
      "execution_count": null,
      "outputs": []
    },
    {
      "cell_type": "markdown",
      "source": [
        "**List(column oriented)**"
      ],
      "metadata": {
        "id": "fYE7mZ_1_sPO"
      }
    },
    {
      "cell_type": "code",
      "source": [
        "data_item = [['account',['Jones LLC','Alpha Co','Blue Inc']],\n",
        "             ['Jan',[150,200,50]],\n",
        "             ['Feb',[200,210,90]],\n",
        "             ['Mar',[140,215,95]]\n",
        "            ]"
      ],
      "metadata": {
        "id": "jjSjA-Kr_ubM"
      },
      "execution_count": null,
      "outputs": []
    },
    {
      "cell_type": "code",
      "source": [
        "# pandas version บน colab วันที่ 26Jan22 ยังมี bug \n",
        "# df4 = pd.DataFrame.from_items(data_item)\n",
        "# df4"
      ],
      "metadata": {
        "id": "glE_VBLx_wgb"
      },
      "execution_count": null,
      "outputs": []
    }
  ]
}