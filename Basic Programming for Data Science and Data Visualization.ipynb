{
  "nbformat": 4,
  "nbformat_minor": 0,
  "metadata": {
    "colab": {
      "name": "Untitled0.ipynb",
      "provenance": [],
      "authorship_tag": "ABX9TyMn/VS49mAofEMvzHm8AC4b",
      "include_colab_link": true
    },
    "kernelspec": {
      "name": "python3",
      "display_name": "Python 3"
    },
    "language_info": {
      "name": "python"
    }
  },
  "cells": [
    {
      "cell_type": "markdown",
      "metadata": {
        "id": "view-in-github",
        "colab_type": "text"
      },
      "source": [
        "<a href=\"https://colab.research.google.com/github/kanyaweeud/data_viz_2022/blob/main/Basic%20Programming%20for%20Data%20Science%20and%20Data%20Visualization.ipynb\" target=\"_parent\"><img src=\"https://colab.research.google.com/assets/colab-badge.svg\" alt=\"Open In Colab\"/></a>"
      ]
    },
    {
      "cell_type": "markdown",
      "source": [
        "# Functions ($f(x) = y$)"
      ],
      "metadata": {
        "id": "PDGZLa_xtl-r"
      }
    },
    {
      "cell_type": "markdown",
      "source": [
        "```python\n",
        "def function_name(input_x):\n",
        "    # do something with input_x to get output_y\n",
        "    return output_y\n",
        "```"
      ],
      "metadata": {
        "id": "LeqWOZ4itpjj"
      }
    },
    {
      "cell_type": "markdown",
      "source": [
        "$f_1(x)=x^2 + 75$"
      ],
      "metadata": {
        "id": "rcjXmA5YtsNT"
      }
    },
    {
      "cell_type": "code",
      "source": [
        "def function_f1(x) :\n",
        "      a = x**2\n",
        "      y = a + 75\n",
        "      return y\n",
        "\n",
        "print('done!')"
      ],
      "metadata": {
        "colab": {
          "base_uri": "https://localhost:8080/"
        },
        "id": "lixCnJSEtnTw",
        "outputId": "323c5a68-712c-474b-9ef7-c9372623b4b3"
      },
      "execution_count": 1,
      "outputs": [
        {
          "output_type": "stream",
          "name": "stdout",
          "text": [
            "done!\n"
          ]
        }
      ]
    },
    {
      "cell_type": "code",
      "source": [
        "function_f1(3)"
      ],
      "metadata": {
        "colab": {
          "base_uri": "https://localhost:8080/"
        },
        "id": "bGhZ0Vodtn3C",
        "outputId": "170b7a08-0ff3-441c-8633-4bddf55fade1"
      },
      "execution_count": 2,
      "outputs": [
        {
          "output_type": "execute_result",
          "data": {
            "text/plain": [
              "84"
            ]
          },
          "metadata": {},
          "execution_count": 2
        }
      ]
    },
    {
      "cell_type": "markdown",
      "source": [
        "##function มีส่วนสำคัญทั้งหมด 4 ส่วน\n",
        "\n",
        "1. บอก python ว่าเราเขียนฟังก์ชั่น ชื่ออะไร def function_name( ) : (ขาดไม่ได้)\n",
        "2. กำหนดตัวแปรที่จะเป็น input Input (ขาดได้)\n",
        "3. ส่วนประมวลผล do_something with Input to get Output (ขาดไม่ได้)\n",
        "4. ส่วน output return Output(ขาดได้)"
      ],
      "metadata": {
        "id": "esqKSMaZtwXf"
      }
    },
    {
      "cell_type": "markdown",
      "source": [
        "##ตัวอย่าง function มีส่วนประกอบครบ"
      ],
      "metadata": {
        "id": "SA_9sEgUtzWj"
      }
    },
    {
      "cell_type": "code",
      "source": [
        "def function_f1(x) :\n",
        "      a = x**2\n",
        "      y = a + 75\n",
        "      return y"
      ],
      "metadata": {
        "id": "BBu4iuwGtnzj"
      },
      "execution_count": 3,
      "outputs": []
    },
    {
      "cell_type": "markdown",
      "source": [
        "##ตัวอย่าง function ที่ ไม่มี input"
      ],
      "metadata": {
        "id": "8MEqfRxHt5pK"
      }
    },
    {
      "cell_type": "code",
      "source": [
        "def pi_v():\n",
        "    y = 3.14159265359\n",
        "    return y"
      ],
      "metadata": {
        "id": "Glrfm3Zdtns_"
      },
      "execution_count": 4,
      "outputs": []
    },
    {
      "cell_type": "code",
      "execution_count": 5,
      "metadata": {
        "colab": {
          "base_uri": "https://localhost:8080/"
        },
        "id": "k3E01K6StT3e",
        "outputId": "d2bc0c8a-f5a0-4ad7-bfce-021468deb3fb"
      },
      "outputs": [
        {
          "output_type": "stream",
          "name": "stdout",
          "text": [
            "12.56637061436\n"
          ]
        }
      ],
      "source": [
        "piv = pi_v()\n",
        "circle_area_r2 = piv*(2**2)\n",
        "print(circle_area_r2) "
      ]
    },
    {
      "cell_type": "markdown",
      "source": [
        "##Function ไม่มี process ไม่ได้"
      ],
      "metadata": {
        "id": "unR_V2MttlhC"
      }
    },
    {
      "cell_type": "code",
      "source": [
        "def function_a():"
      ],
      "metadata": {
        "colab": {
          "base_uri": "https://localhost:8080/",
          "height": 132
        },
        "id": "W-vzZomDuHhd",
        "outputId": "3fa36d0e-7c23-4212-c32f-98ac93b5698c"
      },
      "execution_count": 6,
      "outputs": [
        {
          "output_type": "error",
          "ename": "SyntaxError",
          "evalue": "ignored",
          "traceback": [
            "\u001b[0;36m  File \u001b[0;32m\"<ipython-input-6-07a0750214a8>\"\u001b[0;36m, line \u001b[0;32m1\u001b[0m\n\u001b[0;31m    def function_a():\u001b[0m\n\u001b[0m                     ^\u001b[0m\n\u001b[0;31mSyntaxError\u001b[0m\u001b[0;31m:\u001b[0m unexpected EOF while parsing\n"
          ]
        }
      ]
    },
    {
      "cell_type": "markdown",
      "source": [
        "##ตัวอย่าง Function ที่ไม่มี output"
      ],
      "metadata": {
        "id": "f6uSPf9LuLmK"
      }
    },
    {
      "cell_type": "code",
      "source": [
        "def print_name_id(name,id):\n",
        "    print(f'ชื่อ {name} รหัสประจำตัว {id}')"
      ],
      "metadata": {
        "id": "AixY6LX1uIZy"
      },
      "execution_count": 7,
      "outputs": []
    },
    {
      "cell_type": "code",
      "source": [
        "print_name_id('กัญญาวีร์','613020610-8')"
      ],
      "metadata": {
        "colab": {
          "base_uri": "https://localhost:8080/"
        },
        "id": "bs-P9dEvuILV",
        "outputId": "636fe097-7504-4b85-db01-01bff2cd6496"
      },
      "execution_count": 8,
      "outputs": [
        {
          "output_type": "stream",
          "name": "stdout",
          "text": [
            "ชื่อ กัญญาวีร์ รหัสประจำตัว 613020610-8\n"
          ]
        }
      ]
    },
    {
      "cell_type": "code",
      "source": [
        "a = print_name_id('กัญญาวีร์','613020610-8')"
      ],
      "metadata": {
        "colab": {
          "base_uri": "https://localhost:8080/"
        },
        "id": "FGSsCoDnuIBl",
        "outputId": "39fb663a-893e-43a0-bb7a-192b403a5d4c"
      },
      "execution_count": 9,
      "outputs": [
        {
          "output_type": "stream",
          "name": "stdout",
          "text": [
            "ชื่อ กัญญาวีร์ รหัสประจำตัว 613020610-8\n"
          ]
        }
      ]
    },
    {
      "cell_type": "markdown",
      "source": [
        "ตัวอย่าง function print https://www.programiz.com/python-programming/methods/built-in/print"
      ],
      "metadata": {
        "id": "z5ZHAJZsuoNt"
      }
    },
    {
      "cell_type": "code",
      "source": [
        "print('กัญญาวร์')\n",
        "print('613020610-8')"
      ],
      "metadata": {
        "colab": {
          "base_uri": "https://localhost:8080/"
        },
        "id": "5YgwpRLkuoyW",
        "outputId": "44f55e4a-b960-4eb2-eda4-7757603089c3"
      },
      "execution_count": 10,
      "outputs": [
        {
          "output_type": "stream",
          "name": "stdout",
          "text": [
            "กัญญาวร์\n",
            "613020610-8\n"
          ]
        }
      ]
    },
    {
      "cell_type": "code",
      "source": [
        "print('กัญญาวีร์',end='->')\n",
        "print('613020610-8')"
      ],
      "metadata": {
        "colab": {
          "base_uri": "https://localhost:8080/"
        },
        "id": "gYfgDbLsuH9i",
        "outputId": "98fdb5c6-09f0-4d12-ba56-3c1e82958929"
      },
      "execution_count": 11,
      "outputs": [
        {
          "output_type": "stream",
          "name": "stdout",
          "text": [
            "กัญญาวีร์->613020610-8\n"
          ]
        }
      ]
    },
    {
      "cell_type": "code",
      "source": [
        "print('กัญญาวีร์','613020610-8',sep=' & ')"
      ],
      "metadata": {
        "colab": {
          "base_uri": "https://localhost:8080/"
        },
        "id": "Ekkgg6iluvaC",
        "outputId": "47053a86-837d-456e-e910-cf4eccfe2a58"
      },
      "execution_count": 12,
      "outputs": [
        {
          "output_type": "stream",
          "name": "stdout",
          "text": [
            "กัญญาวีร์ & 613020610-8\n"
          ]
        }
      ]
    },
    {
      "cell_type": "markdown",
      "source": [
        "## input ของ function แบ่งเป็น 2 ชนิด (จำเป็นต้องใส่ กับ ไม่จำเป็นต้องใส่)"
      ],
      "metadata": {
        "id": "NVXQ1a1juxc3"
      }
    },
    {
      "cell_type": "markdown",
      "source": [
        "ตัวอย่าง function `print_grade() มี input 3 ตัว จำเป็นต้องใส่ 2 ตัว คือ name กับ id และไม่จำเป็นต้องใส่ 1 ตัว คือเกรด ซึ่งมีค่า default เป็น F"
      ],
      "metadata": {
        "id": "tMf8KkM5u9Yv"
      }
    },
    {
      "cell_type": "code",
      "source": [
        "def print_grade(name,id,grade = 'F'):\n",
        "      print(f'รหัสประจำตัว {id} ชื่อ {name}')\n",
        "      print(f'ได้เกรด {grade}')"
      ],
      "metadata": {
        "id": "PW1F3I_qvAPg"
      },
      "execution_count": 13,
      "outputs": []
    },
    {
      "cell_type": "code",
      "source": [
        "print_grade('นางสาวกัญญาวีร์ อุดม','613020610-8')"
      ],
      "metadata": {
        "colab": {
          "base_uri": "https://localhost:8080/"
        },
        "id": "Z8p-A1ZcvA1P",
        "outputId": "a1289a90-5905-4f31-984f-2a6c503fcdbc"
      },
      "execution_count": 14,
      "outputs": [
        {
          "output_type": "stream",
          "name": "stdout",
          "text": [
            "รหัสประจำตัว 613020610-8 ชื่อ นางสาวกัญญาวีร์ อุดม\n",
            "ได้เกรด F\n"
          ]
        }
      ]
    },
    {
      "cell_type": "code",
      "source": [
        "print_grade('นางสาวกัญญาวีร์ อุดม','613020610-8','A')"
      ],
      "metadata": {
        "colab": {
          "base_uri": "https://localhost:8080/"
        },
        "id": "egK6TmhCvAs4",
        "outputId": "254fdedc-bff3-4c22-a5e5-6a90f9d80300"
      },
      "execution_count": 15,
      "outputs": [
        {
          "output_type": "stream",
          "name": "stdout",
          "text": [
            "รหัสประจำตัว 613020610-8 ชื่อ นางสาวกัญญาวีร์ อุดม\n",
            "ได้เกรด A\n"
          ]
        }
      ]
    },
    {
      "cell_type": "code",
      "source": [
        "print_grade(id ='613020610-8',name='นางสาวกัญญาวีร์ อุดม',grade='B+')"
      ],
      "metadata": {
        "colab": {
          "base_uri": "https://localhost:8080/"
        },
        "id": "EudAKo_WvAo-",
        "outputId": "e02c502d-1781-4548-c1ed-929861d34bbe"
      },
      "execution_count": 16,
      "outputs": [
        {
          "output_type": "stream",
          "name": "stdout",
          "text": [
            "รหัสประจำตัว 613020610-8 ชื่อ นางสาวกัญญาวีร์ อุดม\n",
            "ได้เกรด B+\n"
          ]
        }
      ]
    },
    {
      "cell_type": "markdown",
      "source": [
        "# Looping (for)"
      ],
      "metadata": {
        "id": "bMTgc3eSvryj"
      }
    },
    {
      "cell_type": "markdown",
      "source": [
        "```python\n",
        "for member in listEx:\n",
        "    do_something()\n",
        "```"
      ],
      "metadata": {
        "id": "nc6HNEB5vwch"
      }
    },
    {
      "cell_type": "code",
      "source": [
        "for member in [1,2,3,4,5,6]:\n",
        "    print(member)"
      ],
      "metadata": {
        "colab": {
          "base_uri": "https://localhost:8080/"
        },
        "id": "oxuuJ5dKvsoZ",
        "outputId": "b28ce4b6-f760-4736-e13b-1c5f31f64c48"
      },
      "execution_count": 17,
      "outputs": [
        {
          "output_type": "stream",
          "name": "stdout",
          "text": [
            "1\n",
            "2\n",
            "3\n",
            "4\n",
            "5\n",
            "6\n"
          ]
        }
      ]
    },
    {
      "cell_type": "code",
      "source": [
        "def print_name(name):\n",
        "      print(f'ฉันชื่อ {name}')"
      ],
      "metadata": {
        "id": "GhRhdts5vtwK"
      },
      "execution_count": 18,
      "outputs": []
    },
    {
      "cell_type": "code",
      "source": [
        "for name in ['กัญญาวีร์','มีนา','เมษา','พฤษภา','มิถุนา']:\n",
        "    N = name\n",
        "    print_name(N)"
      ],
      "metadata": {
        "colab": {
          "base_uri": "https://localhost:8080/"
        },
        "id": "4anD4We8vtq-",
        "outputId": "4c3046fe-bd3c-433a-b177-8d1bd455cbe1"
      },
      "execution_count": 19,
      "outputs": [
        {
          "output_type": "stream",
          "name": "stdout",
          "text": [
            "ฉันชื่อ กัญญาวีร์\n",
            "ฉันชื่อ มีนา\n",
            "ฉันชื่อ เมษา\n",
            "ฉันชื่อ พฤษภา\n",
            "ฉันชื่อ มิถุนา\n"
          ]
        }
      ]
    },
    {
      "cell_type": "code",
      "source": [
        "list_name_id_grade = [['มีนา','613020611-2','A'],\n",
        "                                ['เมษา','613020612-3','B+'],\n",
        "                                ['พฤษภา','613020613-4','B']]"
      ],
      "metadata": {
        "id": "92D-GMx0vtfS"
      },
      "execution_count": 20,
      "outputs": []
    },
    {
      "cell_type": "code",
      "source": [
        "for each in list_name_id_grade:\n",
        "    name = each[0]\n",
        "    id = each[1]\n",
        "    grade = each[2]\n",
        "    print_grade(name,id,grade)\n",
        "    print('--------------------')"
      ],
      "metadata": {
        "colab": {
          "base_uri": "https://localhost:8080/"
        },
        "id": "YbDkC2ebwGFb",
        "outputId": "343d2ee0-67ed-40a9-a7cd-85fd947735e7"
      },
      "execution_count": 21,
      "outputs": [
        {
          "output_type": "stream",
          "name": "stdout",
          "text": [
            "รหัสประจำตัว 613020611-2 ชื่อ มีนา\n",
            "ได้เกรด A\n",
            "--------------------\n",
            "รหัสประจำตัว 613020612-3 ชื่อ เมษา\n",
            "ได้เกรด B+\n",
            "--------------------\n",
            "รหัสประจำตัว 613020613-4 ชื่อ พฤษภา\n",
            "ได้เกรด B\n",
            "--------------------\n"
          ]
        }
      ]
    },
    {
      "cell_type": "markdown",
      "source": [
        "## ใช้ for loop เพิ่มสมาชิกใน list"
      ],
      "metadata": {
        "id": "evlOSn77xNGu"
      }
    },
    {
      "cell_type": "code",
      "source": [
        "list_name = [] # ตั้งชื่อที่เป็น list ว่างเอาไว้ก่อน\n",
        "list_id = [] # ตั้งชื่อที่เป็น list ว่างเอาไว้ก่อน\n",
        "list_grade = [] # ตั้งชื่อที่เป็น list ว่างเอาไว้ก่อน\n",
        "for each in list_name_id_grade:\n",
        "    list_name.append(each[0])\n",
        "    list_id.append(each[1])\n",
        "    list_grade.append(each[2])"
      ],
      "metadata": {
        "id": "laCaGUuSxOHg"
      },
      "execution_count": 22,
      "outputs": []
    },
    {
      "cell_type": "code",
      "source": [
        "list_name"
      ],
      "metadata": {
        "colab": {
          "base_uri": "https://localhost:8080/"
        },
        "id": "7DqI6cyUxOuN",
        "outputId": "026682c2-9315-47e2-9428-6cd829f2b90b"
      },
      "execution_count": 23,
      "outputs": [
        {
          "output_type": "execute_result",
          "data": {
            "text/plain": [
              "['มีนา', 'เมษา', 'พฤษภา']"
            ]
          },
          "metadata": {},
          "execution_count": 23
        }
      ]
    },
    {
      "cell_type": "markdown",
      "source": [
        "### การวนลูปด้วย range()"
      ],
      "metadata": {
        "id": "u68yPbpaxUnj"
      }
    },
    {
      "cell_type": "code",
      "source": [
        "for i in range(50):\n",
        "    print('ไก่', end = ' ')"
      ],
      "metadata": {
        "colab": {
          "base_uri": "https://localhost:8080/"
        },
        "id": "HEtQXW-_xOoi",
        "outputId": "de52e392-d1d4-4b56-f944-afbc3ec29041"
      },
      "execution_count": 24,
      "outputs": [
        {
          "output_type": "stream",
          "name": "stdout",
          "text": [
            "ไก่ ไก่ ไก่ ไก่ ไก่ ไก่ ไก่ ไก่ ไก่ ไก่ ไก่ ไก่ ไก่ ไก่ ไก่ ไก่ ไก่ ไก่ ไก่ ไก่ ไก่ ไก่ ไก่ ไก่ ไก่ ไก่ ไก่ ไก่ ไก่ ไก่ ไก่ ไก่ ไก่ ไก่ ไก่ ไก่ ไก่ ไก่ ไก่ ไก่ ไก่ ไก่ ไก่ ไก่ ไก่ ไก่ ไก่ ไก่ ไก่ ไก่ "
          ]
        }
      ]
    },
    {
      "cell_type": "markdown",
      "source": [
        "## Loop ซ้อน Loop"
      ],
      "metadata": {
        "id": "BfQBrAAwxc_5"
      }
    },
    {
      "cell_type": "code",
      "source": [
        "for mem1 in range(2,5): # [2,3,4]\n",
        "    print(f'now mem1 = {mem1}')\n",
        "    for mem2 in range(1,13): # [1,2,3,4,5,6,7,8,9,10,11,12]\n",
        "        print(f'{mem1} x {mem2} = {mem1*mem2}') #เอามาคูณกัน ให้กลายเป็นสูตรคูณแม่ 2 แม่ 3 แม่ 4\n",
        "    print(f'end inner for mem1 = {mem1}')"
      ],
      "metadata": {
        "colab": {
          "base_uri": "https://localhost:8080/"
        },
        "id": "-ori3raUxOfZ",
        "outputId": "f33abe31-fd33-43f1-d275-73ff36833597"
      },
      "execution_count": 25,
      "outputs": [
        {
          "output_type": "stream",
          "name": "stdout",
          "text": [
            "now mem1 = 2\n",
            "2 x 1 = 2\n",
            "2 x 2 = 4\n",
            "2 x 3 = 6\n",
            "2 x 4 = 8\n",
            "2 x 5 = 10\n",
            "2 x 6 = 12\n",
            "2 x 7 = 14\n",
            "2 x 8 = 16\n",
            "2 x 9 = 18\n",
            "2 x 10 = 20\n",
            "2 x 11 = 22\n",
            "2 x 12 = 24\n",
            "end inner for mem1 = 2\n",
            "now mem1 = 3\n",
            "3 x 1 = 3\n",
            "3 x 2 = 6\n",
            "3 x 3 = 9\n",
            "3 x 4 = 12\n",
            "3 x 5 = 15\n",
            "3 x 6 = 18\n",
            "3 x 7 = 21\n",
            "3 x 8 = 24\n",
            "3 x 9 = 27\n",
            "3 x 10 = 30\n",
            "3 x 11 = 33\n",
            "3 x 12 = 36\n",
            "end inner for mem1 = 3\n",
            "now mem1 = 4\n",
            "4 x 1 = 4\n",
            "4 x 2 = 8\n",
            "4 x 3 = 12\n",
            "4 x 4 = 16\n",
            "4 x 5 = 20\n",
            "4 x 6 = 24\n",
            "4 x 7 = 28\n",
            "4 x 8 = 32\n",
            "4 x 9 = 36\n",
            "4 x 10 = 40\n",
            "4 x 11 = 44\n",
            "4 x 12 = 48\n",
            "end inner for mem1 = 4\n"
          ]
        }
      ]
    },
    {
      "cell_type": "markdown",
      "source": [
        "### Loop in function"
      ],
      "metadata": {
        "id": "XPSP4OfMxjKP"
      }
    },
    {
      "cell_type": "code",
      "source": [
        "def print_grade_loop(names,grades):\n",
        "    for n,g in zip(names,grades):\n",
        "        print(f'{n} ได้เกรด {g}')"
      ],
      "metadata": {
        "id": "_SStUH13xhAx"
      },
      "execution_count": 26,
      "outputs": []
    },
    {
      "cell_type": "code",
      "source": [
        "print_grade_loop(list_name,list_grade)"
      ],
      "metadata": {
        "colab": {
          "base_uri": "https://localhost:8080/"
        },
        "id": "bLJzmlmuxg-C",
        "outputId": "e6dc7c3b-43f0-4c32-e1d4-8cc658c1a9d0"
      },
      "execution_count": 27,
      "outputs": [
        {
          "output_type": "stream",
          "name": "stdout",
          "text": [
            "มีนา ได้เกรด A\n",
            "เมษา ได้เกรด B+\n",
            "พฤษภา ได้เกรด B\n"
          ]
        }
      ]
    },
    {
      "cell_type": "markdown",
      "source": [
        "#Conditional Statemant (if)"
      ],
      "metadata": {
        "id": "Efrqt-mdxr23"
      }
    },
    {
      "cell_type": "markdown",
      "source": [
        "```python\n",
        "if condition1:\n",
        "  do_something() ## ถ้า condition1 เป็นจริง ทำ do_something()\n",
        "elif condition2:\n",
        "  do_another_thing() ## ถ้า condition1 ไม่เป็นจริงแต่ condition2 เป็นจริง ทำ do_another_thing()\n",
        "else:\n",
        "  do_the_last_thing() ## ถ้าไม่มี conditon ไหนเป็นจริงเลย ทำ do_the_last_thing()\n",
        "```"
      ],
      "metadata": {
        "id": "EVypZHQhxwo7"
      }
    },
    {
      "cell_type": "code",
      "source": [
        "for n in list_name:\n",
        "    if len(n)>10:\n",
        "       print(f'{n} ได้เกรด A')\n",
        "    else:\n",
        "      print(f'{n} ได้เกรด F')"
      ],
      "metadata": {
        "colab": {
          "base_uri": "https://localhost:8080/"
        },
        "id": "9ciKdVQyxg6w",
        "outputId": "eb2f63f6-6f1d-4da5-b667-bb3cb624fc8c"
      },
      "execution_count": 28,
      "outputs": [
        {
          "output_type": "stream",
          "name": "stdout",
          "text": [
            "มีนา ได้เกรด F\n",
            "เมษา ได้เกรด F\n",
            "พฤษภา ได้เกรด F\n"
          ]
        }
      ]
    },
    {
      "cell_type": "markdown",
      "source": [
        "### operator ที่ใช้ตรวจสอบ condition\n",
        "\n",
        "==, !=, >=, <=, <, >, and, or"
      ],
      "metadata": {
        "id": "9cyY0Ocyx3ao"
      }
    },
    {
      "cell_type": "code",
      "source": [
        "10 == 20"
      ],
      "metadata": {
        "colab": {
          "base_uri": "https://localhost:8080/"
        },
        "id": "r73yvfdWxg3T",
        "outputId": "53e8ed25-7000-46ea-af5e-c5df1ec20155"
      },
      "execution_count": 29,
      "outputs": [
        {
          "output_type": "execute_result",
          "data": {
            "text/plain": [
              "False"
            ]
          },
          "metadata": {},
          "execution_count": 29
        }
      ]
    },
    {
      "cell_type": "code",
      "source": [
        "b = 15 <= 20\n",
        "print(b)"
      ],
      "metadata": {
        "colab": {
          "base_uri": "https://localhost:8080/"
        },
        "id": "A10pfG7Wxgyb",
        "outputId": "418cedde-c474-4b1f-c7ba-befcf4e84af2"
      },
      "execution_count": 30,
      "outputs": [
        {
          "output_type": "stream",
          "name": "stdout",
          "text": [
            "True\n"
          ]
        }
      ]
    },
    {
      "cell_type": "code",
      "source": [
        "if a:\n",
        "  print('x')"
      ],
      "metadata": {
        "id": "s9hZA3xXx7bc"
      },
      "execution_count": 31,
      "outputs": []
    },
    {
      "cell_type": "code",
      "source": [
        "if True:\n",
        "  print('x')"
      ],
      "metadata": {
        "colab": {
          "base_uri": "https://localhost:8080/"
        },
        "id": "YcLFgNHLx7WK",
        "outputId": "3c1e414b-af07-46d1-d57f-334a4e9370da"
      },
      "execution_count": 32,
      "outputs": [
        {
          "output_type": "stream",
          "name": "stdout",
          "text": [
            "x\n"
          ]
        }
      ]
    },
    {
      "cell_type": "code",
      "source": [
        "if a and b:\n",
        "  print('x')"
      ],
      "metadata": {
        "id": "MmmLzm5Dx7TD"
      },
      "execution_count": 33,
      "outputs": []
    },
    {
      "cell_type": "code",
      "source": [
        "if a or b:\n",
        "  print('x')"
      ],
      "metadata": {
        "colab": {
          "base_uri": "https://localhost:8080/"
        },
        "id": "wjnFYU4lx7QF",
        "outputId": "cf024682-bc48-4fa1-9784-cb3a0b11ebbe"
      },
      "execution_count": 34,
      "outputs": [
        {
          "output_type": "stream",
          "name": "stdout",
          "text": [
            "x\n"
          ]
        }
      ]
    },
    {
      "cell_type": "markdown",
      "source": [
        "# HW4\n",
        "เขียน function ตัดเกรด โดยที่ input เป็นคะแนน(0-100) , output เป็นเกรด (F-A) หรือ 'ไม่สามารถตัดเกรดได้'\n",
        "\n",
        "วนลูปตัดเกรด input = [1,50,65,90,101,-5,49,'ก',80]\n",
        "\n",
        "กำหนด\n",
        "\n",
        "    ถ้ากำหนดอยู่ระหว่างมากกว่าหรือเท่ากับ 0 แต่น้อยกว่า 50 จะได้เกรด F\n",
        "    ถ้ากำหนดอยู่ระหว่างมากกว่าหรือเท่ากับ 50 แต่น้อยกว่า 55 จะได้เกรด D   \n",
        "    ถ้ากำหนดอยู่ระหว่างมากกว่าหรือเท่ากับ 55 แต่น้อยกว่า 60 จะได้เกรด D+  \n",
        "    ถ้ากำหนดอยู่ระหว่างมากกว่าหรือเท่ากับ 60 แต่น้อยกว่า 65 จะได้เกรด C  \n",
        "    ถ้ากำหนดอยู่ระหว่างมากกว่าหรือเท่ากับ 65 แต่น้อยกว่า 70 จะได้เกรด C+  \n",
        "    ถ้ากำหนดอยู่ระหว่างมากกว่าหรือเท่ากับ 70 แต่น้อยกว่า 75 จะได้เกรด B  \n",
        "    ถ้ากำหนดอยู่ระหว่างมากกว่าหรือเท่ากับ 75 แต่น้อยกว่า 80 จะได้เกรด B+  \n",
        "    ถ้ากำหนดอยู่ระหว่างมากกว่าหรือเท่ากับ 80 จะได้เกรด A\n",
        "    ถ้าคะแนนไม่อยู่ในช่วง 0-100 ให้ return 'ไม่สามารถตัดเกรดได้'"
      ],
      "metadata": {
        "id": "FWN-0iOOyEmi"
      }
    },
    {
      "cell_type": "code",
      "source": [
        "score = [1,50,65,90,101,-5,49,'ก',80]"
      ],
      "metadata": {
        "id": "OdDiy8oRx7LD"
      },
      "execution_count": 35,
      "outputs": []
    },
    {
      "cell_type": "code",
      "source": [
        "print(score)\n",
        "print('---------------------------------------')\n",
        "for s in score:\n",
        "    if type(s) == type(\"\"):\n",
        "        print (f'คะแนน {s} ไม่สามารถตัดเกรดได้')\n",
        "    else:\n",
        "        if s >= 101:\n",
        "            print (f'คะแนน {s} ไม่สามารถตัดเกรดได้')\n",
        "        elif s >= 80:\n",
        "            print (f'คะแนน {s} ได้เกรด A')\n",
        "        elif s >= 75:\n",
        "            print (f'คะแนน {s} ได้เกรด B+')\n",
        "        elif s >= 70:\n",
        "            print (f'คะแนน {s} ได้เกรด B')\n",
        "        elif s >= 65:\n",
        "            print (f'คะแนน {s} ได้เกรด C+')\n",
        "        elif  s >= 60:\n",
        "            print (f'คะแนน {s} ได้เกรด C')\n",
        "        elif  s >= 55:\n",
        "            print (f'คะแนน {s} ได้เกรด D+')\n",
        "        elif  s >= 50:\n",
        "            print (f'คะแนน {s} ได้เกรด D')\n",
        "        elif  s >= 0:\n",
        "            print (f'คะแนน {s} ได้เกรด F')\n",
        "        else:\n",
        "            print (f'คะแนน {s} ไม่สามารถตัดเกรดได้')\n",
        "print('---------------------------------------')"
      ],
      "metadata": {
        "colab": {
          "base_uri": "https://localhost:8080/"
        },
        "id": "A6AZwhrbx7H5",
        "outputId": "864e2f61-0d10-4b4f-e96a-01ae69b8e6f7"
      },
      "execution_count": 36,
      "outputs": [
        {
          "output_type": "stream",
          "name": "stdout",
          "text": [
            "[1, 50, 65, 90, 101, -5, 49, 'ก', 80]\n",
            "---------------------------------------\n",
            "คะแนน 1 ได้เกรด F\n",
            "คะแนน 50 ได้เกรด D\n",
            "คะแนน 65 ได้เกรด C+\n",
            "คะแนน 90 ได้เกรด A\n",
            "คะแนน 101 ไม่สามารถตัดเกรดได้\n",
            "คะแนน -5 ไม่สามารถตัดเกรดได้\n",
            "คะแนน 49 ได้เกรด F\n",
            "คะแนน ก ไม่สามารถตัดเกรดได้\n",
            "คะแนน 80 ได้เกรด A\n",
            "---------------------------------------\n"
          ]
        }
      ]
    },
    {
      "cell_type": "code",
      "source": [
        ""
      ],
      "metadata": {
        "id": "39SCXdC2xOa8"
      },
      "execution_count": null,
      "outputs": []
    }
  ]
}