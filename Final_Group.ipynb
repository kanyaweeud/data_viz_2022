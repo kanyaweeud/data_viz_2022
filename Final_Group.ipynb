{
  "nbformat": 4,
  "nbformat_minor": 0,
  "metadata": {
    "colab": {
      "name": "Final Group.ipynb",
      "provenance": [],
      "authorship_tag": "ABX9TyN5hSacbqz9QMdtjezyEVoa",
      "include_colab_link": true
    },
    "kernelspec": {
      "name": "python3",
      "display_name": "Python 3"
    },
    "language_info": {
      "name": "python"
    }
  },
  "cells": [
    {
      "cell_type": "markdown",
      "metadata": {
        "id": "view-in-github",
        "colab_type": "text"
      },
      "source": [
        "<a href=\"https://colab.research.google.com/github/kanyaweeud/data_viz_2022/blob/main/Final_Group.ipynb\" target=\"_parent\"><img src=\"https://colab.research.google.com/assets/colab-badge.svg\" alt=\"Open In Colab\"/></a>"
      ]
    },
    {
      "cell_type": "code",
      "execution_count": 1,
      "metadata": {
        "id": "QNJ3LcvAWEPY"
      },
      "outputs": [],
      "source": [
        "import pandas as pd     # pandas ใช้จัดการข้อมูลที่เป็นตาราง\n",
        "import os       # os ใช้จัดการกับไฟล์ ว่าอยู่ที่ไหน"
      ]
    },
    {
      "cell_type": "code",
      "source": [
        "from google.colab import drive      # ชี้ไฟล์ที่อยู่ใน google drive เพื่อเชื่อมต่อไฟล์\n",
        "drive.mount('/content/drive')\n",
        "path = '/content/drive/My Drive/final'      # ชี้ dirve ที่เราต้องการ"
      ],
      "metadata": {
        "colab": {
          "base_uri": "https://localhost:8080/",
          "height": 346
        },
        "id": "kz_QnLDyWKiS",
        "outputId": "da844327-62cb-411b-e030-3a80e0a82b50"
      },
      "execution_count": 2,
      "outputs": [
        {
          "output_type": "error",
          "ename": "MessageError",
          "evalue": "ignored",
          "traceback": [
            "\u001b[0;31m---------------------------------------------------------------------------\u001b[0m",
            "\u001b[0;31mMessageError\u001b[0m                              Traceback (most recent call last)",
            "\u001b[0;32m<ipython-input-2-bde24ffc91e8>\u001b[0m in \u001b[0;36m<module>\u001b[0;34m()\u001b[0m\n\u001b[1;32m      1\u001b[0m \u001b[0;32mfrom\u001b[0m \u001b[0mgoogle\u001b[0m\u001b[0;34m.\u001b[0m\u001b[0mcolab\u001b[0m \u001b[0;32mimport\u001b[0m \u001b[0mdrive\u001b[0m      \u001b[0;31m# ชี้ไฟล์ที่อยู่ใน google drive เพื่อเชื่อมต่อไฟล์\u001b[0m\u001b[0;34m\u001b[0m\u001b[0;34m\u001b[0m\u001b[0m\n\u001b[0;32m----> 2\u001b[0;31m \u001b[0mdrive\u001b[0m\u001b[0;34m.\u001b[0m\u001b[0mmount\u001b[0m\u001b[0;34m(\u001b[0m\u001b[0;34m'/content/drive'\u001b[0m\u001b[0;34m)\u001b[0m\u001b[0;34m\u001b[0m\u001b[0;34m\u001b[0m\u001b[0m\n\u001b[0m\u001b[1;32m      3\u001b[0m \u001b[0mpath\u001b[0m \u001b[0;34m=\u001b[0m \u001b[0;34m'/content/drive/My Drive/final'\u001b[0m      \u001b[0;31m# ชี้ dirve ที่เราต้องการ\u001b[0m\u001b[0;34m\u001b[0m\u001b[0;34m\u001b[0m\u001b[0m\n",
            "\u001b[0;32m/usr/local/lib/python3.7/dist-packages/google/colab/drive.py\u001b[0m in \u001b[0;36mmount\u001b[0;34m(mountpoint, force_remount, timeout_ms)\u001b[0m\n\u001b[1;32m    107\u001b[0m       \u001b[0mforce_remount\u001b[0m\u001b[0;34m=\u001b[0m\u001b[0mforce_remount\u001b[0m\u001b[0;34m,\u001b[0m\u001b[0;34m\u001b[0m\u001b[0;34m\u001b[0m\u001b[0m\n\u001b[1;32m    108\u001b[0m       \u001b[0mtimeout_ms\u001b[0m\u001b[0;34m=\u001b[0m\u001b[0mtimeout_ms\u001b[0m\u001b[0;34m,\u001b[0m\u001b[0;34m\u001b[0m\u001b[0;34m\u001b[0m\u001b[0m\n\u001b[0;32m--> 109\u001b[0;31m       ephemeral=True)\n\u001b[0m\u001b[1;32m    110\u001b[0m \u001b[0;34m\u001b[0m\u001b[0m\n\u001b[1;32m    111\u001b[0m \u001b[0;34m\u001b[0m\u001b[0m\n",
            "\u001b[0;32m/usr/local/lib/python3.7/dist-packages/google/colab/drive.py\u001b[0m in \u001b[0;36m_mount\u001b[0;34m(mountpoint, force_remount, timeout_ms, ephemeral)\u001b[0m\n\u001b[1;32m    126\u001b[0m   \u001b[0;32mif\u001b[0m \u001b[0mephemeral\u001b[0m\u001b[0;34m:\u001b[0m\u001b[0;34m\u001b[0m\u001b[0;34m\u001b[0m\u001b[0m\n\u001b[1;32m    127\u001b[0m     _message.blocking_request(\n\u001b[0;32m--> 128\u001b[0;31m         'request_auth', request={'authType': 'dfs_ephemeral'}, timeout_sec=None)\n\u001b[0m\u001b[1;32m    129\u001b[0m \u001b[0;34m\u001b[0m\u001b[0m\n\u001b[1;32m    130\u001b[0m   \u001b[0mmountpoint\u001b[0m \u001b[0;34m=\u001b[0m \u001b[0m_os\u001b[0m\u001b[0;34m.\u001b[0m\u001b[0mpath\u001b[0m\u001b[0;34m.\u001b[0m\u001b[0mexpanduser\u001b[0m\u001b[0;34m(\u001b[0m\u001b[0mmountpoint\u001b[0m\u001b[0;34m)\u001b[0m\u001b[0;34m\u001b[0m\u001b[0;34m\u001b[0m\u001b[0m\n",
            "\u001b[0;32m/usr/local/lib/python3.7/dist-packages/google/colab/_message.py\u001b[0m in \u001b[0;36mblocking_request\u001b[0;34m(request_type, request, timeout_sec, parent)\u001b[0m\n\u001b[1;32m    173\u001b[0m   request_id = send_request(\n\u001b[1;32m    174\u001b[0m       request_type, request, parent=parent, expect_reply=True)\n\u001b[0;32m--> 175\u001b[0;31m   \u001b[0;32mreturn\u001b[0m \u001b[0mread_reply_from_input\u001b[0m\u001b[0;34m(\u001b[0m\u001b[0mrequest_id\u001b[0m\u001b[0;34m,\u001b[0m \u001b[0mtimeout_sec\u001b[0m\u001b[0;34m)\u001b[0m\u001b[0;34m\u001b[0m\u001b[0;34m\u001b[0m\u001b[0m\n\u001b[0m",
            "\u001b[0;32m/usr/local/lib/python3.7/dist-packages/google/colab/_message.py\u001b[0m in \u001b[0;36mread_reply_from_input\u001b[0;34m(message_id, timeout_sec)\u001b[0m\n\u001b[1;32m    104\u001b[0m         reply.get('colab_msg_id') == message_id):\n\u001b[1;32m    105\u001b[0m       \u001b[0;32mif\u001b[0m \u001b[0;34m'error'\u001b[0m \u001b[0;32min\u001b[0m \u001b[0mreply\u001b[0m\u001b[0;34m:\u001b[0m\u001b[0;34m\u001b[0m\u001b[0;34m\u001b[0m\u001b[0m\n\u001b[0;32m--> 106\u001b[0;31m         \u001b[0;32mraise\u001b[0m \u001b[0mMessageError\u001b[0m\u001b[0;34m(\u001b[0m\u001b[0mreply\u001b[0m\u001b[0;34m[\u001b[0m\u001b[0;34m'error'\u001b[0m\u001b[0;34m]\u001b[0m\u001b[0;34m)\u001b[0m\u001b[0;34m\u001b[0m\u001b[0;34m\u001b[0m\u001b[0m\n\u001b[0m\u001b[1;32m    107\u001b[0m       \u001b[0;32mreturn\u001b[0m \u001b[0mreply\u001b[0m\u001b[0;34m.\u001b[0m\u001b[0mget\u001b[0m\u001b[0;34m(\u001b[0m\u001b[0;34m'data'\u001b[0m\u001b[0;34m,\u001b[0m \u001b[0;32mNone\u001b[0m\u001b[0;34m)\u001b[0m\u001b[0;34m\u001b[0m\u001b[0;34m\u001b[0m\u001b[0m\n\u001b[1;32m    108\u001b[0m \u001b[0;34m\u001b[0m\u001b[0m\n",
            "\u001b[0;31mMessageError\u001b[0m: Error: credential propagation was unsuccessful"
          ]
        }
      ]
    },
    {
      "cell_type": "markdown",
      "source": [
        "# **Data Covid19 Time 12 มกราคม 2020 ถึง 18 มีนนาคม 2022**"
      ],
      "metadata": {
        "id": "boCOt6jkWNL8"
      }
    },
    {
      "cell_type": "code",
      "source": [
        "data_file_path = os.path.join(path,'confirmed-cases.xlsx')   \n",
        "data_cases1 = pd.read_excel(data_file_path) "
      ],
      "metadata": {
        "id": "rsQriUa7WQYD"
      },
      "execution_count": null,
      "outputs": []
    },
    {
      "cell_type": "code",
      "source": [
        "data_file_path = os.path.join(path,'confirmed-cases-since-120864.xlsx')   \n",
        "data_cases2 = pd.read_excel(data_file_path)"
      ],
      "metadata": {
        "id": "ebPiyHXdWSNo"
      },
      "execution_count": null,
      "outputs": []
    },
    {
      "cell_type": "code",
      "source": [
        "data_file_path = os.path.join(path,'confirmed-cases-since-280265.xlsx')   \n",
        "data_cases3 = pd.read_excel(data_file_path)"
      ],
      "metadata": {
        "id": "gBDTkvPCWSnX"
      },
      "execution_count": null,
      "outputs": []
    },
    {
      "cell_type": "code",
      "source": [
        "data_file_path = os.path.join(path,'confirmed-cases-since-271064.xlsx')   \n",
        "data_cases4 = pd.read_excel(data_file_path)"
      ],
      "metadata": {
        "id": "U3n-L4KaWUlZ"
      },
      "execution_count": null,
      "outputs": []
    },
    {
      "cell_type": "code",
      "source": [
        "data_cases1"
      ],
      "metadata": {
        "id": "2n03a2FAWU_P"
      },
      "execution_count": null,
      "outputs": []
    },
    {
      "cell_type": "code",
      "source": [
        "data_cases2"
      ],
      "metadata": {
        "id": "0cBrJz1pWpCg"
      },
      "execution_count": null,
      "outputs": []
    },
    {
      "cell_type": "code",
      "source": [
        "data_cases3"
      ],
      "metadata": {
        "id": "rzSdkjS-WrAs"
      },
      "execution_count": null,
      "outputs": []
    },
    {
      "cell_type": "code",
      "source": [
        "data_cases4"
      ],
      "metadata": {
        "id": "jiyfb_K9Wspr"
      },
      "execution_count": null,
      "outputs": []
    },
    {
      "cell_type": "markdown",
      "source": [
        "# **ต่อตาราง Data Covid 19 โดยใช้คำสั่ง pd.concat**"
      ],
      "metadata": {
        "id": "Ta_uEBSXWxPx"
      }
    },
    {
      "cell_type": "code",
      "source": [
        "data_cases_all = pd.concat([data_cases1,data_cases2,data_cases3,data_cases4])\n",
        "data_cases_all"
      ],
      "metadata": {
        "id": "WWSWO__NWuBl"
      },
      "execution_count": null,
      "outputs": []
    },
    {
      "cell_type": "markdown",
      "source": [
        "**เมื่อมีข้อมูลที่เกิน จึงเลือกเฉพาะข้อมูลที่ต้องการตรงตามเวลา**"
      ],
      "metadata": {
        "id": "3MsdklQzW3JJ"
      }
    },
    {
      "cell_type": "code",
      "source": [
        "df = data_cases_all[(data_cases_all['announce_date']>='2020-01-12') & (data_cases_all['announce_date']<='2022-03-18')]\n",
        "df.head(10) #ไม่มีข้อมูลที่ซ้ำ"
      ],
      "metadata": {
        "id": "4L1TCL4BW4sO"
      },
      "execution_count": null,
      "outputs": []
    },
    {
      "cell_type": "markdown",
      "source": [
        "# **จัดการค่า Missing**"
      ],
      "metadata": {
        "id": "M2RZRMNnXVse"
      }
    },
    {
      "cell_type": "code",
      "source": [
        "df.isnull().any()"
      ],
      "metadata": {
        "id": "HOqC9FfEXWEq"
      },
      "execution_count": null,
      "outputs": []
    },
    {
      "cell_type": "markdown",
      "source": [
        "# **hadling Missing Value (เเทนค่าด้วย class ใหม่ (unknow)**"
      ],
      "metadata": {
        "id": "-VgdkwyOXc2V"
      }
    },
    {
      "cell_type": "markdown",
      "source": [
        "**จัดการคอลัม risk**"
      ],
      "metadata": {
        "id": "iOq5dZ-pXgE8"
      }
    },
    {
      "cell_type": "code",
      "source": [
        "df[['risk']] = df[['risk']].fillna('ไม่ปรากฎข้อมูล')"
      ],
      "metadata": {
        "id": "1EqakPIFXel5"
      },
      "execution_count": null,
      "outputs": []
    },
    {
      "cell_type": "code",
      "source": [
        "set(df['risk']) #มีข้อมูลที่คล้ายกัน ต้องแก้ไข"
      ],
      "metadata": {
        "id": "uZxOj7r2X87_"
      },
      "execution_count": null,
      "outputs": []
    },
    {
      "cell_type": "code",
      "source": [
        "df['risk'].replace({'Cluster ตราด ':'Cluster ตราด','Cluster จันทบุรี (ชาวกินี )':'Cluster จันทบุรี (ชาวกินี)','คนไทยเดินทางมาจากต่างประเทศ':'คนไทยเดินทางกลับจากต่างประเทศ',\n",
        "                            'ปอดอักเสบ Pneumonia':'ปอดอักเสบ (Pneumonia)','มาจากพื้นที่เสียง จ.ปทุมธานี':'มาจากพื้นที่เสี่ยง จ.ปทุมธานี','สัมผัสผู้ติดเชื้อยืนยัน\\n  อยู่ระหว่างสอบสวน':'สัมผัสผู้ติดเชื้อยืนยัน\\nอยู่ระหว่างสอบสวน'\n",
        "                            ,'สัมผัสใกล้ชิดผู้ป่วยยันยันก่อนหน้า':'สัมผัสใกล้ชิดผู้ป่วยยืนยันก่อนหน้า','อยู่ระหว่างการสอบสวน\\n':'อยู่ระหว่างการสอบสวน'\n",
        "                            ,'อยู่ระหว่างสอบสวน':'อยู่ระหว่างการสอบสวน','อิ่นๆ':'อื่น ๆ','อื่น':'อื่น ๆ','อื่นๆ':'อื่น ๆ','สัมผัสผู้ป่วยยืนยัน \\n  อยู่ระหว่างสอบสวน':'สัมผัสผู้ป่วยยืนยัน อยู่ระหว่างสอบสวน','สัมผัสผู้ติดเชื้อยืนยัน\\nอยู่ระหว่างสอบสวน':'สัมผัสผู้ป่วยยืนยัน อยู่ระหว่างสอบสวน','เดินทางมาจากพื้นที่มีการระบาดของโรค':'เดินทางมาจากพื้นที่เสี่ยงที่มีการระบาดของโรค',\n",
        "                            'สัมผัสใกล้ชิดผู้ป่วยยืนยันก่อนหน้า':'สัมผัสใกล้ชิดกับผู้ป่วยยืนยันรายก่อนหน้านี้'},inplace=True ) #แทนที่ข้อมูลที่คล้ายกัน อาจเกิดจากการเขียนผิด หรือเขียนไม่ครบ"
      ],
      "metadata": {
        "id": "T00sPMvLYBER"
      },
      "execution_count": null,
      "outputs": []
    },
    {
      "cell_type": "code",
      "source": [
        "set(df['risk'])"
      ],
      "metadata": {
        "id": "cr_Po7YVYCrH"
      },
      "execution_count": null,
      "outputs": []
    },
    {
      "cell_type": "markdown",
      "source": [
        "# **จัดการ missing ของ province_of_onset**"
      ],
      "metadata": {
        "id": "n14CASBVYE2z"
      }
    },
    {
      "cell_type": "markdown",
      "source": [
        "จัดการค่า Missing ของ province_of_onset โดยจะใช้ mode ปล.หากให้เเทนเป็น finally ลงไปจะทำให้การเชื่อมตารางมีข้อผิดพลาดได้"
      ],
      "metadata": {
        "id": "uVauq042YMwk"
      }
    },
    {
      "cell_type": "code",
      "source": [
        "df['province_of_onset'].mode() # หาค่า mode ของ sex"
      ],
      "metadata": {
        "id": "c9jFrKmiYK7X"
      },
      "execution_count": null,
      "outputs": []
    },
    {
      "cell_type": "code",
      "source": [
        "df[['province_of_onset']] = df[['province_of_onset']].fillna('กรุงเทพมหานคร')"
      ],
      "metadata": {
        "id": "0970N11wYNdI"
      },
      "execution_count": null,
      "outputs": []
    },
    {
      "cell_type": "code",
      "source": [
        "df.isnull().any()"
      ],
      "metadata": {
        "id": "laazHBGBYP4R"
      },
      "execution_count": null,
      "outputs": []
    },
    {
      "cell_type": "markdown",
      "source": [
        "**เเก้คำที่เขียนผิดของคอลัม province_of_onset**"
      ],
      "metadata": {
        "id": "cWZBTzezYRO9"
      }
    },
    {
      "cell_type": "code",
      "source": [
        "set(df['province_of_onset'])"
      ],
      "metadata": {
        "id": "u7_j-E1IYSY0"
      },
      "execution_count": null,
      "outputs": []
    },
    {
      "cell_type": "code",
      "source": [
        "df['province_of_onset'].replace({'\\xa0กาญจนบุรี':'กาญจนบุรี','\\xa0ชลบุรี':'ชลบุรี','\\xa0ตราด':'ตราด','\\xa0นครปฐม':'นครปฐม',\n",
        "'\\xa0สมุทรสงคราม':'สมุทรสงคราม','\\xa0อุทัยธานี':'อุทัยธานี','กทม':'กรุงเทพมหานคร','กาฬสินธิ์':'กาฬสินธุ์',\n",
        " 'กาฬสินธ์':'กาฬสินธุ์','ขอนแก่่น':'ขอนแก่น','ขัยนาท':'ชัยนาท','ชมพร':'ชุมพร','ชลบุรี\\t':'ชลบุรี','ชลบุุรี':'ชลบุรี','ชุุมพร':'ชุมพร',\n",
        "'ท้ายบ้าน':'สมุทรปราการ','ธารโต':'ยะลา','นคนปฐม':'นครปฐม','นคปฐม':'นครปฐม','นครปบม':'นครพนม','นครศร๊ะรรมราช':'นครศรีธรรมราช',\n",
        " 'นครศร๊ะรรมราช':'นครศรีธรรมราช','นตรปฐม':'นครปฐม','นอกเขต':'ไม่ปรากฎข้อมูล','นาราธิวาส':'นราธิวาส','นาวัง':'น่าน','บางกะปิ':'กรุงเทพมหานคร',\n",
        "'บึงโขงหลง':'บึงกาฬ','บุรีรัมย์\\xa0':'บุรีรัมย์','บุรีรัยม์':'บุรีรัมย์','บ้านหลวง':'น่าน','ปทุมธานี.':'ปทุมธานี','ปทุมธานีี':'ปทุมธานี','ปทุุมธานี':'ปทุมธานี',\n",
        "'ปมุมธานี':'ปทุมธานี','ประจวบฯ':'ประจวบคีรีขันธ์','ปลวกแดง':'ระยอง','ปลายพระยา':'กระบี่','ปัว':'น่าน','ปุทมธานี':'ปทุมธานี','พม่า':'ไม่ปรากฎข้อมูล','พิษณูโลก':'พิษณุโลก',\n",
        "'ภูเพียง':'น่าน','มหาสาคาม':'มหาสารคาม','มาเลเซีย':'ไม่ปรากฎข้อมูล','ยานาวา':'กรุงเทพมหานคร','ร้องกวาง':'แพร่','ลอง':'แพร่','ลำลูกกา':'ปทุมธานี','วังชิ้น':'แพร่',\n",
        "'ศรีษะเกษ':'ศรีสะเกษ','สงขลา\\u200b':'สงขลา','สถานที่ทำงาน':'ไม่ปรากฎข้อมูล','สมถทรปราการ':'สมุทรปราการ','สมุทรปรากร':'สมุทรปราการ','สมทรสาคร':'สมุทรสาคร','สมุครปราการ':'สมุทรปราการ',\n",
        "'สมุทรปรากร':'สมุทรปราการ','สมุทรปรากรร':'สมุทรปราการ','สมุทราปราการ':'สมุทรปราการ','สมุทสงคราม':'สมุทรสงคราม','สมุทสาคร':'สมุทรสาคร','สมุุทรปราการ':'สมุทรปราการ',\n",
        "'สมุุทรสาคร':'สมุทรสาคร','สอง':'แพร่','สองแคว':'พิษณุโลก','สะแก้ว':'สระแก้ว','สารภี':'เชียงใหม่','สุทรปราการ':'สมุทรปราการ','สุมทรปราการ':'สมุทรปราการ','สุมทรสาคร':'สมุทรสาคร',\n",
        "'สุมุทรปราการ':'สมุทรปราการ','สุมุทรสาคร':'สมุทรสาคร','สุราษฎร์์ธานี':'สุราษฎร์ธานี','สุราษฏร์ธานี':'สุราษฎร์ธานี','สุวรรณภูมิ':'ร้อยเอ็ด','สุุราษฎร์ธานี':'สุราษฎร์ธานี',\n",
        "'สูงเม่น':'แพร่','หนองบััวลำภู':'หนองบัวลำภู','หนองม่วงไข่':'แพร่','อยุทธยา':'พระนครศรีอยุธยา','อยุธยา':'พระนครศรีอยุธยา','อยุุธยา':'พระนครศรีอยุธยา',\n",
        "'อุดรธานีี':'อุดรธานี','อุบลราขธานี':'อุบลราชธานี','อุุดรธาน':'อุดรธานี','อุุดรธานี':'อุดรธานี','อุุตรดิตถ์':'อุตรดิตถ์','อุุทัยธานี':'อุทัยธานี',\n",
        "'เชีียงราย':'เชียงราย','เด่นชัย':'แพร่','เพชรบุูรณ์':'เพชรบูรณ์','เมือง':'ไม่ปรากฎข้อมูล','เมืองน่าน':'น่าน','เรือ':'เลย','เวียงจันทร์':'ไม่ปรากฎข้อมูล','เวียงสา':'น่าน',\n",
        "'แล้วป่วย':'ไม่ปรากฎข้อมูล','\\xa0สมุทรสาคร':'สมุทรสาคร','กัมพูชา':'ไม่ปรากฎข้อมูล','ดรุงเทพมหานคร':'กรุงเทพมหานคร','ยานนาวา':'กรุงเทพมหานคร',\n",
        "'ลาดพร้าว':'กรุงเทพมหานคร','ไม่ระบุ':'ไม่ปรากฎข้อมูล','นครนาชสีมา':'นครราชสีมา','อํานาจเจริญ':'อำนาจเจริญ'}, inplace=True ) #แก้คำที่ผิด แก้จังหวัดที่ไม่มี"
      ],
      "metadata": {
        "id": "XXT_2g3NYVik"
      },
      "execution_count": null,
      "outputs": []
    },
    {
      "cell_type": "markdown",
      "source": [
        "# **handling Missing Value (เเทนด้วย class ใหม่(ค่าที่เหมาะสม) ของคอลัม unti**"
      ],
      "metadata": {
        "id": "yfqIG_NfYZKU"
      }
    },
    {
      "cell_type": "markdown",
      "source": [
        "**จัดการคอลัม unit**"
      ],
      "metadata": {
        "id": "fclnCNSIYbor"
      }
    },
    {
      "cell_type": "code",
      "source": [
        "set(df['Unit'])"
      ],
      "metadata": {
        "id": "aNsFzjf1YgpP"
      },
      "execution_count": null,
      "outputs": []
    },
    {
      "cell_type": "code",
      "source": [
        "df[['Unit']] = df[['Unit']].fillna('ปี') #เมื่อมีค่าหน่วยเหมือนกันจึงเเทน ค่า ที่เหมือนกันลงไป"
      ],
      "metadata": {
        "id": "eDcotDqxYhaH"
      },
      "execution_count": null,
      "outputs": []
    },
    {
      "cell_type": "markdown",
      "source": [
        "# **จัดการค่า Missing ของ sex โดยจะใช้ Mode ในการเเทนค่า**"
      ],
      "metadata": {
        "id": "RdP9QjPpYl6H"
      }
    },
    {
      "cell_type": "code",
      "source": [
        "set(df['sex'])"
      ],
      "metadata": {
        "id": "VXRU3KqAYhV4"
      },
      "execution_count": null,
      "outputs": []
    },
    {
      "cell_type": "code",
      "source": [
        "df['sex'].mode() # หาค่า mode ของ sex"
      ],
      "metadata": {
        "id": "7nFWDMKGYoS1"
      },
      "execution_count": null,
      "outputs": []
    },
    {
      "cell_type": "code",
      "source": [
        "df[['sex']] = df[['sex']].fillna('หญิง') # แทนค่า mode ในค่า missing\n"
      ],
      "metadata": {
        "id": "9NrHoTPCYo0o"
      },
      "execution_count": null,
      "outputs": []
    },
    {
      "cell_type": "code",
      "source": [
        "df['sex'].replace({'\\xa0หญิง':'หญิง',\n",
        "                            'ช':'ชาย',\n",
        "                            'ญ':'หญิง',\n",
        "                            'นาย':'ชาย',\n",
        "                            'ร.ต.ท.':'ชาย',\n",
        "                            'หญง':'หญิง',\n",
        "                            'หญิิง':'หญิง',\n",
        "                            'หณิง':'หญิง',\n",
        "                            'หห':'หญิง'}, inplace=True) #เเก้คำที่เขียนผิดถูก"
      ],
      "metadata": {
        "id": "76CejIVnYhSH"
      },
      "execution_count": null,
      "outputs": []
    },
    {
      "cell_type": "code",
      "source": [
        "set(df['sex']) #สำรวจอีกทีเพื่อความเเน่ใจว่าเเก้คำหมดเเล้ว"
      ],
      "metadata": {
        "id": "xrpbJIhWYuoO"
      },
      "execution_count": null,
      "outputs": []
    },
    {
      "cell_type": "markdown",
      "source": [
        "# **clean colum age**"
      ],
      "metadata": {
        "id": "st60NxyoYvfn"
      }
    },
    {
      "cell_type": "code",
      "source": [
        "df.head(10)"
      ],
      "metadata": {
        "id": "Kk9wg4nHYyNP"
      },
      "execution_count": null,
      "outputs": []
    },
    {
      "cell_type": "code",
      "source": [
        "df.dtypes"
      ],
      "metadata": {
        "id": "KFajBClqYxyr"
      },
      "execution_count": null,
      "outputs": []
    },
    {
      "cell_type": "code",
      "source": [
        "#เปลี่ยน ty ของคอลัม age\n",
        "df['age'] = pd.to_numeric(df['age'], errors='coerce')\n",
        "#https://pandas.pydata.org/docs/reference/api/pandas.to_numeric.html เเป๊ะไว้ความรู้ใหม่\n",
        "df.dtypes\n"
      ],
      "metadata": {
        "id": "AfzukanyYzZH"
      },
      "execution_count": null,
      "outputs": []
    },
    {
      "cell_type": "code",
      "source": [
        "age_mean = df['age'].mean() #หาค่า mean ของคอลัม age\n",
        "age_mean"
      ],
      "metadata": {
        "id": "lDjjAlIDYzTx"
      },
      "execution_count": null,
      "outputs": []
    },
    {
      "cell_type": "code",
      "source": [
        "df[['age']] = df[['age']].fillna(age_mean) "
      ],
      "metadata": {
        "id": "EDNsbgZ-YzPI"
      },
      "execution_count": null,
      "outputs": []
    },
    {
      "cell_type": "code",
      "source": [
        "df.isnull().any()"
      ],
      "metadata": {
        "id": "UUGTewgFYzJ9"
      },
      "execution_count": null,
      "outputs": []
    },
    {
      "cell_type": "code",
      "source": [
        "df_New_covid = df[['No.','announce_date','sex','age','risk','province_of_onset']]\n",
        "print(df_New_covid.shape)\n",
        "df_New_covid.head()"
      ],
      "metadata": {
        "id": "HhKLXQQ5YzGO"
      },
      "execution_count": null,
      "outputs": []
    },
    {
      "cell_type": "markdown",
      "source": [
        "# **เตรียมข้อมูลภูมิภาค**"
      ],
      "metadata": {
        "id": "VDWyFhwJY-lf"
      }
    },
    {
      "cell_type": "markdown",
      "source": [
        "ให้นักศึกษาใช้ข้อมูลจากตาราง confirmed_case.xlsx (จาก https://drive.google.com/drive/folders/1OmjM8ZgkEb10C4ZN44f-JxiBFaBwbWaM?usp=sharing) และข้อมูลจากตาราง"
      ],
      "metadata": {
        "id": "fbH86fMVZDNf"
      }
    },
    {
      "cell_type": "code",
      "source": [
        "data_region = [['อำนาจเจริญ','ตะวันออกเฉียงเหนือ','ตะวันออกเฉียงเหนือ','ตะวันออกเฉียงเหนือ','ตะวันออกเฉียงเหนือ'],\n",
        "               ['บึงกาฬ','ตะวันออกเฉียงเหนือ','ตะวันออกเฉียงเหนือ','ตะวันออกเฉียงเหนือ','ตะวันออกเฉียงเหนือ'],\n",
        "               ['บุรีรัมย์','ตะวันออกเฉียงเหนือ','ตะวันออกเฉียงเหนือ','ตะวันออกเฉียงเหนือ','ตะวันออกเฉียงเหนือ'],\n",
        "               ['ชัยภูมิ','ตะวันออกเฉียงเหนือ','ตะวันออกเฉียงเหนือ','ตะวันออกเฉียงเหนือ','ตะวันออกเฉียงเหนือ'],\n",
        "               ['กาฬสินธุ์','ตะวันออกเฉียงเหนือ','ตะวันออกเฉียงเหนือ','ตะวันออกเฉียงเหนือ','ตะวันออกเฉียงเหนือ'],\n",
        "               ['ขอนแก่น','ตะวันออกเฉียงเหนือ','ตะวันออกเฉียงเหนือ','ตะวันออกเฉียงเหนือ','ตะวันออกเฉียงเหนือ'],\n",
        "               ['เลย','ตะวันออกเฉียงเหนือ','ตะวันออกเฉียงเหนือ','ตะวันออกเฉียงเหนือ','ตะวันออกเฉียงเหนือ'],\n",
        "               ['มหาสารคาม','ตะวันออกเฉียงเหนือ','ตะวันออกเฉียงเหนือ','ตะวันออกเฉียงเหนือ','ตะวันออกเฉียงเหนือ'],\n",
        "               ['มุกดาหาร','ตะวันออกเฉียงเหนือ','ตะวันออกเฉียงเหนือ','ตะวันออกเฉียงเหนือ','ตะวันออกเฉียงเหนือ'],\n",
        "               ['นครพนม','ตะวันออกเฉียงเหนือ','ตะวันออกเฉียงเหนือ','ตะวันออกเฉียงเหนือ','ตะวันออกเฉียงเหนือ'],\n",
        "               ['นครราชสีมา','ตะวันออกเฉียงเหนือ','ตะวันออกเฉียงเหนือ','ตะวันออกเฉียงเหนือ','ตะวันออกเฉียงเหนือ'],\n",
        "               ['หนองบัวลำภู','ตะวันออกเฉียงเหนือ','ตะวันออกเฉียงเหนือ','ตะวันออกเฉียงเหนือ','ตะวันออกเฉียงเหนือ'],\n",
        "               ['หนองคาย','ตะวันออกเฉียงเหนือ','ตะวันออกเฉียงเหนือ','ตะวันออกเฉียงเหนือ','ตะวันออกเฉียงเหนือ'],\n",
        "               ['ร้อยเอ็ด','ตะวันออกเฉียงเหนือ','ตะวันออกเฉียงเหนือ','ตะวันออกเฉียงเหนือ','ตะวันออกเฉียงเหนือ'],\n",
        "               ['สกลนคร','ตะวันออกเฉียงเหนือ','ตะวันออกเฉียงเหนือ','ตะวันออกเฉียงเหนือ','ตะวันออกเฉียงเหนือ'],\n",
        "               ['ศรีสะเกษ','ตะวันออกเฉียงเหนือ','ตะวันออกเฉียงเหนือ','ตะวันออกเฉียงเหนือ','ตะวันออกเฉียงเหนือ'],\n",
        "               ['สุรินทร์','ตะวันออกเฉียงเหนือ','ตะวันออกเฉียงเหนือ','ตะวันออกเฉียงเหนือ','ตะวันออกเฉียงเหนือ'],\n",
        "               ['อุบลราชธานี','ตะวันออกเฉียงเหนือ','ตะวันออกเฉียงเหนือ','ตะวันออกเฉียงเหนือ','ตะวันออกเฉียงเหนือ'],\n",
        "               ['อุดรธานี','ตะวันออกเฉียงเหนือ','ตะวันออกเฉียงเหนือ','ตะวันออกเฉียงเหนือ','ตะวันออกเฉียงเหนือ'],\n",
        "               ['ยโสธร','ตะวันออกเฉียงเหนือ','ตะวันออกเฉียงเหนือ','ตะวันออกเฉียงเหนือ','ตะวันออกเฉียงเหนือ'],\n",
        "               ['เชียงใหม่','เหนือ','เหนือ','เหนือ','เหนือ'],\n",
        "               ['เชียงราย','เหนือ','เหนือ','เหนือ','เหนือ'],\n",
        "               ['ลำปาง','เหนือ','เหนือ','เหนือ','เหนือ'],\n",
        "               ['ลำพูน','เหนือ','เหนือ','เหนือ','เหนือ'],\n",
        "               ['แม่ฮ่องสอน','เหนือ','เหนือ','เหนือ','เหนือ'],\n",
        "               ['น่าน','เหนือ','เหนือ','เหนือ','เหนือ'],\n",
        "               ['พะเยา','เหนือ','เหนือ','เหนือ','เหนือ'],\n",
        "               ['แพร่','เหนือ','เหนือ','เหนือ','เหนือ'],\n",
        "               ['อุตรดิตถ์','เหนือ','เหนือ','เหนือ','เหนือ'],\n",
        "               ['ตาก','ตะวันตก','เหนือ','เหนือ','เหนือ'],\n",
        "               ['สุโขทัย','กลาง','เหนือ','เหนือ','เหนือ'],\n",
        "               ['พิษณุโลก','กลาง','เหนือ','เหนือ','เหนือ'],\n",
        "               ['พิจิตร','กลาง','เหนือ','เหนือ','เหนือ'],\n",
        "               ['กำแพงเพชร','กลาง','เหนือ','เหนือ','เหนือ'],\n",
        "               ['เพชรบูรณ์','กลาง','เหนือ','เหนือ','เหนือ'],\n",
        "               ['นครสวรรค์','กลาง','เหนือ','เหนือ','เหนือ'],\n",
        "               ['อุทัยธานี','กลาง','เหนือ','กลาง','เหนือ'],\n",
        "               ['อ่างทอง','กลาง','กลาง','กลาง','กลาง'],\n",
        "               ['ชัยนาท','กลาง','กลาง','กลาง','กลาง'],\n",
        "               ['พระนครศรีอยุธยา','กลาง','กลาง','กลาง','กลาง'],\n",
        "               ['กรุงเทพมหานคร','กลาง','กลาง','กลาง','กลาง'],\n",
        "               ['ลพบุรี','กลาง','กลาง','กลาง','กลาง'],\n",
        "               ['นครปฐม','กลาง','กลาง','กลาง','กลาง'],\n",
        "               ['นนทบุรี','กลาง','กลาง','กลาง','กลาง'],\n",
        "               ['ปทุมธานี','กลาง','กลาง','กลาง','กลาง'],\n",
        "               ['สมุทรปราการ','กลาง','กลาง','กลาง','กลาง'],\n",
        "               ['สมุทรสาคร','กลาง','กลาง','กลาง','กลาง'],\n",
        "               ['สมุทรสงคราม','กลาง','กลาง','กลาง','กลาง'],\n",
        "               ['สระบุรี','กลาง','กลาง','กลาง','กลาง'],\n",
        "               ['สิงห์บุรี','กลาง','กลาง','กลาง','กลาง'],\n",
        "               ['สุพรรณบุรี','กลาง','กลาง','กลาง','กลาง'],\n",
        "               ['นครนายก','กลาง','กลาง','ตะวันออก','กลาง'],\n",
        "               ['ฉะเชิงเทรา','ตะวันออก','กลาง','ตะวันออก','ตะวันออก'],\n",
        "               ['จันทบุรี','ตะวันออก','กลาง','ตะวันออก','ตะวันออก'],\n",
        "               ['ชลบุรี','ตะวันออก','กลาง','ตะวันออก','ตะวันออก'],\n",
        "               ['ปราจีนบุรี','ตะวันออก','กลาง','ตะวันออก','ตะวันออก'],\n",
        "               ['ระยอง','ตะวันออก','กลาง','ตะวันออก','ตะวันออก'],\n",
        "               ['สระแก้ว','ตะวันออก','กลาง','ตะวันออก','ตะวันออก'],\n",
        "               ['ตราด','ตะวันออก','กลาง','ตะวันออก','ตะวันออก'],\n",
        "               ['กาญจนบุรี','ตะวันตก','กลาง','กลาง','กลาง'],\n",
        "               ['ราชบุรี','ตะวันตก','กลาง','กลาง','กลาง'],\n",
        "               ['เพชรบุรี','ตะวันตก','กลาง','ใต้ฝั่งตะวันออก/ใต้ฝั่งอ่าวไทย','กลาง'],\n",
        "               ['ประจวบคีรีขันธ์','ตะวันตก','กลาง','ใต้ฝั่งตะวันออก/ใต้ฝั่งอ่าวไทย','กลาง'],\n",
        "               ['ชุมพร','ใต้','ใต้','ใต้ฝั่งตะวันออก/ใต้ฝั่งอ่าวไทย','ใต้'],\n",
        "               ['นครศรีธรรมราช','ใต้','ใต้','ใต้ฝั่งตะวันออก/ใต้ฝั่งอ่าวไทย','ใต้'],\n",
        "               ['นราธิวาส','ใต้','ใต้','ใต้ฝั่งตะวันออก/ใต้ฝั่งอ่าวไทย','ใต้'],\n",
        "               ['ปัตตานี','ใต้','ใต้','ใต้ฝั่งตะวันออก/ใต้ฝั่งอ่าวไทย','ใต้'],\n",
        "               ['พัทลุง','ใต้','ใต้','ใต้ฝั่งตะวันออก/ใต้ฝั่งอ่าวไทย','ใต้'],\n",
        "               ['สงขลา','ใต้','ใต้','ใต้ฝั่งตะวันออก/ใต้ฝั่งอ่าวไทย','ใต้'],\n",
        "               ['สุราษฎร์ธานี','ใต้','ใต้','ใต้ฝั่งตะวันออก/ใต้ฝั่งอ่าวไทย','ใต้'],\n",
        "               ['ยะลา','ใต้','ใต้','ใต้ฝั่งตะวันออก/ใต้ฝั่งอ่าวไทย','ใต้'],\n",
        "               ['กระบี่','ใต้','ใต้','ใต้ฝั่งตะวันตก/ใต้ฝั่งอันดามัน','ใต้'],\n",
        "               ['พังงา','ใต้','ใต้','ใต้ฝั่งตะวันตก/ใต้ฝั่งอันดามัน','ใต้'],\n",
        "               ['ภูเก็ต','ใต้','ใต้','ใต้ฝั่งตะวันตก/ใต้ฝั่งอันดามัน','ใต้'],\n",
        "               ['ระนอง','ใต้','ใต้','ใต้ฝั่งตะวันตก/ใต้ฝั่งอันดามัน','ใต้'],\n",
        "               ['สตูล','ใต้','ใต้','ใต้ฝั่งตะวันตก/ใต้ฝั่งอันดามัน','ใต้'],\n",
        "               ['ตรัง','ใต้','ใต้','ใต้ฝั่งตะวันตก/ใต้ฝั่งอันดามัน','ใต้']]                    \n",
        "header = ['จังหวัด','ภูมิภาค (ภูมิศาสตร์)','ภูมิภาค (การเมือง)','ภูมิภาค (อุตุนิยมวิทยา)','ภูมิภาค (การท่องเที่ยว)'] #สร้างตาราง"
      ],
      "metadata": {
        "id": "hPL-7KKdYy9V"
      },
      "execution_count": null,
      "outputs": []
    },
    {
      "cell_type": "code",
      "source": [
        "df_1 = pd.DataFrame.from_records(data_region,columns=header) # สร้างตารางให้จังหวัดและภูมิภาคให้เป็น row\n",
        "df_1"
      ],
      "metadata": {
        "id": "sqoB3w0DZIXH"
      },
      "execution_count": null,
      "outputs": []
    },
    {
      "cell_type": "markdown",
      "source": [
        "# **เชื่อมตารางระหว่าง Data Covid and Data ภูมิศาสตร์**"
      ],
      "metadata": {
        "id": "_XdFWTyKZKon"
      }
    },
    {
      "cell_type": "code",
      "source": [
        "Df_covid_and_geography = df_New_covid.merge(df_1,how='left',left_on='province_of_onset',right_on='จังหวัด')\n",
        "Df_covid_and_geography"
      ],
      "metadata": {
        "id": "Hc8IGtAdZMxe"
      },
      "execution_count": null,
      "outputs": []
    },
    {
      "cell_type": "code",
      "source": [
        "Df_covid_and_geography.isnull().any()"
      ],
      "metadata": {
        "id": "gr2T8tfFZTVl"
      },
      "execution_count": null,
      "outputs": []
    },
    {
      "cell_type": "markdown",
      "source": [
        "import data จำนวนเตียงของรพ สนาม ที่มา : https://www.mhesi.go.th/index.php/content_page/item/5051-641107field_hospital.html?fbclid=IwAR0NTmLXPChB1tGN6YfZ2crZOrse39H1DiLyHfAokLRXEBhUwDhZxxVqMgE"
      ],
      "metadata": {
        "id": "wsbanZtDZXkK"
      }
    },
    {
      "cell_type": "code",
      "source": [
        "data_file_path = os.path.join(path,'จำนวนเตียง-7.11.2021.xlsx')   \n",
        "df_hospital = pd.read_excel(data_file_path) "
      ],
      "metadata": {
        "id": "ue8gzWZBZSFi"
      },
      "execution_count": null,
      "outputs": []
    },
    {
      "cell_type": "code",
      "source": [
        "df_hospital"
      ],
      "metadata": {
        "id": "wy5o1FEWZR_m"
      },
      "execution_count": null,
      "outputs": []
    },
    {
      "cell_type": "markdown",
      "source": [
        "# **เชื่อมตารางทั้งหมด**"
      ],
      "metadata": {
        "id": "KAJD1pH7ZcQh"
      }
    },
    {
      "cell_type": "code",
      "source": [
        "allsum_df = Df_covid_and_geography.merge(df_hospital,how='left',left_on='จังหวัด',right_on='จังหวัด')\n",
        "allsum_df"
      ],
      "metadata": {
        "id": "GJz8JbQ0ZOkn"
      },
      "execution_count": null,
      "outputs": []
    },
    {
      "cell_type": "code",
      "source": [
        "allsum_df.isnull().any()"
      ],
      "metadata": {
        "id": "3S2ZbC49ZOe4"
      },
      "execution_count": null,
      "outputs": []
    },
    {
      "cell_type": "code",
      "source": [
        "allsum_df_drop = allsum_df.dropna(subset=['จังหวัด','ภูมิภาค (ภูมิศาสตร์)','ภูมิภาค (การเมือง)','ภูมิภาค (อุตุนิยมวิทยา)','ภูมิภาค (การท่องเที่ยว)'])       # ลบแถวที่ คอลัมน์ เป็นค่า nan"
      ],
      "metadata": {
        "id": "kf4Ph3JXZOZW"
      },
      "execution_count": null,
      "outputs": []
    },
    {
      "cell_type": "code",
      "source": [
        "allsum_df_drop.isnull().any()"
      ],
      "metadata": {
        "id": "E5DxXmnCZOTj"
      },
      "execution_count": null,
      "outputs": []
    },
    {
      "cell_type": "code",
      "source": [
        "#df_drop_new = allsum_df_drop[['No.','announce_date','sex','province_of_onset','risk','ภูมิภาค (ภูมิศาสตร์)','จำนวน (เตียง)']]\n",
        "#df_drop_new"
      ],
      "metadata": {
        "id": "5aYw639CZOOc"
      },
      "execution_count": null,
      "outputs": []
    },
    {
      "cell_type": "markdown",
      "source": [
        "# **เเบ่งเเยกตามเพศ**"
      ],
      "metadata": {
        "id": "70311MqPZtm9"
      }
    },
    {
      "cell_type": "code",
      "source": [
        "df_drop_new = allsum_df_drop[['sex','province_of_onset']]\n",
        "df_drop_new"
      ],
      "metadata": {
        "id": "pfrAvQtFZOJP"
      },
      "execution_count": null,
      "outputs": []
    },
    {
      "cell_type": "code",
      "source": [
        "df_sex = df_drop_new[df_drop_new['sex'] == 'หญิง' ]\n",
        "df_sex"
      ],
      "metadata": {
        "id": "7PyrPLehZODy"
      },
      "execution_count": null,
      "outputs": []
    },
    {
      "cell_type": "code",
      "source": [
        "#เปลี่ยนชื่อ colums\n",
        "df_sex.rename(columns={'sex':'เพศหญิง'},inplace = True)\n",
        "df_sex"
      ],
      "metadata": {
        "id": "BftZSIKTZN99"
      },
      "execution_count": null,
      "outputs": []
    },
    {
      "cell_type": "code",
      "source": [
        "sex_province = df_sex.groupby(['province_of_onset']).count().reset_index() ## หาจำนวนผู้ติดเชื้อโควิค-19 แบ่งตามจังหวัด\n",
        "sex_province #เพศหญิง"
      ],
      "metadata": {
        "id": "gwqJvXlTZNtC"
      },
      "execution_count": null,
      "outputs": []
    },
    {
      "cell_type": "code",
      "source": [
        "df_sex1 = df_drop_new[df_drop_new['sex'] == 'ชาย' ]\n",
        "df_sex1"
      ],
      "metadata": {
        "id": "fUtyPzTxZNo3"
      },
      "execution_count": null,
      "outputs": []
    },
    {
      "cell_type": "code",
      "source": [
        "df_sex1.rename(columns={'sex':'เพศชาย'},inplace = True)\n",
        "df_sex1"
      ],
      "metadata": {
        "id": "Oah6L-hdZNYJ"
      },
      "execution_count": null,
      "outputs": []
    },
    {
      "cell_type": "code",
      "source": [
        "sex_province1 = df_sex1.groupby(['province_of_onset']).count().reset_index() ## หาจำนวนผู้ติดเชื้อโควิค-19 แบ่งตามจังหวัด\n",
        "sex_province1 #เพศชาย"
      ],
      "metadata": {
        "id": "Z9F410ZBZNTP"
      },
      "execution_count": null,
      "outputs": []
    },
    {
      "cell_type": "markdown",
      "source": [
        "# **รวมตารางเพศเข้าด้วยกัน**"
      ],
      "metadata": {
        "id": "4SMbjEABZ5Lj"
      }
    },
    {
      "cell_type": "code",
      "source": [
        "allsex = sex_province .merge(sex_province1,how='left',left_on='province_of_onset',right_on='province_of_onset')\n",
        "allsex"
      ],
      "metadata": {
        "id": "F-vvp3qXZ8um"
      },
      "execution_count": null,
      "outputs": []
    },
    {
      "cell_type": "markdown",
      "source": [
        "**ภูมิภาค**"
      ],
      "metadata": {
        "id": "2_4AweKqZ-Xx"
      }
    },
    {
      "cell_type": "code",
      "source": [
        "allsum_df_drop.head()"
      ],
      "metadata": {
        "id": "oNUAO7DRZ8r1"
      },
      "execution_count": null,
      "outputs": []
    },
    {
      "cell_type": "code",
      "source": [
        "sum_p = allsum_df_drop[['ภูมิภาค (ภูมิศาสตร์)','province_of_onset']]\n",
        "sum_p"
      ],
      "metadata": {
        "id": "Wl21yauiZ8pB"
      },
      "execution_count": null,
      "outputs": []
    },
    {
      "cell_type": "code",
      "source": [
        "total_p = sum_p.groupby('province_of_onset')['ภูมิภาค (ภูมิศาสตร์)'].count()\n",
        "total_p = pd.DataFrame(total_p)\n",
        "total_p.reset_index() "
      ],
      "metadata": {
        "id": "iSHnVFU-Z8kQ"
      },
      "execution_count": null,
      "outputs": []
    },
    {
      "cell_type": "code",
      "source": [
        "total_p.rename(columns={'ภูมิภาค (ภูมิศาสตร์)':'รวมจำนวนคนติดตามภูมิภาค'},inplace = True)\n",
        "total_p"
      ],
      "metadata": {
        "id": "su3mmv40Z8aG"
      },
      "execution_count": null,
      "outputs": []
    },
    {
      "cell_type": "code",
      "source": [
        "df_1.head()"
      ],
      "metadata": {
        "id": "gQmCs2QVaF4S"
      },
      "execution_count": null,
      "outputs": []
    },
    {
      "cell_type": "code",
      "source": [
        "data_p = df_1[['จังหวัด','ภูมิภาค (ภูมิศาสตร์)']]\n",
        "data_p"
      ],
      "metadata": {
        "id": "Tf_y5XimaF1F"
      },
      "execution_count": null,
      "outputs": []
    },
    {
      "cell_type": "code",
      "source": [
        "all_p= total_p.merge(data_p,how='left',left_on='province_of_onset',right_on='จังหวัด')\n",
        "all_p"
      ],
      "metadata": {
        "id": "lTkrrijpaFyG"
      },
      "execution_count": null,
      "outputs": []
    },
    {
      "cell_type": "code",
      "source": [
        "all_sex_and_p= allsex.merge(all_p,how='left',left_on='province_of_onset',right_on='จังหวัด')\n",
        "all_sex_and_p"
      ],
      "metadata": {
        "id": "i3dsyPVkaFlE"
      },
      "execution_count": null,
      "outputs": []
    },
    {
      "cell_type": "code",
      "source": [
        "df_hospital"
      ],
      "metadata": {
        "id": "ARzHzoQeaLK-"
      },
      "execution_count": null,
      "outputs": []
    },
    {
      "cell_type": "code",
      "source": [
        "all_dataframe= all_sex_and_p.merge(df_hospital,how='left',left_on='จังหวัด',right_on='จังหวัด')\n",
        "all_dataframe"
      ],
      "metadata": {
        "id": "-_pYEmnNaLHa"
      },
      "execution_count": null,
      "outputs": []
    },
    {
      "cell_type": "code",
      "source": [
        "all_dataframe_new = all_dataframe[['province_of_onset','เพศหญิง','เพศชาย','รวมจำนวนคนติดตามภูมิภาค','ภูมิภาค (ภูมิศาสตร์)','จำนวน (เตียง)']]\n",
        "all_dataframe_new"
      ],
      "metadata": {
        "id": "fkAOSFkraLEC"
      },
      "execution_count": null,
      "outputs": []
    },
    {
      "cell_type": "code",
      "source": [
        "all_dataframe_new.to_csv('all_dataframe_new.csv',encoding='utf-8')"
      ],
      "metadata": {
        "id": "YqG1mIpwaQM_"
      },
      "execution_count": null,
      "outputs": []
    },
    {
      "cell_type": "markdown",
      "source": [
        "#ลิ้ง dashborad \n",
        "#https://datastudio.google.com/u/0/reporting/c18069e6-8827-46d1-aa42-329d7aa01e90/page/RALpC?fbclid=IwAR0U1EgOqe2Be2MIuPzgAVhIxTiKaiZ6Da83Oouq4V0w8ZG8jQ7FDx1gIwc"
      ],
      "metadata": {
        "id": "-LvjPg0laUNI"
      }
    }
  ]
}